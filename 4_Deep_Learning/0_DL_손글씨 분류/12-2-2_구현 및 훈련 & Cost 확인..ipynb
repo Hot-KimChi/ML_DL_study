{
 "cells": [
  {
   "cell_type": "markdown",
   "id": "15a9dbf2",
   "metadata": {},
   "source": [
    "### 목차\n",
    "- 인공 신경망으로 복잡한 함수 모델링\n",
    "    - 단일층 신경망 요약\n",
    "    - 다층 신경망 구조\n",
    "    - 정방향 계산으로 신경망 활성화 출력 계산\n",
    "\n",
    "\n",
    "- 손글씨 숫자 분류\n",
    "    - MNIST 데이터셋 구하기\n",
    "    - 다층 퍼셉트론 구현    "
   ]
  },
  {
   "cell_type": "markdown",
   "id": "c1df57ab",
   "metadata": {},
   "source": [
    "## 다층 퍼셉트론 구현"
   ]
  },
  {
   "cell_type": "code",
   "execution_count": 14,
   "id": "b1e35a29",
   "metadata": {},
   "outputs": [
    {
     "data": {
      "text/plain": [
       "(60000, 784)"
      ]
     },
     "execution_count": 14,
     "metadata": {},
     "output_type": "execute_result"
    }
   ],
   "source": [
    "mnist = np.load('mnist_scaled.npz')\n",
    "mnist.files\n",
    "train_input, train_target, test_input, test_target = [mnist[x] for x in mnist.files]\n",
    "train_input.shape"
   ]
  },
  {
   "cell_type": "code",
   "execution_count": 15,
   "id": "271064e6",
   "metadata": {},
   "outputs": [],
   "source": [
    "import numpy as np\n",
    "import sys\n",
    "\n",
    "\n",
    "class NeuralNetMLP(object):\n",
    "    \"\"\"피드포워드 신경망 / 다층 퍼셉트론 분류기\n",
    "\n",
    "    매개변수\n",
    "\n",
    "    ------------\n",
    "    n_hidden : int (기본값: 30)\n",
    "        은닉 유닛 개수\n",
    "    l2 : float (기본값: 0.)\n",
    "        L2 규제의 람다 값\n",
    "        l2=0이면 규제 없음. (기본값)\n",
    "    epochs : int (기본값: 100)\n",
    "        훈련 세트를 반복할 횟수\n",
    "    eta : float (기본값: 0.001)\n",
    "        학습률\n",
    "    shuffle : bool (기본값: True)\n",
    "        에포크마다 훈련 세트를 섞을지 여부\n",
    "        True이면 데이터를 섞어 순서를 바꿉니다\n",
    "    minibatch_size : int (기본값: 1)\n",
    "        미니 배치의 훈련 샘플 개수\n",
    "    seed : int (기본값: None)\n",
    "        가중치와 데이터 셔플링을 위한 난수 초깃값\n",
    "\n",
    "    속성\n",
    "    -----------\n",
    "    eval_ : dict\n",
    "      훈련 에포크마다 비용, 훈련 정확도, 검증 정확도를 수집하기 위한 딕셔너리\n",
    "\n",
    "    \"\"\"\n",
    "    def __init__(self, n_hidden=30,\n",
    "                 l2=0., epochs=100, eta=0.001,\n",
    "                 shuffle=True, minibatch_size=1, seed=None):\n",
    "\n",
    "        self.random = np.random.RandomState(seed)\n",
    "        self.n_hidden = n_hidden\n",
    "        self.l2 = l2\n",
    "        self.epochs = epochs\n",
    "        self.eta = eta\n",
    "        self.shuffle = shuffle\n",
    "        self.minibatch_size = minibatch_size\n",
    "\n",
    "    def _onehot(self, y, n_classes):\n",
    "        \"\"\"레이블을 원-핫 방식으로 인코딩합니다\n",
    "\n",
    "        매개변수\n",
    "        ------------\n",
    "        y : 배열, 크기 = [n_samples]\n",
    "            타깃 값.\n",
    "        n_classes : int\n",
    "            클래스 개수\n",
    "\n",
    "        반환값\n",
    "        -----------\n",
    "        onehot : 배열, 크기 = (n_samples, n_labels)\n",
    "\n",
    "        \"\"\"\n",
    "        onehot = np.zeros((n_classes, y.shape[0]))\n",
    "        for idx, val in enumerate(y.astype(int)):\n",
    "            onehot[val, idx] = 1.\n",
    "        return onehot.T\n",
    "\n",
    "    def _sigmoid(self, z):\n",
    "        \"\"\"로지스틱 함수(시그모이드)를 계산합니다\"\"\"\n",
    "        return 1. / (1. + np.exp(-np.clip(z, -250, 250)))\n",
    "\n",
    "    def _forward(self, X):\n",
    "        \"\"\"정방향 계산을 수행합니다\"\"\"\n",
    "\n",
    "        # 단계 1: 은닉층의 최종 입력\n",
    "        # [n_samples, n_features] dot [n_features, n_hidden]\n",
    "        # -> [n_samples, n_hidden]\n",
    "        z_h = np.dot(X, self.w_h) + self.b_h\n",
    "\n",
    "        # 단계 2: 은닉층의 활성화 출력\n",
    "        a_h = self._sigmoid(z_h)\n",
    "\n",
    "        # 단계 3: 출력층의 최종 입력\n",
    "        # [n_samples, n_hidden] dot [n_hidden, n_classlabels]\n",
    "        # -> [n_samples, n_classlabels]\n",
    "        z_out = np.dot(a_h, self.w_out) + self.b_out\n",
    "\n",
    "        # 단계 4: 출력층의 활성화 출력\n",
    "        a_out = self._sigmoid(z_out)\n",
    "\n",
    "        return z_h, a_h, z_out, a_out\n",
    "\n",
    "    def _compute_cost(self, y_enc, output):\n",
    "        \"\"\"비용 함수를 계산합니다\n",
    "\n",
    "        매개변수\n",
    "        ----------\n",
    "        y_enc : 배열, 크기 = (n_samples, n_labels)\n",
    "            원-핫 인코딩된 클래스 레이블\n",
    "        output : 배열, 크기 = [n_samples, n_output_units]\n",
    "            출력층의 활성화 출력 (정방향 계산)\n",
    "\n",
    "        반환값\n",
    "        ---------\n",
    "        cost : float\n",
    "            규제가 포함된 비용\n",
    "\n",
    "        \"\"\"\n",
    "        L2_term = (self.l2 *\n",
    "                   (np.sum(self.w_h ** 2.) +\n",
    "                    np.sum(self.w_out ** 2.)))\n",
    "\n",
    "        term1 = -y_enc * (np.log(output))\n",
    "        term2 = (1. - y_enc) * np.log(1. - output)\n",
    "        cost = np.sum(term1 - term2) + L2_term\n",
    "        \n",
    "        # 다른 데이터셋에서는 극단적인 (0 또는 1에 가까운) 활성화 값이 나올 수 있습니다.\n",
    "        # 파이썬과 넘파이의 수치 연산이 불안정하기 때문에 \"ZeroDivisionError\"가 발생할 수 있습니다.\n",
    "        # 즉, log(0)을 평가하는 경우입니다.\n",
    "        # 이 문제를 해결하기 위해 로그 함수에 전달되는 활성화 값에 작은 상수를 더합니다.\n",
    "        #\n",
    "        # 예를 들어:\n",
    "        #\n",
    "        # term1 = -y_enc * (np.log(output + 1e-5))\n",
    "        # term2 = (1. - y_enc) * np.log(1. - output + 1e-5)\n",
    "        \n",
    "        return cost\n",
    "\n",
    "    def predict(self, X):\n",
    "        \"\"\"클래스 레이블을 예측합니다\n",
    "\n",
    "        매개변수\n",
    "        -----------\n",
    "        X : 배열, 크기 = [n_samples, n_features]\n",
    "            원본 특성의 입력층\n",
    "\n",
    "        반환값:\n",
    "        ----------\n",
    "        y_pred : 배열, 크기 = [n_samples]\n",
    "            예측된 클래스 레이블\n",
    "\n",
    "        \"\"\"\n",
    "        z_h, a_h, z_out, a_out = self._forward(X)\n",
    "        y_pred = np.argmax(z_out, axis=1)\n",
    "        return y_pred\n",
    "\n",
    "    def fit(self, X_train, y_train, X_valid, y_valid):\n",
    "        \"\"\"훈련 데이터에서 가중치를 학습합니다\n",
    "\n",
    "        매개변수\n",
    "        -----------\n",
    "        X_train : 배열, 크기 = [n_samples, n_features]\n",
    "            원본 특성의 입력층\n",
    "        y_train : 배열, 크기 = [n_samples]\n",
    "            타깃 클래스 레이블\n",
    "        X_valid : 배열, 크기 = [n_samples, n_features]\n",
    "            훈련하는 동안 검증에 사용할 샘플 특성\n",
    "        y_valid : 배열, 크기 = [n_samples]\n",
    "            훈련하는 동안 검증에 사용할 샘플 레이블\n",
    "\n",
    "        반환값:\n",
    "        ----------\n",
    "        self\n",
    "\n",
    "        \"\"\"\n",
    "        n_output = np.unique(y_train).shape[0]  # number of class labels\n",
    "        n_features = X_train.shape[1]\n",
    "\n",
    "        ########################\n",
    "        # 가중치 초기화\n",
    "        ########################\n",
    "\n",
    "        # 입력층 -> 은닉층 사이의 가중치\n",
    "        self.b_h = np.zeros(self.n_hidden)\n",
    "        self.w_h = self.random.normal(loc=0.0, scale=0.1,\n",
    "                                      size=(n_features, self.n_hidden))\n",
    "\n",
    "        # 은닉층 -> 출력층 사이의 가중치\n",
    "        self.b_out = np.zeros(n_output)\n",
    "        self.w_out = self.random.normal(loc=0.0, scale=0.1,\n",
    "                                        size=(self.n_hidden, n_output))\n",
    "\n",
    "        epoch_strlen = len(str(self.epochs))  # 출력 포맷을 위해\n",
    "        self.eval_ = {'cost': [], 'train_acc': [], 'valid_acc': []}\n",
    "\n",
    "        y_train_enc = self._onehot(y_train, n_output)\n",
    "\n",
    "        # 훈련 에포크를 반복합니다\n",
    "        for i in range(self.epochs):\n",
    "\n",
    "            # 미니 배치로 반복합니다\n",
    "            indices = np.arange(X_train.shape[0])\n",
    "\n",
    "            if self.shuffle:\n",
    "                self.random.shuffle(indices)\n",
    "\n",
    "            for start_idx in range(0, indices.shape[0] - self.minibatch_size +\n",
    "                                   1, self.minibatch_size):\n",
    "                batch_idx = indices[start_idx:start_idx + self.minibatch_size]\n",
    "\n",
    "                # 정방향 계산\n",
    "                z_h, a_h, z_out, a_out = self._forward(X_train[batch_idx])\n",
    "\n",
    "                ##################\n",
    "                # 역전파\n",
    "                ##################\n",
    "\n",
    "                # [n_examples, n_classlabels]\n",
    "                delta_out = a_out - y_train_enc[batch_idx]\n",
    "\n",
    "                # [n_examples, n_hidden]\n",
    "                sigmoid_derivative_h = a_h * (1. - a_h)\n",
    "\n",
    "                # [n_examples, n_classlabels] dot [n_classlabels, n_hidden]\n",
    "                # -> [n_examples, n_hidden]\n",
    "                delta_h = (np.dot(delta_out, self.w_out.T) *\n",
    "                           sigmoid_derivative_h)\n",
    "\n",
    "                # [n_features, n_examples] dot [n_examples, n_hidden]\n",
    "                # -> [n_features, n_hidden]\n",
    "                grad_w_h = np.dot(X_train[batch_idx].T, delta_h)\n",
    "                grad_b_h = np.sum(delta_h, axis=0)\n",
    "\n",
    "                # [n_hidden, n_examples] dot [n_examples, n_classlabels]\n",
    "                # -> [n_hidden, n_classlabels]\n",
    "                grad_w_out = np.dot(a_h.T, delta_out)\n",
    "                grad_b_out = np.sum(delta_out, axis=0)\n",
    "\n",
    "                # 규제와 가중치 업데이트\n",
    "                delta_w_h = (grad_w_h + self.l2*self.w_h)\n",
    "                delta_b_h = grad_b_h # 편향은 규제하지 않습니다\n",
    "                self.w_h -= self.eta * delta_w_h\n",
    "                self.b_h -= self.eta * delta_b_h\n",
    "\n",
    "                delta_w_out = (grad_w_out + self.l2*self.w_out)\n",
    "                delta_b_out = grad_b_out  # 편향은 규제하지 않습니다\n",
    "                self.w_out -= self.eta * delta_w_out\n",
    "                self.b_out -= self.eta * delta_b_out\n",
    "\n",
    "            #############\n",
    "            # 평가\n",
    "            #############\n",
    "\n",
    "            # 훈련하는 동안 에포크마다 평가합니다\n",
    "            z_h, a_h, z_out, a_out = self._forward(X_train)\n",
    "            \n",
    "            cost = self._compute_cost(y_enc=y_train_enc,\n",
    "                                      output=a_out)\n",
    "\n",
    "            y_train_pred = self.predict(X_train)\n",
    "            y_valid_pred = self.predict(X_valid)\n",
    "\n",
    "            train_acc = ((np.sum(y_train == y_train_pred)).astype(np.float) /\n",
    "                         X_train.shape[0])\n",
    "            valid_acc = ((np.sum(y_valid == y_valid_pred)).astype(np.float) /\n",
    "                         X_valid.shape[0])\n",
    "\n",
    "            sys.stderr.write('\\r%0*d/%d | 비용: %.2f '\n",
    "                             '| 훈련/검증 정확도: %.2f%%/%.2f%% ' %\n",
    "                             (epoch_strlen, i+1, self.epochs, cost,\n",
    "                              train_acc*100, valid_acc*100))\n",
    "            sys.stderr.flush()\n",
    "\n",
    "            self.eval_['cost'].append(cost)\n",
    "            self.eval_['train_acc'].append(train_acc)\n",
    "            self.eval_['valid_acc'].append(valid_acc)\n",
    "\n",
    "        return self"
   ]
  },
  {
   "cell_type": "code",
   "execution_count": 16,
   "id": "d4f59548",
   "metadata": {},
   "outputs": [],
   "source": [
    "n_epochs = 200"
   ]
  },
  {
   "cell_type": "markdown",
   "id": "d7cd8d52",
   "metadata": {},
   "source": [
    "### 매개변수 설정 및 훈련."
   ]
  },
  {
   "cell_type": "code",
   "execution_count": 17,
   "id": "2f148b20",
   "metadata": {},
   "outputs": [
    {
     "name": "stderr",
     "output_type": "stream",
     "text": [
      "c:\\python\\python37\\lib\\site-packages\\ipykernel_launcher.py:251: DeprecationWarning: `np.float` is a deprecated alias for the builtin `float`. To silence this warning, use `float` by itself. Doing this will not modify any behavior and is safe. If you specifically wanted the numpy scalar type, use `np.float64` here.\n",
      "Deprecated in NumPy 1.20; for more details and guidance: https://numpy.org/devdocs/release/1.20.0-notes.html#deprecations\n",
      "c:\\python\\python37\\lib\\site-packages\\ipykernel_launcher.py:253: DeprecationWarning: `np.float` is a deprecated alias for the builtin `float`. To silence this warning, use `float` by itself. Doing this will not modify any behavior and is safe. If you specifically wanted the numpy scalar type, use `np.float64` here.\n",
      "Deprecated in NumPy 1.20; for more details and guidance: https://numpy.org/devdocs/release/1.20.0-notes.html#deprecations\n",
      "200/200 | 비용: 5065.78 | 훈련/검증 정확도: 99.28%/97.98%  "
     ]
    },
    {
     "data": {
      "text/plain": [
       "<__main__.NeuralNetMLP at 0x15c44356e08>"
      ]
     },
     "execution_count": 17,
     "metadata": {},
     "output_type": "execute_result"
    }
   ],
   "source": [
    "nn = NeuralNetMLP(n_hidden=100, \n",
    "                  l2=0.01, \n",
    "                  epochs=n_epochs, \n",
    "                  eta=0.0005,\n",
    "                  minibatch_size=100, \n",
    "                  shuffle=True,\n",
    "                  seed=1)\n",
    "\n",
    "nn.fit(X_train=train_input[:55000], \n",
    "       y_train=train_target[:55000],\n",
    "       X_valid=train_input[55000:],\n",
    "       y_valid=train_target[55000:])"
   ]
  },
  {
   "cell_type": "markdown",
   "id": "02bdbc89",
   "metadata": {},
   "source": [
    "### epoch마다 비용 확인하기."
   ]
  },
  {
   "cell_type": "code",
   "execution_count": 18,
   "id": "d51a8dd7",
   "metadata": {},
   "outputs": [
    {
     "data": {
      "image/png": "[encoded data removed]",
      "text/plain": [
       "<Figure size 432x288 with 1 Axes>"
      ]
     },
     "metadata": {
      "needs_background": "light"
     },
     "output_type": "display_data"
    }
   ],
   "source": [
    "import matplotlib.pyplot as plt\n",
    "\n",
    "plt.plot(range(nn.epochs), nn.eval_['cost'])\n",
    "plt.ylabel('Cost')\n",
    "plt.xlabel('Epochs')\n",
    "plt.show()"
   ]
  },
  {
   "cell_type": "markdown",
   "id": "f0fa3143",
   "metadata": {},
   "source": [
    "## Train 데이터와 validation 데이터의 정확도 확인"
   ]
  },
  {
   "cell_type": "code",
   "execution_count": 19,
   "id": "66db623a",
   "metadata": {},
   "outputs": [
    {
     "data": {
      "image/png": "[encoded data removed]",
      "text/plain": [
       "<Figure size 432x288 with 1 Axes>"
      ]
     },
     "metadata": {
      "needs_background": "light"
     },
     "output_type": "display_data"
    }
   ],
   "source": [
    "plt.plot(range(nn.epochs), nn.eval_['train_acc'], \n",
    "         label='Training')\n",
    "plt.plot(range(nn.epochs), nn.eval_['valid_acc'], \n",
    "         label='Validation', linestyle='--')\n",
    "plt.ylabel('Accuracy')\n",
    "plt.xlabel('Epochs')\n",
    "plt.legend(loc='lower right')\n",
    "plt.show()"
   ]
  },
  {
   "cell_type": "markdown",
   "id": "c1815a17",
   "metadata": {},
   "source": [
    "### 테스트 데이터셋에서 예측 정확도 계산"
   ]
  },
  {
   "cell_type": "code",
   "execution_count": 22,
   "id": "6f0bdfcb",
   "metadata": {},
   "outputs": [
    {
     "name": "stdout",
     "output_type": "stream",
     "text": [
      "테스트 정확도: 97.54%\n"
     ]
    },
    {
     "name": "stderr",
     "output_type": "stream",
     "text": [
      "c:\\python\\python37\\lib\\site-packages\\ipykernel_launcher.py:3: DeprecationWarning: `np.float` is a deprecated alias for the builtin `float`. To silence this warning, use `float` by itself. Doing this will not modify any behavior and is safe. If you specifically wanted the numpy scalar type, use `np.float64` here.\n",
      "Deprecated in NumPy 1.20; for more details and guidance: https://numpy.org/devdocs/release/1.20.0-notes.html#deprecations\n",
      "  This is separate from the ipykernel package so we can avoid doing imports until\n"
     ]
    }
   ],
   "source": [
    "y_test_pred = nn.predict(test_input)\n",
    "acc = (np.sum(test_target == y_test_pred)\n",
    "       .astype(np.float) / test_input.shape[0])\n",
    "\n",
    "print('테스트 정확도: %.2f%%' % (acc * 100))"
   ]
  },
  {
   "cell_type": "markdown",
   "id": "b184ec12",
   "metadata": {},
   "source": [
    "### MLP구현이 샘플 이미지를 어떻게 판단하는지 확인."
   ]
  },
  {
   "cell_type": "code",
   "execution_count": 23,
   "id": "394c1d30",
   "metadata": {},
   "outputs": [
    {
     "data": {
      "image/png": "[encoded data removed]",
      "text/plain": [
       "<Figure size 432x288 with 25 Axes>"
      ]
     },
     "metadata": {},
     "output_type": "display_data"
    }
   ],
   "source": [
    "miscl_img = test_input[test_target != y_test_pred][:25]\n",
    "correct_lab = test_target[test_target != y_test_pred][:25]\n",
    "miscl_lab = y_test_pred[test_target != y_test_pred][:25]\n",
    "\n",
    "fig, ax = plt.subplots(nrows=5, ncols=5, sharex=True, sharey=True)\n",
    "ax = ax.flatten()\n",
    "for i in range(25):\n",
    "    img = miscl_img[i].reshape(28, 28)\n",
    "    ax[i].imshow(img, cmap='Greys', interpolation='nearest')\n",
    "    ax[i].set_title('%d) t: %d p: %d' % (i+1, correct_lab[i], miscl_lab[i]))\n",
    "\n",
    "ax[0].set_xticks([])\n",
    "ax[0].set_yticks([])\n",
    "plt.tight_layout()\n",
    "plt.show()"
   ]
  }
 ],
 "metadata": {
  "kernelspec": {
   "display_name": "Python 3 (ipykernel)",
   "language": "python",
   "name": "python3"
  },
  "language_info": {
   "codemirror_mode": {
    "name": "ipython",
    "version": 3
   },
   "file_extension": ".py",
   "mimetype": "text/x-python",
   "name": "python",
   "nbconvert_exporter": "python",
   "pygments_lexer": "ipython3",
   "version": "3.7.9"
  }
 },
 "nbformat": 4,
 "nbformat_minor": 5
}
