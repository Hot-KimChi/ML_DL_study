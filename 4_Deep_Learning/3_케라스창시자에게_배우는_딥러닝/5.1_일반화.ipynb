{
 "cells": [
  {
   "cell_type": "code",
   "execution_count": 1,
   "metadata": {},
   "outputs": [
    {
     "name": "stdout",
     "output_type": "stream",
     "text": [
      "Downloading data from https://storage.googleapis.com/tensorflow/tf-keras-datasets/mnist.npz\n",
      "11490434/11490434 [==============================] - 1s 0us/step\n"
     ]
    }
   ],
   "source": [
    "from tensorflow.keras.datasets import mnist\n",
    "import numpy as np"
   ]
  },
  {
   "attachments": {},
   "cell_type": "markdown",
   "metadata": {},
   "source": [
    ">##### MNIST에 백색 잡음 픽셀과 0픽셀 추가하기"
   ]
  },
  {
   "cell_type": "code",
   "execution_count": 6,
   "metadata": {},
   "outputs": [
    {
     "name": "stdout",
     "output_type": "stream",
     "text": [
      "원래 image size: (60000, 784)\n",
      "Noise 추가 image size: (60000, 1568)\n",
      "0픽셀 추가 image size: (60000, 1568)\n"
     ]
    }
   ],
   "source": [
    "(train_images, train_labels), _ = mnist.load_data()                     ## data_load\n",
    "train_images = train_images.reshape(-1, 28*28)                          ## N sample x height x width => N sample x (height*width) 차원 변경.\n",
    "print(\"원래 image size:\", train_images.shape)\n",
    "\n",
    "## Normalization(정규화 진행)\n",
    "train_images = train_images.astype(\"float32\") / 255\n",
    "\n",
    "## 노이즈 추가\n",
    "train_images_with_noise_channels = np.concatenate([train_images, np.random.random((len(train_images), 28*28))], axis=1)\n",
    "print(\"Noise 추가 image size:\", train_images_with_noise_channels.shape)\n",
    "\n",
    "## 0 픽셀 추가하기\n",
    "train_images_with_zeros_channels = np.concatenate([train_images, np.zeros((len(train_images), 28*28))], axis=1)\n",
    "print(\"0픽셀 추가 image size:\", train_images_with_zeros_channels.shape)"
   ]
  },
  {
   "attachments": {},
   "cell_type": "markdown",
   "metadata": {},
   "source": [
    ">##### 백색 잡음과 0을 추가한 MNIST 데이터에서 모델 훈련"
   ]
  },
  {
   "cell_type": "code",
   "execution_count": 7,
   "metadata": {},
   "outputs": [],
   "source": [
    "from tensorflow import keras\n",
    "from tensorflow.keras import layers"
   ]
  },
  {
   "cell_type": "code",
   "execution_count": 8,
   "metadata": {},
   "outputs": [],
   "source": [
    "def get_model():\n",
    "    model = keras.Sequential()\n",
    "    model.add(keras.layers.Dense(512, activation=\"relu\"))\n",
    "    model.add(keras.layers.Dense(10, activation=\"softmax\"))\n",
    "    \n",
    "    model.compile(optimizer=\"rmsprop\",\n",
    "                  loss=\"sparse_categorical_crossentropy\",\n",
    "                  metrics=[\"accuracy\"])\n",
    "    \n",
    "    return model"
   ]
  },
  {
   "cell_type": "code",
   "execution_count": 9,
   "metadata": {},
   "outputs": [
    {
     "name": "stdout",
     "output_type": "stream",
     "text": [
      "Epoch 1/10\n",
      "375/375 [==============================] - 6s 15ms/step - loss: 0.6148 - accuracy: 0.8135 - val_loss: 0.3467 - val_accuracy: 0.8850\n",
      "Epoch 2/10\n",
      "375/375 [==============================] - 5s 14ms/step - loss: 0.2534 - accuracy: 0.9223 - val_loss: 0.2131 - val_accuracy: 0.9358\n",
      "Epoch 3/10\n",
      "375/375 [==============================] - 5s 14ms/step - loss: 0.1657 - accuracy: 0.9485 - val_loss: 0.2179 - val_accuracy: 0.9334\n",
      "Epoch 4/10\n",
      "375/375 [==============================] - 5s 14ms/step - loss: 0.1184 - accuracy: 0.9626 - val_loss: 0.1288 - val_accuracy: 0.9638\n",
      "Epoch 5/10\n",
      "375/375 [==============================] - 6s 15ms/step - loss: 0.0887 - accuracy: 0.9715 - val_loss: 0.1316 - val_accuracy: 0.9613\n",
      "Epoch 6/10\n",
      "375/375 [==============================] - 6s 15ms/step - loss: 0.0655 - accuracy: 0.9796 - val_loss: 0.1517 - val_accuracy: 0.9554\n",
      "Epoch 7/10\n",
      "375/375 [==============================] - 5s 14ms/step - loss: 0.0487 - accuracy: 0.9842 - val_loss: 0.1245 - val_accuracy: 0.9656\n",
      "Epoch 8/10\n",
      "375/375 [==============================] - 5s 13ms/step - loss: 0.0352 - accuracy: 0.9888 - val_loss: 0.1635 - val_accuracy: 0.9562\n",
      "Epoch 9/10\n",
      "375/375 [==============================] - 5s 14ms/step - loss: 0.0274 - accuracy: 0.9910 - val_loss: 0.1367 - val_accuracy: 0.9674\n",
      "Epoch 10/10\n",
      "375/375 [==============================] - 5s 14ms/step - loss: 0.0197 - accuracy: 0.9936 - val_loss: 0.1920 - val_accuracy: 0.9546\n",
      "Epoch 1/10\n",
      "375/375 [==============================] - 6s 14ms/step - loss: 0.2873 - accuracy: 0.9178 - val_loss: 0.1531 - val_accuracy: 0.9532\n",
      "Epoch 2/10\n",
      "375/375 [==============================] - 5s 14ms/step - loss: 0.1202 - accuracy: 0.9648 - val_loss: 0.1038 - val_accuracy: 0.9680\n",
      "Epoch 3/10\n",
      "375/375 [==============================] - 5s 14ms/step - loss: 0.0805 - accuracy: 0.9760 - val_loss: 0.0889 - val_accuracy: 0.9734\n",
      "Epoch 4/10\n",
      "375/375 [==============================] - 6s 15ms/step - loss: 0.0569 - accuracy: 0.9828 - val_loss: 0.0922 - val_accuracy: 0.9730\n",
      "Epoch 5/10\n",
      "375/375 [==============================] - 5s 14ms/step - loss: 0.0433 - accuracy: 0.9872 - val_loss: 0.0816 - val_accuracy: 0.9768\n",
      "Epoch 6/10\n",
      "375/375 [==============================] - 5s 15ms/step - loss: 0.0320 - accuracy: 0.9903 - val_loss: 0.0867 - val_accuracy: 0.9760\n",
      "Epoch 7/10\n",
      "375/375 [==============================] - 6s 15ms/step - loss: 0.0249 - accuracy: 0.9926 - val_loss: 0.0785 - val_accuracy: 0.9787\n",
      "Epoch 8/10\n",
      "375/375 [==============================] - 5s 14ms/step - loss: 0.0191 - accuracy: 0.9945 - val_loss: 0.0867 - val_accuracy: 0.9784\n",
      "Epoch 9/10\n",
      "375/375 [==============================] - 6s 15ms/step - loss: 0.0150 - accuracy: 0.9956 - val_loss: 0.0840 - val_accuracy: 0.9786\n",
      "Epoch 10/10\n",
      "375/375 [==============================] - 6s 15ms/step - loss: 0.0111 - accuracy: 0.9967 - val_loss: 0.0872 - val_accuracy: 0.9782\n"
     ]
    }
   ],
   "source": [
    "model = get_model()\n",
    "history_noise = model.fit(train_images_with_noise_channels, \n",
    "                          train_labels,\n",
    "                          epochs=10,\n",
    "                          batch_size=128,\n",
    "                          validation_split=0.2)\n",
    "\n",
    "\n",
    "model = get_model()\n",
    "history_zeros = model.fit(train_images_with_zeros_channels,\n",
    "                          train_labels,\n",
    "                          epochs=10,\n",
    "                          batch_size=128,\n",
    "                          validation_split=0.2)"
   ]
  },
  {
   "attachments": {},
   "cell_type": "markdown",
   "metadata": {},
   "source": [
    ">##### 검증 정확도 비교 그래프"
   ]
  },
  {
   "cell_type": "code",
   "execution_count": 10,
   "metadata": {},
   "outputs": [
    {
     "data": {
      "image/png": "[encoded data removed]",
      "text/plain": [
       "<Figure size 432x288 with 1 Axes>"
      ]
     },
     "metadata": {
      "needs_background": "light"
     },
     "output_type": "display_data"
    }
   ],
   "source": [
    "import matplotlib.pyplot as plt\n",
    "\n",
    "val_acc_noise = history_noise.history[\"val_accuracy\"]\n",
    "val_acc_zeros = history_zeros.history[\"val_accuracy\"]\n",
    "\n",
    "epochs = range(1, 11)\n",
    "\n",
    "plt.plot(epochs, val_acc_noise, \"b-\",\n",
    "         label=\"validation accuracy with noise channels\")\n",
    "plt.plot(epochs, val_acc_zeros, \"b--\",\n",
    "         label=\"validation accuracy with zeros channels\")\n",
    "\n",
    "plt.title(\"Effect of noise channels on validation accuracy\")\n",
    "plt.xlabel(\"Epochs\")\n",
    "plt.ylabel(\"Accuracy\")\n",
    "plt.legend()\n",
    "plt.show()"
   ]
  },
  {
   "attachments": {},
   "cell_type": "markdown",
   "metadata": {},
   "source": [
    "> 잡음이 섞인 데이터에서 훈련된 모델의 검증 정확도가 1퍼센트 포인트 정도 낮다.\n",
    "- 순전히 가짜 상관관계의 영향\n",
    "- 잡음을 더 많이 섞을수록 정확도는 더 감소\n",
    "\n",
    "> 잡음 특성은 필연적으로 과대적합(overfitting)을 유발\n",
    "- 특성이 모델에 유익한지 또는 모델을 혼란스럽게 만드는지 확실하지 않다면 훈련 전에 **특성 선택**을 수행하는 것이 일반적\n",
    "- 예를 들어 IMDB 데이터에서 가장 자주 등장하는 최상위 1만개 단어로 제한하는 것은 세련되지 않은 특성 선택 방법\n",
    "- 특성 선택에 일반적인 방법은 가용한 각 특성에 대해 어떤 유용성 점수를 계산(특성과 레이블 사이의 얼마나 유익한지 확인)\n",
    "- 그 다음에 일정 임계 값을 넘긴 특성만 사용"
   ]
  }
 ],
 "metadata": {
  "kernelspec": {
   "display_name": "Python 3",
   "language": "python",
   "name": "python3"
  },
  "language_info": {
   "codemirror_mode": {
    "name": "ipython",
    "version": 3
   },
   "file_extension": ".py",
   "mimetype": "text/x-python",
   "name": "python",
   "nbconvert_exporter": "python",
   "pygments_lexer": "ipython3",
   "version": "3.7.9"
  },
  "orig_nbformat": 4,
  "vscode": {
   "interpreter": {
    "hash": "1f2ac25b4a6d870602abfa5d74e7d6f1ae274ba9e86645830384575c0e5c89f3"
   }
  }
 },
 "nbformat": 4,
 "nbformat_minor": 2
}
