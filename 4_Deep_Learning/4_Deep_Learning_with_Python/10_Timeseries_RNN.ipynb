{
 "cells": [
  {
   "cell_type": "markdown",
   "id": "154320dc-1039-4d11-a5f1-7fb68bf31f21",
   "metadata": {},
   "source": [
    ">### 10.1_다양한 종률의 시계열 작업\n",
    "- 정의: 일정한 간격으로 측정하여 얻은 모든 데이터   //   예) 주식, 도시의 시간별 전력 소모량, 날씨, 인간의 활동 패턴\n",
    "- 가장 일반적인 시계열 관련 작업은 예측(forecasting)이나 분류, 이벤트 감지, 이상치 탐지를 할 수 있음."
   ]
  },
  {
   "cell_type": "markdown",
   "id": "63eeb6e0-2c90-4a6c-afef-5eec9807eff3",
   "metadata": {},
   "source": [
    ">### 10.2_온도 예측 문제"
   ]
  },
  {
   "cell_type": "code",
   "execution_count": 2,
   "id": "3d8c7c54-bae9-4af7-bdd0-2857844e34c4",
   "metadata": {},
   "outputs": [
    {
     "ename": "SyntaxError",
     "evalue": "invalid syntax (1121213383.py, line 1)",
     "output_type": "error",
     "traceback": [
      "\u001b[1;36m  Cell \u001b[1;32mIn[2], line 1\u001b[1;36m\u001b[0m\n\u001b[1;33m    wget https://s3.amazonaws.com/keras-datasets/jena_climate_2009_2016.csv.zip\u001b[0m\n\u001b[1;37m         ^\u001b[0m\n\u001b[1;31mSyntaxError\u001b[0m\u001b[1;31m:\u001b[0m invalid syntax\n"
     ]
    }
   ],
   "source": [
    "wget https://s3.amazonaws.com/keras-datasets/jena_climate_2009_2016.csv.zip"
   ]
  }
 ],
 "metadata": {
  "kernelspec": {
   "display_name": "Python 3 (ipykernel)",
   "language": "python",
   "name": "python3"
  },
  "language_info": {
   "codemirror_mode": {
    "name": "ipython",
    "version": 3
   },
   "file_extension": ".py",
   "mimetype": "text/x-python",
   "name": "python",
   "nbconvert_exporter": "python",
   "pygments_lexer": "ipython3",
   "version": "3.10.10"
  }
 },
 "nbformat": 4,
 "nbformat_minor": 5
}
