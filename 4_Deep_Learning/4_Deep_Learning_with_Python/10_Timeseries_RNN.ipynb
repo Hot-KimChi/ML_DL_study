{
 "cells": [
  {
   "cell_type": "markdown",
   "id": "154320dc-1039-4d11-a5f1-7fb68bf31f21",
   "metadata": {},
   "source": [
    ">### 10.1_다양한 종률의 시계열 작업\n",
    "- 정의: 일정한 간격으로 측정하여 얻은 모든 데이터   //   예) 주식, 도시의 시간별 전력 소모량, 날씨, 인간의 활동 패턴\n",
    "- 가장 일반적인 시계열 관련 작업은 예측(forecasting)이나 분류, 이벤트 감지, 이상치 탐지를 할 수 있음."
   ]
  },
  {
   "cell_type": "markdown",
   "id": "63eeb6e0-2c90-4a6c-afef-5eec9807eff3",
   "metadata": {},
   "source": [
    ">### 10.2_온도 예측 문제"
   ]
  },
  {
   "cell_type": "code",
   "execution_count": 1,
   "id": "3d8c7c54-bae9-4af7-bdd0-2857844e34c4",
   "metadata": {},
   "outputs": [
    {
     "name": "stdout",
     "output_type": "stream",
     "text": [
      "100% [........................................................................] 13565642 / 13565642"
     ]
    },
    {
     "data": {
      "text/plain": [
       "'jena_climate_2009_2016.csv.zip'"
      ]
     },
     "execution_count": 1,
     "metadata": {},
     "output_type": "execute_result"
    }
   ],
   "source": [
    "## 데이터 다운로드\n",
    "import wget\n",
    "\n",
    "url = \"https://s3.amazonaws.com/keras-datasets/jena_climate_2009_2016.csv.zip\"\n",
    "wget.download(url)"
   ]
  },
  {
   "cell_type": "code",
   "execution_count": 12,
   "id": "8627a923-25ee-4078-b353-78555790e81c",
   "metadata": {},
   "outputs": [],
   "source": [
    "## 경로 생성 및 압축해제\n",
    "import zipfile\n",
    "\n",
    "zip_file = \"jena_climate_2009_2016.csv.zip\"\n",
    "unzip_path = \"C:/Users/inseo/PycharmProjects/ML_DL_study/4_Deep_Learning/4_Deep_Learning_with_Python/Dataset\"\n",
    "\n",
    "with zipfile.ZipFile(zip_file, 'r') as zip:\n",
    "    zip.extractall(unzip_path)"
   ]
  },
  {
   "cell_type": "code",
   "execution_count": 20,
   "id": "02c9ac66-05f6-43af-901b-2998c522df57",
   "metadata": {},
   "outputs": [
    {
     "name": "stdout",
     "output_type": "stream",
     "text": [
      "['\"Date Time\"', '\"p (mbar)\"', '\"T (degC)\"', '\"Tpot (K)\"', '\"Tdew (degC)\"', '\"rh (%)\"', '\"VPmax (mbar)\"', '\"VPact (mbar)\"', '\"VPdef (mbar)\"', '\"sh (g/kg)\"', '\"H2OC (mmol/mol)\"', '\"rho (g/m**3)\"', '\"wv (m/s)\"', '\"max. wv (m/s)\"', '\"wd (deg)\"']\n",
      "420451\n"
     ]
    }
   ],
   "source": [
    "import os\n",
    "\n",
    "filename = \"jena_climate_2009_2016.csv\"\n",
    "\n",
    "fname = os.path.join(unzip_path, filename)\n",
    "\n",
    "with open(fname) as f:\n",
    "    data = f.read()\n",
    "\n",
    "lines = data.split(\"\\n\")\n",
    "header = lines[0].split(\",\")\n",
    "lines = lines[1:]\n",
    "\n",
    "print(header)\n",
    "print(len(lines))"
   ]
  }
 ],
 "metadata": {
  "kernelspec": {
   "display_name": "Python 3 (ipykernel)",
   "language": "python",
   "name": "python3"
  },
  "language_info": {
   "codemirror_mode": {
    "name": "ipython",
    "version": 3
   },
   "file_extension": ".py",
   "mimetype": "text/x-python",
   "name": "python",
   "nbconvert_exporter": "python",
   "pygments_lexer": "ipython3",
   "version": "3.10.10"
  }
 },
 "nbformat": 4,
 "nbformat_minor": 5
}
