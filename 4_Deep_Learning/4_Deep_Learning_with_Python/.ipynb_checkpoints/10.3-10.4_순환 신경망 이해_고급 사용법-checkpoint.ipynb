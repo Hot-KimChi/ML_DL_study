{
 "cells": [
  {
   "cell_type": "markdown",
   "id": "7d99965f-e681-4120-8998-473e9cbfbe42",
   "metadata": {},
   "source": [
    ">### 10.3_순환 신경망 이해하기\n",
    "- 밀집 연결 모델, 컨브넷처럼 모든 신경망의 특징은 메모리가 없다.\n",
    "- 네트워크에 주입되는 입력은 개별적으로 처리되며 입력 간에 유지되는 상태가 없다.\n",
    "- 그렇기에 시계열 데이터 포인트를 처리하려면 네트워크에 전체 시퀀스를 주입해야 한다.\n",
    "    - 즉 5일치 데이터를 펼쳐서 하나의 큰 벡터로 만들어서 처리(피드포워드 네트워크) "
   ]
  },
  {
   "cell_type": "markdown",
   "id": "1e0ecd33-bb44-4e97-b665-3f49b72a9046",
   "metadata": {},
   "source": [
    ">### 10.3.1_케라스의 순환 층\n",
    "- 어떤 길이의 시퀀스도 처리할 수 있는 RNN(sharp 매개변수에 timesteps 항목에 None으로 지정)"
   ]
  },
  {
   "cell_type": "code",
   "execution_count": 3,
   "id": "0f8098d1-272d-41a9-a370-71af16812727",
   "metadata": {},
   "outputs": [
    {
     "name": "stdout",
     "output_type": "stream",
     "text": [
      "(None, 16)\n"
     ]
    }
   ],
   "source": [
    "from tensorflow import keras\n",
    "from tensorflow.keras import layers\n",
    "\n",
    "num_features = 14\n",
    "inputs = keras.Input(shape=(None, num_features))\n",
    "outputs = layers.SimpleRNN(16)(inputs)\n",
    "\n",
    "print(outputs.shape)"
   ]
  },
  {
   "cell_type": "markdown",
   "id": "fefebaaf-6c49-4084-b96b-24d0c4bbf7e8",
   "metadata": {},
   "source": [
    ">### 케라스에 있는 모든 순환 층은 두가지 모드로 실행 가능(return_sequences 매개변수로 제어 가능)\n",
    "- 각 타임스템의 출력을 모은 전체 시퀀스((batch_size, timesteps, output_features) 크기의 랭크-3 텐서)를 반환\n",
    "- 입력 시퀀스의 마지막 출력((batch_size, output_features) 크기의 랭크-2 텐서)만 반환"
   ]
  },
  {
   "cell_type": "markdown",
   "id": "34b1771c-264e-4f17-b249-276451edcd0a",
   "metadata": {},
   "source": [
    ">### 마지막 출력 스텝만 반환하는 RNN층"
   ]
  },
  {
   "cell_type": "code",
   "execution_count": 4,
   "id": "c99f0957-0e2d-4cf7-b57b-e9d498daa575",
   "metadata": {},
   "outputs": [
    {
     "name": "stdout",
     "output_type": "stream",
     "text": [
      "(None, 16)\n"
     ]
    }
   ],
   "source": [
    "num_features = 14\n",
    "steps = 20\n",
    "inputs = keras.Input(shape=(steps, num_features))\n",
    "outputs = layers.SimpleRNN(16, return_sequences=False)(inputs)\n",
    "\n",
    "print(outputs.shape)"
   ]
  },
  {
   "cell_type": "markdown",
   "id": "c6818552-52d0-4b0c-8163-db3b4ed0d149",
   "metadata": {},
   "source": [
    ">### 전체 출력 시퀸스 반환하는 RNN층"
   ]
  },
  {
   "cell_type": "code",
   "execution_count": 5,
   "id": "547b4b16-b7cb-4c83-ad45-0d1425904c6f",
   "metadata": {},
   "outputs": [
    {
     "name": "stdout",
     "output_type": "stream",
     "text": [
      "(None, 20, 16)\n"
     ]
    }
   ],
   "source": [
    "num_features = 14\n",
    "steps = 20\n",
    "inputs = keras.Input(shape=(steps, num_features))\n",
    "outputs = layers.SimpleRNN(16, return_sequences=True)(inputs)\n",
    "\n",
    "print(outputs.shape)"
   ]
  },
  {
   "cell_type": "markdown",
   "id": "46f54d99-d5ba-438a-a069-56b76bb227c8",
   "metadata": {},
   "source": [
    ">### 스태킹 RNN층\n",
    "- 네트워크 표현력 증가시키기 위해, 여러 개의 순환층을 차례로 쌓는 것이 유용할 때가 있음"
   ]
  },
  {
   "cell_type": "code",
   "execution_count": 6,
   "id": "1f42528d-65f5-4ff5-80b3-c7faf97710fb",
   "metadata": {},
   "outputs": [
    {
     "name": "stdout",
     "output_type": "stream",
     "text": [
      "(None, 16)\n"
     ]
    }
   ],
   "source": [
    "num_features = 14\n",
    "steps = 20\n",
    "inputs = keras.Input(shape=(steps, num_features))\n",
    "x = layers.SimpleRNN(16, return_sequences=True)(inputs)\n",
    "x = layers.SimpleRNN(16, return_sequences=True)(x)\n",
    "outputs = layers.SimpleRNN(16)(x)\n",
    "\n",
    "print(outputs.shape)"
   ]
  },
  {
   "cell_type": "markdown",
   "id": "0d2e766d-96b4-444f-b552-42f24a7eac9f",
   "metadata": {},
   "source": [
    ">### 10.4_순환 신경망의 고급 사용법\n",
    "- 순환 드롭아웃(recurrent dropout): 순환 층에서 과대적합을 방지하기 위해 사용\n",
    "- 스태킹 순환층(stacking recurrent layer): 모델의 표현 능력 증가(그 대신, 계산 비용이 많이 든다.)\n",
    "- 양방향 순환층(bidirectional recurrent layer): 순환 네트워크에 같은 정보를 다른 방햐응로 주입하여 정확도를 높이고 기억을 좀 더 오래 유지"
   ]
  },
  {
   "cell_type": "markdown",
   "id": "d038f04b-c3b8-4a42-aec1-17b355bc943a",
   "metadata": {},
   "source": [
    ">### 1) 순환 드롭 아웃 사용하기\n",
    "- 순환 층 이전에 드롭아웃을 적용하면 규제에 도움이 되는 것보다 학습에 더 방해된다.\n",
    "- 타임스텝마다 랜덤하게 드롭아웃 마스크를 바꾸는 것이 아니라, 동일한 패턴으로 유닛을 드롭아웃한다. --> 모든 타임스텝에 적용"
   ]
  },
  {
   "cell_type": "code",
   "execution_count": 1,
   "id": "5f2939d3-ce7b-49ed-97ad-9a3cee49f71e",
   "metadata": {},
   "outputs": [
    {
     "name": "stdout",
     "output_type": "stream",
     "text": [
      "['\"Date Time\"', '\"p (mbar)\"', '\"T (degC)\"', '\"Tpot (K)\"', '\"Tdew (degC)\"', '\"rh (%)\"', '\"VPmax (mbar)\"', '\"VPact (mbar)\"', '\"VPdef (mbar)\"', '\"sh (g/kg)\"', '\"H2OC (mmol/mol)\"', '\"rho (g/m**3)\"', '\"wv (m/s)\"', '\"max. wv (m/s)\"', '\"wd (deg)\"']\n",
      "15\n",
      "420451\n",
      "온도 데이터 array: (420451,)\n",
      "미래 온도를 예측하기 위해 사용할 feature: (420451, 14)\n",
      "210225\n",
      "105112\n",
      "105114\n",
      "Total count: 420451\n"
     ]
    }
   ],
   "source": [
    "############\n",
    "## data load\n",
    "import os\n",
    "\n",
    "fname = os.path.join(\"./jena_data/jena_climate_2009_2016.csv\")\n",
    "\n",
    "with open(fname) as f:\n",
    "    data = f.read()\n",
    "\n",
    "lines = data.split(\"\\n\")\n",
    "header = lines[0].split(\",\")\n",
    "\n",
    "lines = lines[1:]\n",
    "\n",
    "print(header)\n",
    "print(len(header))\n",
    "print(len(lines))\n",
    "\n",
    "\n",
    "###################\n",
    "## data pre-process\n",
    "import numpy as np\n",
    "\n",
    "temperature = np.zeros(len(lines),)\n",
    "print(\"온도 데이터 array:\", temperature.shape)\n",
    "\n",
    "raw_data = np.zeros((len(lines), len(header) - 1)) ## Date Time 열 제외하기 위해(14개 데이터만 사용)\n",
    "print(\"미래 온도를 예측하기 위해 사용할 feature:\",raw_data.shape)\n",
    "\n",
    "for i, line in enumerate(lines):\n",
    "    values = list(float(x) for x in line.split(\",\")[1:]) ## 첫번째 열[Date Time]을 빼고 전달.\n",
    "    temperature[i] = values[1]   ## temperature 배열 저장\n",
    "    raw_data[i, :] = values[:]   ## 온도 포함하여 모든 열을 저장 \n",
    "\n",
    "#########################\n",
    "## data: train, val, test\n",
    "train_cnt = int(len(temperature)*0.5)\n",
    "print(train_cnt)\n",
    "\n",
    "val_cnt = int(len(temperature)*0.25)\n",
    "print(val_cnt)\n",
    "\n",
    "test_cnt = len(temperature) - train_cnt - val_cnt\n",
    "print(test_cnt)\n",
    "\n",
    "print(\"Total count:\", train_cnt + val_cnt + test_cnt)\n",
    "\n",
    "\n",
    "###############\n",
    "## 데이터 정규화\n",
    "mean = raw_data[:train_cnt].mean(axis=0)\n",
    "raw_data = raw_data - mean\n",
    "\n",
    "std = raw_data[:train_cnt].std(axis=0)\n",
    "raw_data = raw_data / std\n",
    "\n",
    "\n",
    "\n",
    "############################\n",
    "## pre-process by batch_size\n",
    "\n",
    "sampling_rate = 6\n",
    "sequence_length = 120\n",
    "delay = sampling_rate * (sequence_length + 24 - 1) ## 시퀸스 끝에서 24시간 후의 온도 \n",
    "\n",
    "batch_size = 256\n",
    "\n",
    "import keras\n",
    "\n",
    "train_dataset = keras.utils.timeseries_dataset_from_array(\n",
    "    raw_data[:-delay],\n",
    "    targets = temperature[delay:],\n",
    "    sampling_rate = sampling_rate,\n",
    "    sequence_length = sequence_length,\n",
    "    shuffle = True,\n",
    "    batch_size = batch_size,\n",
    "    start_index = 0,\n",
    "    end_index = train_cnt)\n",
    "\n",
    "val_dataset = keras.utils.timeseries_dataset_from_array(\n",
    "    raw_data[:-delay],\n",
    "    targets = temperature[delay:],\n",
    "    sampling_rate = sampling_rate,\n",
    "    sequence_length = sequence_length,\n",
    "    shuffle = True,\n",
    "    batch_size = batch_size,\n",
    "    start_index = train_cnt,\n",
    "    end_index = train_cnt + val_cnt)\n",
    "\n",
    "test_dataset = keras.utils.timeseries_dataset_from_array(\n",
    "    raw_data[:-delay],\n",
    "    targets = temperature[delay:],\n",
    "    sampling_rate = sampling_rate,\n",
    "    sequence_length = sequence_length,\n",
    "    shuffle = True,\n",
    "    batch_size = batch_size,\n",
    "    start_index = train_cnt + val_cnt)  "
   ]
  },
  {
   "cell_type": "code",
   "execution_count": 2,
   "id": "0a5ce851-c91c-40f6-afbc-622fd82860fc",
   "metadata": {},
   "outputs": [],
   "source": [
    "## 결과 그래프 그리기\n",
    "import matplotlib.pyplot as plt\n",
    "\n",
    "def plot(history):\n",
    "    loss = history.history[\"mae\"]\n",
    "    val_loss = history.history[\"val_mae\"]\n",
    "    epochs = range(1, len(loss) + 1)\n",
    "    \n",
    "    plt.figure()\n",
    "    plt.plot(epochs, loss, \"bo\", label=\"Training MAE\")\n",
    "    plt.plot(epochs, val_loss, \"b\", label=\"Validation MAE\")\n",
    "    plt.title(\"Training and validation MAE\")\n",
    "    plt.legend()\n",
    "    plt.show()"
   ]
  },
  {
   "cell_type": "code",
   "execution_count": 4,
   "id": "572eb32b-889c-47d6-98e3-a4d818824428",
   "metadata": {},
   "outputs": [
    {
     "name": "stdout",
     "output_type": "stream",
     "text": [
      "Epoch 1/50\n",
      "819/819 [==============================] - 28s 27ms/step - loss: 28.2409 - mae: 3.9278 - val_loss: 9.8317 - val_mae: 2.4366\n",
      "Epoch 2/50\n",
      "819/819 [==============================] - 21s 26ms/step - loss: 14.6446 - mae: 2.9714 - val_loss: 9.5824 - val_mae: 2.4010\n",
      "Epoch 3/50\n",
      "819/819 [==============================] - 23s 28ms/step - loss: 13.4472 - mae: 2.8480 - val_loss: 10.0405 - val_mae: 2.4609\n",
      "Epoch 4/50\n",
      "819/819 [==============================] - 21s 26ms/step - loss: 12.7522 - mae: 2.7648 - val_loss: 9.4825 - val_mae: 2.4031\n",
      "Epoch 5/50\n",
      "819/819 [==============================] - 22s 26ms/step - loss: 12.1769 - mae: 2.7047 - val_loss: 9.4966 - val_mae: 2.3977\n",
      "Epoch 6/50\n",
      "819/819 [==============================] - 21s 26ms/step - loss: 11.8145 - mae: 2.6642 - val_loss: 10.1678 - val_mae: 2.4866\n",
      "Epoch 7/50\n",
      "819/819 [==============================] - 21s 25ms/step - loss: 11.3991 - mae: 2.6143 - val_loss: 10.3997 - val_mae: 2.5120\n",
      "Epoch 8/50\n",
      "819/819 [==============================] - 21s 25ms/step - loss: 11.0661 - mae: 2.5800 - val_loss: 9.5862 - val_mae: 2.4135\n",
      "Epoch 9/50\n",
      "819/819 [==============================] - 21s 25ms/step - loss: 10.7365 - mae: 2.5398 - val_loss: 9.9436 - val_mae: 2.4467\n",
      "Epoch 10/50\n",
      "819/819 [==============================] - 21s 25ms/step - loss: 10.5036 - mae: 2.5112 - val_loss: 9.7543 - val_mae: 2.4293\n",
      "Epoch 11/50\n",
      "819/819 [==============================] - 21s 25ms/step - loss: 10.2411 - mae: 2.4770 - val_loss: 10.4791 - val_mae: 2.5175\n",
      "Epoch 12/50\n",
      "819/819 [==============================] - 21s 25ms/step - loss: 10.0726 - mae: 2.4581 - val_loss: 10.5883 - val_mae: 2.5144\n",
      "Epoch 13/50\n",
      "819/819 [==============================] - 21s 25ms/step - loss: 9.8252 - mae: 2.4278 - val_loss: 10.5876 - val_mae: 2.5288\n",
      "Epoch 14/50\n",
      "819/819 [==============================] - 21s 26ms/step - loss: 9.5898 - mae: 2.4010 - val_loss: 10.4013 - val_mae: 2.5078\n",
      "Epoch 15/50\n",
      "819/819 [==============================] - 21s 26ms/step - loss: 9.3936 - mae: 2.3737 - val_loss: 10.6525 - val_mae: 2.5471\n",
      "Epoch 16/50\n",
      "819/819 [==============================] - 21s 25ms/step - loss: 9.2516 - mae: 2.3569 - val_loss: 10.5164 - val_mae: 2.5182\n",
      "Epoch 17/50\n",
      "819/819 [==============================] - 21s 25ms/step - loss: 9.0484 - mae: 2.3309 - val_loss: 10.9576 - val_mae: 2.5700\n",
      "Epoch 18/50\n",
      "819/819 [==============================] - 21s 25ms/step - loss: 9.0184 - mae: 2.3255 - val_loss: 10.6950 - val_mae: 2.5315\n",
      "Epoch 19/50\n",
      "819/819 [==============================] - 21s 25ms/step - loss: 8.8213 - mae: 2.3006 - val_loss: 10.6845 - val_mae: 2.5398\n",
      "Epoch 20/50\n",
      "819/819 [==============================] - 21s 26ms/step - loss: 8.6934 - mae: 2.2807 - val_loss: 10.5465 - val_mae: 2.5160\n",
      "Epoch 21/50\n",
      "819/819 [==============================] - 21s 26ms/step - loss: 8.6109 - mae: 2.2724 - val_loss: 11.2579 - val_mae: 2.6015\n",
      "Epoch 22/50\n",
      "819/819 [==============================] - 21s 26ms/step - loss: 8.4968 - mae: 2.2559 - val_loss: 10.9007 - val_mae: 2.5669\n",
      "Epoch 23/50\n",
      "819/819 [==============================] - 21s 25ms/step - loss: 8.3941 - mae: 2.2426 - val_loss: 10.8764 - val_mae: 2.5681\n",
      "Epoch 24/50\n",
      "819/819 [==============================] - 21s 25ms/step - loss: 8.3003 - mae: 2.2341 - val_loss: 10.9747 - val_mae: 2.5560\n",
      "Epoch 25/50\n",
      "819/819 [==============================] - 21s 25ms/step - loss: 8.1907 - mae: 2.2164 - val_loss: 11.1709 - val_mae: 2.6128\n",
      "Epoch 26/50\n",
      "819/819 [==============================] - 21s 25ms/step - loss: 8.1143 - mae: 2.2078 - val_loss: 11.1636 - val_mae: 2.6105\n",
      "Epoch 27/50\n",
      "819/819 [==============================] - 21s 25ms/step - loss: 8.0112 - mae: 2.1926 - val_loss: 10.9430 - val_mae: 2.5786\n",
      "Epoch 28/50\n",
      "819/819 [==============================] - 21s 25ms/step - loss: 8.0000 - mae: 2.1914 - val_loss: 12.0176 - val_mae: 2.6914\n",
      "Epoch 29/50\n",
      "819/819 [==============================] - 21s 25ms/step - loss: 7.9148 - mae: 2.1804 - val_loss: 12.4706 - val_mae: 2.7436\n",
      "Epoch 30/50\n",
      "819/819 [==============================] - 21s 25ms/step - loss: 7.8414 - mae: 2.1694 - val_loss: 11.5899 - val_mae: 2.6431\n",
      "Epoch 31/50\n",
      "819/819 [==============================] - 21s 25ms/step - loss: 7.7960 - mae: 2.1611 - val_loss: 11.3676 - val_mae: 2.6128\n",
      "Epoch 32/50\n",
      "819/819 [==============================] - 21s 25ms/step - loss: 7.6513 - mae: 2.1425 - val_loss: 11.1857 - val_mae: 2.5979\n",
      "Epoch 33/50\n",
      "819/819 [==============================] - 21s 26ms/step - loss: 7.6197 - mae: 2.1401 - val_loss: 11.8592 - val_mae: 2.6765\n",
      "Epoch 34/50\n",
      "819/819 [==============================] - 21s 26ms/step - loss: 7.6048 - mae: 2.1360 - val_loss: 11.4906 - val_mae: 2.6353\n",
      "Epoch 35/50\n",
      "819/819 [==============================] - 21s 25ms/step - loss: 7.5158 - mae: 2.1252 - val_loss: 11.6931 - val_mae: 2.6590\n",
      "Epoch 36/50\n",
      "819/819 [==============================] - 21s 26ms/step - loss: 7.4842 - mae: 2.1168 - val_loss: 11.9923 - val_mae: 2.6935\n",
      "Epoch 37/50\n",
      "819/819 [==============================] - 21s 25ms/step - loss: 7.3984 - mae: 2.1060 - val_loss: 12.1377 - val_mae: 2.7056\n",
      "Epoch 38/50\n",
      "819/819 [==============================] - 21s 25ms/step - loss: 7.4780 - mae: 2.1143 - val_loss: 12.1245 - val_mae: 2.7154\n",
      "Epoch 39/50\n",
      "819/819 [==============================] - 21s 26ms/step - loss: 7.3170 - mae: 2.0937 - val_loss: 12.0910 - val_mae: 2.7057\n",
      "Epoch 40/50\n",
      "819/819 [==============================] - 22s 26ms/step - loss: 7.3282 - mae: 2.0955 - val_loss: 11.6441 - val_mae: 2.6686\n",
      "Epoch 41/50\n",
      "819/819 [==============================] - 22s 27ms/step - loss: 7.3366 - mae: 2.0944 - val_loss: 11.6294 - val_mae: 2.6621\n",
      "Epoch 42/50\n",
      "819/819 [==============================] - 22s 26ms/step - loss: 7.2149 - mae: 2.0783 - val_loss: 11.7401 - val_mae: 2.6808\n",
      "Epoch 43/50\n",
      "819/819 [==============================] - 22s 27ms/step - loss: 7.2360 - mae: 2.0796 - val_loss: 12.6105 - val_mae: 2.7705\n",
      "Epoch 44/50\n",
      "819/819 [==============================] - 22s 26ms/step - loss: 7.2561 - mae: 2.0771 - val_loss: 11.6065 - val_mae: 2.6552\n",
      "Epoch 45/50\n",
      "819/819 [==============================] - 21s 26ms/step - loss: 7.1259 - mae: 2.0655 - val_loss: 11.9777 - val_mae: 2.7102\n",
      "Epoch 46/50\n",
      "819/819 [==============================] - 21s 26ms/step - loss: 7.1024 - mae: 2.0591 - val_loss: 11.5981 - val_mae: 2.6447\n",
      "Epoch 47/50\n",
      "819/819 [==============================] - 21s 26ms/step - loss: 7.0366 - mae: 2.0515 - val_loss: 12.1813 - val_mae: 2.7289\n",
      "Epoch 48/50\n",
      "819/819 [==============================] - 22s 26ms/step - loss: 6.9608 - mae: 2.0396 - val_loss: 12.1914 - val_mae: 2.7308\n",
      "Epoch 49/50\n",
      "819/819 [==============================] - 21s 25ms/step - loss: 6.9430 - mae: 2.0364 - val_loss: 12.2488 - val_mae: 2.7323\n",
      "Epoch 50/50\n",
      "819/819 [==============================] - 21s 26ms/step - loss: 6.9635 - mae: 2.0374 - val_loss: 11.7166 - val_mae: 2.6826\n"
     ]
    }
   ],
   "source": [
    "from keras.models import Sequential\n",
    "from keras import layers\n",
    "from keras.optimizers import RMSprop\n",
    "\n",
    "\n",
    "def model_fn(a_layer=None):\n",
    "    model = Sequential(name='LSTM_model')\n",
    "    \n",
    "    # 훈련 속도를 놓이기 위해 순환 드롭아웃을 제외합니다.\n",
    "    # x = layers.LSTM(32, recurrent_dropout=0.25)(inputs)\n",
    "    \n",
    "    model.add(layers.LSTM(32, input_shape=(sequence_length, raw_data.shape[-1])))    \n",
    "    model.add(layers.Dropout(0.5))\n",
    "    \n",
    "    if a_layer:\n",
    "        model.add(a_layer)\n",
    "    \n",
    "    model.add(layers.Dense(1))\n",
    "\n",
    "    return model\n",
    "\n",
    "\n",
    "model = model_fn()\n",
    "model.compile(optimizer=RMSprop(), loss='mse', metrics=['mae'])\n",
    "\n",
    "callbacks = [\n",
    "    keras.callbacks.ModelCheckpoint('jena_lstm_LSTM.keras',\n",
    "                                    save_best_only=True)\n",
    "]\n",
    "\n",
    "history_LSTM = model.fit(train_dataset,\n",
    "                        epochs=50, \n",
    "                        validation_data=val_dataset,\n",
    "                        callbacks=callbacks)"
   ]
  },
  {
   "cell_type": "code",
   "execution_count": 5,
   "id": "70e65e26-fe8e-4e98-a2f9-e0fc777a84a2",
   "metadata": {},
   "outputs": [
    {
     "data": {
      "image/png": "[encoded data removed]",
      "text/plain": [
       "<Figure size 640x480 with 1 Axes>"
      ]
     },
     "metadata": {},
     "output_type": "display_data"
    }
   ],
   "source": [
    "plot(history_LSTM)"
   ]
  },
  {
   "cell_type": "code",
   "execution_count": 6,
   "id": "71b03f3c-7ed4-4dee-b601-343ab9113fd4",
   "metadata": {},
   "outputs": [
    {
     "name": "stdout",
     "output_type": "stream",
     "text": [
      "Epoch 1/50\n",
      "819/819 [==============================] - 34s 37ms/step - loss: 24.1495 - mae: 3.6107 - val_loss: 9.5282 - val_mae: 2.3915\n",
      "Epoch 2/50\n",
      "819/819 [==============================] - 29s 35ms/step - loss: 13.3652 - mae: 2.8299 - val_loss: 9.4701 - val_mae: 2.3937\n",
      "Epoch 3/50\n",
      "819/819 [==============================] - 29s 35ms/step - loss: 12.4822 - mae: 2.7365 - val_loss: 8.9780 - val_mae: 2.3132\n",
      "Epoch 4/50\n",
      "819/819 [==============================] - 29s 36ms/step - loss: 11.7815 - mae: 2.6586 - val_loss: 9.0536 - val_mae: 2.3315\n",
      "Epoch 5/50\n",
      "819/819 [==============================] - 29s 36ms/step - loss: 11.1209 - mae: 2.5852 - val_loss: 9.7870 - val_mae: 2.4361\n",
      "Epoch 6/50\n",
      "819/819 [==============================] - 29s 35ms/step - loss: 10.4863 - mae: 2.5079 - val_loss: 10.0836 - val_mae: 2.4616\n",
      "Epoch 7/50\n",
      "819/819 [==============================] - 29s 36ms/step - loss: 9.8861 - mae: 2.4362 - val_loss: 9.9840 - val_mae: 2.4394\n",
      "Epoch 8/50\n",
      "819/819 [==============================] - 30s 36ms/step - loss: 9.3513 - mae: 2.3691 - val_loss: 10.7025 - val_mae: 2.5548\n",
      "Epoch 9/50\n",
      "819/819 [==============================] - 29s 36ms/step - loss: 8.8634 - mae: 2.3054 - val_loss: 11.2745 - val_mae: 2.6147\n",
      "Epoch 10/50\n",
      "819/819 [==============================] - 29s 36ms/step - loss: 8.3298 - mae: 2.2356 - val_loss: 11.7807 - val_mae: 2.6746\n",
      "Epoch 11/50\n",
      "819/819 [==============================] - 28s 34ms/step - loss: 7.9526 - mae: 2.1814 - val_loss: 12.0712 - val_mae: 2.7008\n",
      "Epoch 12/50\n",
      "819/819 [==============================] - 29s 35ms/step - loss: 7.5902 - mae: 2.1321 - val_loss: 12.4194 - val_mae: 2.7462\n",
      "Epoch 13/50\n",
      "819/819 [==============================] - 28s 35ms/step - loss: 7.2971 - mae: 2.0868 - val_loss: 12.0697 - val_mae: 2.7191\n",
      "Epoch 14/50\n",
      "819/819 [==============================] - 28s 35ms/step - loss: 7.0630 - mae: 2.0502 - val_loss: 12.3459 - val_mae: 2.7318\n",
      "Epoch 15/50\n",
      "819/819 [==============================] - 28s 34ms/step - loss: 6.7687 - mae: 2.0064 - val_loss: 12.7680 - val_mae: 2.7989\n",
      "Epoch 16/50\n",
      "819/819 [==============================] - 29s 35ms/step - loss: 6.5601 - mae: 1.9711 - val_loss: 13.2847 - val_mae: 2.8752\n",
      "Epoch 17/50\n",
      "819/819 [==============================] - 29s 35ms/step - loss: 6.3657 - mae: 1.9415 - val_loss: 13.8833 - val_mae: 2.9286\n",
      "Epoch 18/50\n",
      "819/819 [==============================] - 29s 35ms/step - loss: 6.1635 - mae: 1.9112 - val_loss: 13.0532 - val_mae: 2.8439\n",
      "Epoch 19/50\n",
      "819/819 [==============================] - 29s 35ms/step - loss: 6.0127 - mae: 1.8856 - val_loss: 13.2972 - val_mae: 2.8685\n",
      "Epoch 20/50\n",
      "819/819 [==============================] - 29s 35ms/step - loss: 5.8652 - mae: 1.8600 - val_loss: 13.4130 - val_mae: 2.8743\n",
      "Epoch 21/50\n",
      "819/819 [==============================] - 28s 34ms/step - loss: 5.7487 - mae: 1.8397 - val_loss: 13.4519 - val_mae: 2.8795\n",
      "Epoch 22/50\n",
      "819/819 [==============================] - 29s 35ms/step - loss: 5.6155 - mae: 1.8176 - val_loss: 13.6214 - val_mae: 2.8966\n",
      "Epoch 23/50\n",
      "819/819 [==============================] - 28s 35ms/step - loss: 5.5126 - mae: 1.8001 - val_loss: 13.9379 - val_mae: 2.9374\n",
      "Epoch 24/50\n",
      "819/819 [==============================] - 29s 35ms/step - loss: 5.4448 - mae: 1.7880 - val_loss: 14.5369 - val_mae: 2.9979\n",
      "Epoch 25/50\n",
      "819/819 [==============================] - 29s 35ms/step - loss: 5.3469 - mae: 1.7695 - val_loss: 14.0674 - val_mae: 2.9471\n",
      "Epoch 26/50\n",
      "819/819 [==============================] - 29s 35ms/step - loss: 5.2644 - mae: 1.7566 - val_loss: 14.0171 - val_mae: 2.9474\n",
      "Epoch 27/50\n",
      "819/819 [==============================] - 29s 35ms/step - loss: 5.1927 - mae: 1.7438 - val_loss: 14.5754 - val_mae: 2.9993\n",
      "Epoch 28/50\n",
      "819/819 [==============================] - 29s 35ms/step - loss: 5.1595 - mae: 1.7383 - val_loss: 14.5867 - val_mae: 2.9992\n",
      "Epoch 29/50\n",
      "819/819 [==============================] - 28s 35ms/step - loss: 5.1301 - mae: 1.7306 - val_loss: 14.0351 - val_mae: 2.9379\n",
      "Epoch 30/50\n",
      "819/819 [==============================] - 29s 35ms/step - loss: 5.0427 - mae: 1.7144 - val_loss: 14.1993 - val_mae: 2.9558\n",
      "Epoch 31/50\n",
      "819/819 [==============================] - 29s 35ms/step - loss: 4.9959 - mae: 1.7059 - val_loss: 14.2996 - val_mae: 2.9600\n",
      "Epoch 32/50\n",
      "819/819 [==============================] - 29s 35ms/step - loss: 4.9143 - mae: 1.6898 - val_loss: 14.3079 - val_mae: 2.9726\n",
      "Epoch 33/50\n",
      "819/819 [==============================] - 29s 35ms/step - loss: 4.9127 - mae: 1.6883 - val_loss: 13.4580 - val_mae: 2.8825\n",
      "Epoch 34/50\n",
      "819/819 [==============================] - 29s 35ms/step - loss: 4.8554 - mae: 1.6769 - val_loss: 14.1028 - val_mae: 2.9470\n",
      "Epoch 35/50\n",
      "819/819 [==============================] - 29s 35ms/step - loss: 4.8071 - mae: 1.6705 - val_loss: 14.0900 - val_mae: 2.9462\n",
      "Epoch 36/50\n",
      "819/819 [==============================] - 29s 35ms/step - loss: 4.7811 - mae: 1.6640 - val_loss: 14.5412 - val_mae: 2.9907\n",
      "Epoch 37/50\n",
      "819/819 [==============================] - 29s 35ms/step - loss: 4.7289 - mae: 1.6550 - val_loss: 14.0713 - val_mae: 2.9478\n",
      "Epoch 38/50\n",
      "819/819 [==============================] - 29s 35ms/step - loss: 4.7043 - mae: 1.6483 - val_loss: 14.6452 - val_mae: 3.0136\n",
      "Epoch 39/50\n",
      "819/819 [==============================] - 29s 35ms/step - loss: 4.6671 - mae: 1.6433 - val_loss: 14.3035 - val_mae: 2.9640\n",
      "Epoch 40/50\n",
      "819/819 [==============================] - 29s 35ms/step - loss: 4.6684 - mae: 1.6372 - val_loss: 14.4961 - val_mae: 2.9825\n",
      "Epoch 41/50\n",
      "819/819 [==============================] - 29s 35ms/step - loss: 4.6187 - mae: 1.6305 - val_loss: 13.9770 - val_mae: 2.9378\n",
      "Epoch 42/50\n",
      "819/819 [==============================] - 29s 35ms/step - loss: 4.5975 - mae: 1.6277 - val_loss: 14.3332 - val_mae: 2.9696\n",
      "Epoch 43/50\n",
      "819/819 [==============================] - 29s 35ms/step - loss: 4.5414 - mae: 1.6159 - val_loss: 14.0783 - val_mae: 2.9425\n",
      "Epoch 44/50\n",
      "819/819 [==============================] - 28s 35ms/step - loss: 4.5335 - mae: 1.6136 - val_loss: 14.6555 - val_mae: 3.0020\n",
      "Epoch 45/50\n",
      "819/819 [==============================] - 29s 35ms/step - loss: 4.4861 - mae: 1.6068 - val_loss: 14.5011 - val_mae: 2.9760\n",
      "Epoch 46/50\n",
      "819/819 [==============================] - 29s 35ms/step - loss: 4.4801 - mae: 1.6028 - val_loss: 13.7404 - val_mae: 2.9121\n",
      "Epoch 47/50\n",
      "819/819 [==============================] - 29s 35ms/step - loss: 4.4595 - mae: 1.6003 - val_loss: 13.8864 - val_mae: 2.9290\n",
      "Epoch 48/50\n",
      "819/819 [==============================] - 29s 35ms/step - loss: 4.4377 - mae: 1.5938 - val_loss: 13.9615 - val_mae: 2.9302\n",
      "Epoch 49/50\n",
      "819/819 [==============================] - 29s 35ms/step - loss: 4.4182 - mae: 1.5900 - val_loss: 14.6843 - val_mae: 3.0070\n",
      "Epoch 50/50\n",
      "819/819 [==============================] - 29s 35ms/step - loss: 4.3932 - mae: 1.5858 - val_loss: 14.5867 - val_mae: 2.9867\n"
     ]
    }
   ],
   "source": [
    "from keras.models import Sequential\n",
    "from keras import layers\n",
    "from keras.optimizers import RMSprop\n",
    "\n",
    "\n",
    "def model_fn(a_layer=None):\n",
    "    model = Sequential(name='GRU_model')\n",
    "    \n",
    "    # 훈련 속도를 놓이기 위해 순환 드롭아웃을 제외합니다.\n",
    "    # x = layers.GRU(32, recurrent_dropout=0.5, return_sequences=True)(inputs)\n",
    "    # x = layers.GRU(32, recurrent_dropout=0.5)(x)\n",
    "    model.add(layers.GRU(32, return_sequences=True, input_shape=(sequence_length, raw_data.shape[-1])))\n",
    "    model.add(layers.GRU(32))\n",
    "    model.add(layers.Dropout(0.5))\n",
    "    \n",
    "    if a_layer:\n",
    "        model.add(a_layer)\n",
    "    \n",
    "    model.add(layers.Dense(1))\n",
    "\n",
    "    return model\n",
    "\n",
    "\n",
    "model = model_fn()\n",
    "model.compile(optimizer=RMSprop(), loss='mse', metrics=['mae'])\n",
    "\n",
    "callbacks = [\n",
    "    keras.callbacks.ModelCheckpoint('jena_lstm_GRU.keras',\n",
    "                                    save_best_only=True)\n",
    "]\n",
    "\n",
    "history_GRU = model.fit(train_dataset,\n",
    "                        epochs=50, \n",
    "                        validation_data=val_dataset,\n",
    "                        callbacks=callbacks)"
   ]
  },
  {
   "cell_type": "code",
   "execution_count": 7,
   "id": "34838f77-0c11-4576-aad3-afeda91654dd",
   "metadata": {},
   "outputs": [
    {
     "data": {
      "image/png": "[encoded data removed]",
      "text/plain": [
       "<Figure size 640x480 with 1 Axes>"
      ]
     },
     "metadata": {},
     "output_type": "display_data"
    }
   ],
   "source": [
    "plot(history_GRU)"
   ]
  }
 ],
 "metadata": {
  "kernelspec": {
   "display_name": "Python 3 (ipykernel)",
   "language": "python",
   "name": "python3"
  },
  "language_info": {
   "codemirror_mode": {
    "name": "ipython",
    "version": 3
   },
   "file_extension": ".py",
   "mimetype": "text/x-python",
   "name": "python",
   "nbconvert_exporter": "python",
   "pygments_lexer": "ipython3",
   "version": "3.10.10"
  }
 },
 "nbformat": 4,
 "nbformat_minor": 5
}
