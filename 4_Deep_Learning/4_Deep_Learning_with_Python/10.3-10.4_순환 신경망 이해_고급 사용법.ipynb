{
 "cells": [
  {
   "cell_type": "markdown",
   "id": "7d99965f-e681-4120-8998-473e9cbfbe42",
   "metadata": {},
   "source": [
    ">### 10.3_순환 신경망 이해하기\n",
    "- 밀집 연결 모델, 컨브넷처럼 모든 신경망의 특징은 메모리가 없다.\n",
    "- 네트워크에 주입되는 입력은 개별적으로 처리되며 입력 간에 유지되는 상태가 없다.\n",
    "- 그렇기에 시계열 데이터 포인트를 처리하려면 네트워크에 전체 시퀀스를 주입해야 한다.\n",
    "    - 즉 5일치 데이터를 펼쳐서 하나의 큰 벡터로 만들어서 처리(피드포워드 네트워크) "
   ]
  },
  {
   "cell_type": "markdown",
   "id": "1e0ecd33-bb44-4e97-b665-3f49b72a9046",
   "metadata": {},
   "source": [
    ">### 10.3.1_케라스의 순환 층\n",
    "- 어떤 길이의 시퀀스도 처리할 수 있는 RNN(sharp 매개변수에 timesteps 항목에 None으로 지정)"
   ]
  },
  {
   "cell_type": "code",
   "execution_count": 3,
   "id": "0f8098d1-272d-41a9-a370-71af16812727",
   "metadata": {},
   "outputs": [
    {
     "name": "stdout",
     "output_type": "stream",
     "text": [
      "(None, 16)\n"
     ]
    }
   ],
   "source": [
    "from tensorflow import keras\n",
    "from tensorflow.keras import layers\n",
    "\n",
    "num_features = 14\n",
    "inputs = keras.Input(shape=(None, num_features))\n",
    "outputs = layers.SimpleRNN(16)(inputs)\n",
    "\n",
    "print(outputs.shape)"
   ]
  },
  {
   "cell_type": "markdown",
   "id": "fefebaaf-6c49-4084-b96b-24d0c4bbf7e8",
   "metadata": {},
   "source": [
    ">### 케라스에 있는 모든 순환 층은 두가지 모드로 실행 가능(return_sequences 매개변수로 제어 가능)\n",
    "- 각 타임스템의 출력을 모은 전체 시퀀스((batch_size, timesteps, output_features) 크기의 랭크-3 텐서)를 반환\n",
    "- 입력 시퀀스의 마지막 출력((batch_size, output_features) 크기의 랭크-2 텐서)만 반환"
   ]
  },
  {
   "cell_type": "markdown",
   "id": "34b1771c-264e-4f17-b249-276451edcd0a",
   "metadata": {},
   "source": [
    ">### 마지막 출력 스텝만 반환하는 RNN층"
   ]
  },
  {
   "cell_type": "code",
   "execution_count": 4,
   "id": "c99f0957-0e2d-4cf7-b57b-e9d498daa575",
   "metadata": {},
   "outputs": [
    {
     "name": "stdout",
     "output_type": "stream",
     "text": [
      "(None, 16)\n"
     ]
    }
   ],
   "source": [
    "num_features = 14\n",
    "steps = 20\n",
    "inputs = keras.Input(shape=(steps, num_features))\n",
    "outputs = layers.SimpleRNN(16, return_sequences=False)(inputs)\n",
    "\n",
    "print(outputs.shape)"
   ]
  },
  {
   "cell_type": "markdown",
   "id": "c6818552-52d0-4b0c-8163-db3b4ed0d149",
   "metadata": {},
   "source": [
    ">### 전체 출력 시퀸스 반환하는 RNN층"
   ]
  },
  {
   "cell_type": "code",
   "execution_count": 5,
   "id": "547b4b16-b7cb-4c83-ad45-0d1425904c6f",
   "metadata": {},
   "outputs": [
    {
     "name": "stdout",
     "output_type": "stream",
     "text": [
      "(None, 20, 16)\n"
     ]
    }
   ],
   "source": [
    "num_features = 14\n",
    "steps = 20\n",
    "inputs = keras.Input(shape=(steps, num_features))\n",
    "outputs = layers.SimpleRNN(16, return_sequences=True)(inputs)\n",
    "\n",
    "print(outputs.shape)"
   ]
  },
  {
   "cell_type": "markdown",
   "id": "46f54d99-d5ba-438a-a069-56b76bb227c8",
   "metadata": {},
   "source": [
    ">### 스태킹 RNN층\n",
    "- 네트워크 표현력 증가시키기 위해, 여러 개의 순환층을 차례로 쌓는 것이 유용할 때가 있음"
   ]
  },
  {
   "cell_type": "code",
   "execution_count": 6,
   "id": "1f42528d-65f5-4ff5-80b3-c7faf97710fb",
   "metadata": {},
   "outputs": [
    {
     "name": "stdout",
     "output_type": "stream",
     "text": [
      "(None, 16)\n"
     ]
    }
   ],
   "source": [
    "num_features = 14\n",
    "steps = 20\n",
    "inputs = keras.Input(shape=(steps, num_features))\n",
    "x = layers.SimpleRNN(16, return_sequences=True)(inputs)\n",
    "x = layers.SimpleRNN(16, return_sequences=True)(x)\n",
    "outputs = layers.SimpleRNN(16)(x)\n",
    "\n",
    "print(outputs.shape)"
   ]
  },
  {
   "cell_type": "markdown",
   "id": "0d2e766d-96b4-444f-b552-42f24a7eac9f",
   "metadata": {},
   "source": [
    ">### 10.4_순환 신경망의 고급 사용법\n",
    "- 순환 드롭아웃(recurrent dropout): 순환 층에서 과대적합을 방지하기 위해 사용\n",
    "- 스태킹 순환층(stacking recurrent layer): 모델의 표현 능력 증가(그 대신, 계산 비용이 많이 든다.)\n",
    "- 양방향 순환층(bidirectional recurrent layer): 순환 네트워크에 같은 정보를 다른 방햐응로 주입하여 정확도를 높이고 기억을 좀 더 오래 유지"
   ]
  },
  {
   "cell_type": "markdown",
   "id": "d038f04b-c3b8-4a42-aec1-17b355bc943a",
   "metadata": {},
   "source": [
    ">### 1) 순환 드롭 아웃 사용하기\n",
    "- 순환 층 이전에 드롭아웃을 적용하면 규제에 도움이 되는 것보다 학습에 더 방해된다.\n",
    "- 타임스텝마다 랜덤하게 드롭아웃 마스크를 바꾸는 것이 아니라, 동일한 패턴으로 유닛을 드롭아웃한다. --> 모든 타임스텝에 적용"
   ]
  },
  {
   "cell_type": "code",
   "execution_count": 4,
   "id": "5f2939d3-ce7b-49ed-97ad-9a3cee49f71e",
   "metadata": {},
   "outputs": [
    {
     "name": "stdout",
     "output_type": "stream",
     "text": [
      "['\"Date Time\"', '\"p (mbar)\"', '\"T (degC)\"', '\"Tpot (K)\"', '\"Tdew (degC)\"', '\"rh (%)\"', '\"VPmax (mbar)\"', '\"VPact (mbar)\"', '\"VPdef (mbar)\"', '\"sh (g/kg)\"', '\"H2OC (mmol/mol)\"', '\"rho (g/m**3)\"', '\"wv (m/s)\"', '\"max. wv (m/s)\"', '\"wd (deg)\"']\n",
      "15\n",
      "420451\n",
      "온도 데이터 array: (420451,)\n",
      "미래 온도를 예측하기 위해 사용할 feature: (420451, 14)\n",
      "210225\n",
      "105112\n",
      "105114\n",
      "Total count: 420451\n"
     ]
    }
   ],
   "source": [
    "## data load\n",
    "import os\n",
    "\n",
    "fname = os.path.join(\"./jena_data/jena_climate_2009_2016.csv\")\n",
    "\n",
    "with open(fname) as f:\n",
    "    data = f.read()\n",
    "\n",
    "lines = data.split(\"\\n\")\n",
    "header = lines[0].split(\",\")\n",
    "\n",
    "lines = lines[1:]\n",
    "\n",
    "print(header)\n",
    "print(len(header))\n",
    "print(len(lines))\n",
    "\n",
    "\n",
    "## data preprocess\n",
    "import numpy as np\n",
    "\n",
    "temperature = np.zeros(len(lines),)\n",
    "print(\"온도 데이터 array:\", temperature.shape)\n",
    "\n",
    "raw_data = np.zeros((len(lines), len(header) - 1)) ## Date Time 열 제외하기 위해(14개 데이터만 사용)\n",
    "print(\"미래 온도를 예측하기 위해 사용할 feature:\",raw_data.shape)\n",
    "\n",
    "for i, line in enumerate(lines):\n",
    "    values = list(float(x) for x in line.split(\",\")[1:]) ## 첫번째 열[Date Time]을 빼고 전달.\n",
    "    temperature[i] = values[1]   ## temperature 배열 저장\n",
    "    raw_data[i, :] = values[:]   ## 온도 포함하여 모든 열을 저장 \n",
    "\n",
    "\n",
    "## data: train, val, test\n",
    "train_cnt = int(len(temperature)*0.5)\n",
    "print(train_cnt)\n",
    "\n",
    "val_cnt = int(len(temperature)*0.25)\n",
    "print(val_cnt)\n",
    "\n",
    "test_cnt = len(temperature) - train_cnt - val_cnt\n",
    "print(test_cnt)\n",
    "\n",
    "print(\"Total count:\", train_cnt + val_cnt + test_cnt)\n",
    "\n",
    "\n",
    "\n",
    "## 데이터 정규화\n",
    "mean = raw_data[:train_cnt].mean(axis=0)\n",
    "raw_data = raw_data - mean\n",
    "\n",
    "std = raw_data[:train_cnt].std(axis=0)\n",
    "raw_data = raw_data / std\n",
    "\n",
    "\n",
    "\n",
    "sampling_rate = 6\n",
    "sequence_length = 120\n",
    "delay = sampling_rate * (sequence_length + 24 - 1) ## 시퀸스 끝에서 24시간 후의 온도 \n",
    "\n",
    "batch_size = 256\n",
    "\n",
    "import keras\n",
    "\n",
    "train_dataset = keras.utils.timeseries_dataset_from_array(\n",
    "    raw_data[:-delay],\n",
    "    targets = temperature[delay:],\n",
    "    sampling_rate = sampling_rate,\n",
    "    sequence_length = sequence_length,\n",
    "    shuffle = True,\n",
    "    batch_size = batch_size,\n",
    "    start_index = 0,\n",
    "    end_index = train_cnt)\n",
    "\n",
    "val_dataset = keras.utils.timeseries_dataset_from_array(\n",
    "    raw_data[:-delay],\n",
    "    targets = temperature[delay:],\n",
    "    sampling_rate = sampling_rate,\n",
    "    sequence_length = sequence_length,\n",
    "    shuffle = True,\n",
    "    batch_size = batch_size,\n",
    "    start_index = train_cnt,\n",
    "    end_index = train_cnt + val_cnt)\n",
    "\n",
    "test_dataset = keras.utils.timeseries_dataset_from_array(\n",
    "    raw_data[:-delay],\n",
    "    targets = temperature[delay:],\n",
    "    sampling_rate = sampling_rate,\n",
    "    sequence_length = sequence_length,\n",
    "    shuffle = True,\n",
    "    batch_size = batch_size,\n",
    "    start_index = train_cnt + val_cnt)  "
   ]
  },
  {
   "cell_type": "code",
   "execution_count": 2,
   "id": "0a5ce851-c91c-40f6-afbc-622fd82860fc",
   "metadata": {},
   "outputs": [],
   "source": [
    "## 결과 그래프 그리기\n",
    "import matplotlib.pyplot as plt\n",
    "\n",
    "def plot(history):\n",
    "    loss = history.history[\"mae\"]\n",
    "    val_loss = history.history[\"val_mae\"]\n",
    "    epochs = range(1, len(loss) + 1)\n",
    "    \n",
    "    plt.figure()\n",
    "    plt.plot(epochs, loss, \"bo\", label=\"Training MAE\")\n",
    "    plt.plot(epochs, val_loss, \"b\", label=\"Validation MAE\")\n",
    "    plt.title(\"Training and validation MAE\")\n",
    "    plt.legend()\n",
    "    plt.show()"
   ]
  },
  {
   "cell_type": "code",
   "execution_count": 3,
   "id": "572eb32b-889c-47d6-98e3-a4d818824428",
   "metadata": {},
   "outputs": [
    {
     "name": "stdout",
     "output_type": "stream",
     "text": [
      "Epoch 1/50\n",
      "819/819 [==============================] - 26s 27ms/step - loss: 83.8245 - mae: 7.2835 - val_loss: 49.3236 - val_mae: 5.5890\n",
      "Epoch 2/50\n",
      "819/819 [==============================] - 22s 26ms/step - loss: 56.2466 - mae: 5.8425 - val_loss: 33.5490 - val_mae: 4.4553\n",
      "Epoch 3/50\n",
      "819/819 [==============================] - 22s 26ms/step - loss: 45.2586 - mae: 5.1907 - val_loss: 28.2981 - val_mae: 4.1385\n",
      "Epoch 4/50\n",
      "819/819 [==============================] - 22s 26ms/step - loss: 40.2434 - mae: 4.8747 - val_loss: 22.6138 - val_mae: 3.6664\n",
      "Epoch 5/50\n",
      "819/819 [==============================] - 22s 26ms/step - loss: 38.2854 - mae: 4.7503 - val_loss: 20.8599 - val_mae: 3.5240\n",
      "Epoch 6/50\n",
      "819/819 [==============================] - 22s 26ms/step - loss: 37.7648 - mae: 4.7176 - val_loss: 19.4714 - val_mae: 3.4168\n",
      "Epoch 7/50\n",
      "819/819 [==============================] - 22s 26ms/step - loss: 37.2810 - mae: 4.6901 - val_loss: 20.8054 - val_mae: 3.5804\n",
      "Epoch 8/50\n",
      "819/819 [==============================] - 21s 26ms/step - loss: 37.0216 - mae: 4.6695 - val_loss: 18.5710 - val_mae: 3.3561\n",
      "Epoch 9/50\n",
      "819/819 [==============================] - 22s 26ms/step - loss: 36.7413 - mae: 4.6465 - val_loss: 18.0520 - val_mae: 3.2315\n",
      "Epoch 10/50\n",
      "819/819 [==============================] - 22s 26ms/step - loss: 36.7248 - mae: 4.6434 - val_loss: 21.0934 - val_mae: 3.6401\n",
      "Epoch 11/50\n",
      "819/819 [==============================] - 22s 26ms/step - loss: 36.5352 - mae: 4.6356 - val_loss: 17.1698 - val_mae: 3.1887\n",
      "Epoch 12/50\n",
      "819/819 [==============================] - 22s 26ms/step - loss: 36.3485 - mae: 4.6205 - val_loss: 17.7349 - val_mae: 3.2290\n",
      "Epoch 13/50\n",
      "819/819 [==============================] - 21s 26ms/step - loss: 36.3308 - mae: 4.6149 - val_loss: 18.2850 - val_mae: 3.3055\n",
      "Epoch 14/50\n",
      "819/819 [==============================] - 22s 26ms/step - loss: 36.2844 - mae: 4.6139 - val_loss: 16.8588 - val_mae: 3.1407\n",
      "Epoch 15/50\n",
      "819/819 [==============================] - 21s 26ms/step - loss: 36.1410 - mae: 4.6035 - val_loss: 17.5972 - val_mae: 3.2149\n",
      "Epoch 16/50\n",
      "819/819 [==============================] - 21s 26ms/step - loss: 35.9596 - mae: 4.5910 - val_loss: 21.4712 - val_mae: 3.6719\n",
      "Epoch 17/50\n",
      "819/819 [==============================] - 21s 26ms/step - loss: 35.8995 - mae: 4.5869 - val_loss: 16.9709 - val_mae: 3.1901\n",
      "Epoch 18/50\n",
      "819/819 [==============================] - 22s 26ms/step - loss: 35.9605 - mae: 4.5898 - val_loss: 15.6827 - val_mae: 3.0369\n",
      "Epoch 19/50\n",
      "819/819 [==============================] - 22s 26ms/step - loss: 35.7586 - mae: 4.5744 - val_loss: 18.6127 - val_mae: 3.4063\n",
      "Epoch 20/50\n",
      "819/819 [==============================] - 22s 26ms/step - loss: 35.7028 - mae: 4.5698 - val_loss: 24.4321 - val_mae: 3.9991\n",
      "Epoch 21/50\n",
      "819/819 [==============================] - 22s 26ms/step - loss: 35.7286 - mae: 4.5676 - val_loss: 18.1253 - val_mae: 3.2969\n",
      "Epoch 22/50\n",
      "819/819 [==============================] - 22s 26ms/step - loss: 35.6364 - mae: 4.5659 - val_loss: 15.0735 - val_mae: 2.9631\n",
      "Epoch 23/50\n",
      "819/819 [==============================] - 21s 26ms/step - loss: 35.8104 - mae: 4.5776 - val_loss: 17.7791 - val_mae: 3.2803\n",
      "Epoch 24/50\n",
      "819/819 [==============================] - 22s 27ms/step - loss: 35.6218 - mae: 4.5647 - val_loss: 17.1888 - val_mae: 3.2400\n",
      "Epoch 25/50\n",
      "819/819 [==============================] - 21s 26ms/step - loss: 35.6247 - mae: 4.5629 - val_loss: 18.2009 - val_mae: 3.3247\n",
      "Epoch 26/50\n",
      "819/819 [==============================] - 21s 26ms/step - loss: 35.5510 - mae: 4.5583 - val_loss: 19.7178 - val_mae: 3.5090\n",
      "Epoch 27/50\n",
      "819/819 [==============================] - 22s 26ms/step - loss: 35.5201 - mae: 4.5551 - val_loss: 15.1873 - val_mae: 2.9821\n",
      "Epoch 28/50\n",
      "819/819 [==============================] - 21s 26ms/step - loss: 35.7145 - mae: 4.5728 - val_loss: 14.8370 - val_mae: 2.9400\n",
      "Epoch 29/50\n",
      "819/819 [==============================] - 22s 26ms/step - loss: 35.5968 - mae: 4.5595 - val_loss: 22.4205 - val_mae: 3.8001\n",
      "Epoch 30/50\n",
      "819/819 [==============================] - 22s 27ms/step - loss: 35.5028 - mae: 4.5592 - val_loss: 17.1937 - val_mae: 3.2207\n",
      "Epoch 31/50\n",
      "819/819 [==============================] - 22s 26ms/step - loss: 35.3463 - mae: 4.5442 - val_loss: 16.7801 - val_mae: 3.1392\n",
      "Epoch 32/50\n",
      "819/819 [==============================] - 21s 26ms/step - loss: 35.5535 - mae: 4.5633 - val_loss: 24.3055 - val_mae: 4.0143\n",
      "Epoch 33/50\n",
      "819/819 [==============================] - 22s 26ms/step - loss: 35.4914 - mae: 4.5502 - val_loss: 18.2714 - val_mae: 3.3751\n",
      "Epoch 34/50\n",
      "819/819 [==============================] - 22s 26ms/step - loss: 35.4211 - mae: 4.5516 - val_loss: 15.9657 - val_mae: 3.0918\n",
      "Epoch 35/50\n",
      "819/819 [==============================] - 21s 26ms/step - loss: 35.1018 - mae: 4.5342 - val_loss: 22.5773 - val_mae: 3.8056\n",
      "Epoch 36/50\n",
      "819/819 [==============================] - 21s 26ms/step - loss: 35.3242 - mae: 4.5434 - val_loss: 16.6829 - val_mae: 3.1408\n",
      "Epoch 37/50\n",
      "819/819 [==============================] - 21s 26ms/step - loss: 35.4446 - mae: 4.5490 - val_loss: 14.9488 - val_mae: 2.9587\n",
      "Epoch 38/50\n",
      "819/819 [==============================] - 21s 26ms/step - loss: 35.3500 - mae: 4.5425 - val_loss: 16.1832 - val_mae: 3.0825\n",
      "Epoch 39/50\n",
      "819/819 [==============================] - 22s 27ms/step - loss: 35.3440 - mae: 4.5486 - val_loss: 18.9325 - val_mae: 3.3812\n",
      "Epoch 40/50\n",
      "819/819 [==============================] - 22s 27ms/step - loss: 35.3175 - mae: 4.5471 - val_loss: 15.9419 - val_mae: 3.0895\n",
      "Epoch 41/50\n",
      "819/819 [==============================] - 22s 27ms/step - loss: 34.9999 - mae: 4.5261 - val_loss: 16.8822 - val_mae: 3.1682\n",
      "Epoch 42/50\n",
      "819/819 [==============================] - 22s 26ms/step - loss: 35.3153 - mae: 4.5433 - val_loss: 15.0600 - val_mae: 2.9727\n",
      "Epoch 43/50\n",
      "819/819 [==============================] - 21s 26ms/step - loss: 35.4135 - mae: 4.5461 - val_loss: 19.6842 - val_mae: 3.5090\n",
      "Epoch 44/50\n",
      "819/819 [==============================] - 22s 26ms/step - loss: 35.3650 - mae: 4.5453 - val_loss: 21.0240 - val_mae: 3.6479\n",
      "Epoch 45/50\n",
      "819/819 [==============================] - 22s 27ms/step - loss: 35.0931 - mae: 4.5333 - val_loss: 17.0037 - val_mae: 3.1668\n",
      "Epoch 46/50\n",
      "819/819 [==============================] - 22s 26ms/step - loss: 35.2037 - mae: 4.5367 - val_loss: 18.7837 - val_mae: 3.4009\n",
      "Epoch 47/50\n",
      "819/819 [==============================] - 21s 26ms/step - loss: 35.0770 - mae: 4.5293 - val_loss: 16.6973 - val_mae: 3.1528\n",
      "Epoch 48/50\n",
      "819/819 [==============================] - 21s 26ms/step - loss: 35.4211 - mae: 4.5550 - val_loss: 18.6568 - val_mae: 3.3642\n",
      "Epoch 49/50\n",
      "819/819 [==============================] - 21s 26ms/step - loss: 35.1772 - mae: 4.5350 - val_loss: 16.6918 - val_mae: 3.1402\n",
      "Epoch 50/50\n",
      "819/819 [==============================] - 21s 26ms/step - loss: 35.0811 - mae: 4.5301 - val_loss: 16.7503 - val_mae: 3.1765\n"
     ]
    }
   ],
   "source": [
    "from keras.models import Sequential\n",
    "from keras import layers\n",
    "from keras.optimizers import RMSprop\n",
    "\n",
    "\n",
    "def model_fn(a_layer=None):\n",
    "    model = Sequential(name='LSTM_model')\n",
    "    \n",
    "    # 훈련 속도를 놓이기 위해 순환 드롭아웃을 제외합니다.\n",
    "    # x = layers.LSTM(32, recurrent_dropout=0.25)(inputs)\n",
    "    \n",
    "    model.add(layers.LSTM(32, input_shape=(sequence_length, raw_data.shape[-1])))\n",
    "    model.add(layers.Dropout(0.5))\n",
    "    \n",
    "    if a_layer:\n",
    "        model.add(a_layer)\n",
    "    \n",
    "    model.add(layers.Dense(1))\n",
    "\n",
    "    return model\n",
    "\n",
    "\n",
    "model = model_fn()\n",
    "model.compile(optimizer=RMSprop(), loss='mse', metrics=['mae'])\n",
    "\n",
    "callbacks = [\n",
    "    keras.callbacks.ModelCheckpoint('jena_lstm_LSTM.keras',\n",
    "                                    save_best_only=True)\n",
    "]\n",
    "\n",
    "history_LSTM = model.fit(train_dataset,\n",
    "                        epochs=50, \n",
    "                        validation_data=val_dataset,\n",
    "                        callbacks=callbacks)"
   ]
  },
  {
   "cell_type": "code",
   "execution_count": 5,
   "id": "71b03f3c-7ed4-4dee-b601-343ab9113fd4",
   "metadata": {},
   "outputs": [
    {
     "name": "stdout",
     "output_type": "stream",
     "text": [
      "Epoch 1/50\n",
      "819/819 [==============================] - 35s 38ms/step - loss: 35.0389 - mae: 4.5488 - val_loss: 16.6598 - val_mae: 3.1950\n",
      "Epoch 2/50\n",
      "819/819 [==============================] - 30s 36ms/step - loss: 22.0604 - mae: 3.6991 - val_loss: 23.1430 - val_mae: 3.8876\n",
      "Epoch 3/50\n",
      "819/819 [==============================] - 30s 37ms/step - loss: 20.8572 - mae: 3.5839 - val_loss: 18.5082 - val_mae: 3.3975\n",
      "Epoch 4/50\n",
      "819/819 [==============================] - 30s 36ms/step - loss: 20.0349 - mae: 3.5082 - val_loss: 19.0231 - val_mae: 3.4551\n",
      "Epoch 5/50\n",
      "819/819 [==============================] - 30s 36ms/step - loss: 19.3348 - mae: 3.4460 - val_loss: 15.3931 - val_mae: 3.0671\n",
      "Epoch 6/50\n",
      "819/819 [==============================] - 30s 36ms/step - loss: 18.7533 - mae: 3.3894 - val_loss: 17.4270 - val_mae: 3.3059\n",
      "Epoch 7/50\n",
      "819/819 [==============================] - 30s 36ms/step - loss: 18.2540 - mae: 3.3460 - val_loss: 13.5868 - val_mae: 2.8974\n",
      "Epoch 8/50\n",
      "819/819 [==============================] - 30s 36ms/step - loss: 17.8336 - mae: 3.3062 - val_loss: 20.1225 - val_mae: 3.6141\n",
      "Epoch 9/50\n",
      "819/819 [==============================] - 30s 37ms/step - loss: 17.6121 - mae: 3.2853 - val_loss: 13.9884 - val_mae: 2.9412\n",
      "Epoch 10/50\n",
      "819/819 [==============================] - 30s 36ms/step - loss: 17.4119 - mae: 3.2699 - val_loss: 15.6124 - val_mae: 3.0862\n",
      "Epoch 11/50\n",
      "819/819 [==============================] - 30s 36ms/step - loss: 17.0745 - mae: 3.2358 - val_loss: 15.5546 - val_mae: 3.0983\n",
      "Epoch 12/50\n",
      "819/819 [==============================] - 30s 36ms/step - loss: 16.8615 - mae: 3.2141 - val_loss: 15.7380 - val_mae: 3.1277\n",
      "Epoch 13/50\n",
      "819/819 [==============================] - 30s 36ms/step - loss: 16.5963 - mae: 3.1890 - val_loss: 14.2548 - val_mae: 2.9510\n",
      "Epoch 14/50\n",
      "819/819 [==============================] - 30s 37ms/step - loss: 16.2492 - mae: 3.1586 - val_loss: 15.6650 - val_mae: 3.1300\n",
      "Epoch 15/50\n",
      "819/819 [==============================] - 30s 36ms/step - loss: 15.9775 - mae: 3.1272 - val_loss: 15.3798 - val_mae: 3.0675\n",
      "Epoch 16/50\n",
      "819/819 [==============================] - 30s 37ms/step - loss: 15.9249 - mae: 3.1218 - val_loss: 14.3797 - val_mae: 2.9940\n",
      "Epoch 17/50\n",
      "819/819 [==============================] - 30s 36ms/step - loss: 15.7634 - mae: 3.1019 - val_loss: 13.4707 - val_mae: 2.8957\n",
      "Epoch 18/50\n",
      "819/819 [==============================] - 30s 37ms/step - loss: 15.5409 - mae: 3.0837 - val_loss: 14.3637 - val_mae: 2.9772\n",
      "Epoch 19/50\n",
      "819/819 [==============================] - 30s 37ms/step - loss: 15.3894 - mae: 3.0672 - val_loss: 15.6535 - val_mae: 3.1374\n",
      "Epoch 20/50\n",
      "819/819 [==============================] - 30s 36ms/step - loss: 15.3736 - mae: 3.0665 - val_loss: 15.2483 - val_mae: 3.0787\n",
      "Epoch 21/50\n",
      "819/819 [==============================] - 30s 36ms/step - loss: 15.2092 - mae: 3.0501 - val_loss: 15.2652 - val_mae: 3.0715\n",
      "Epoch 22/50\n",
      "819/819 [==============================] - 30s 36ms/step - loss: 14.9946 - mae: 3.0258 - val_loss: 13.9283 - val_mae: 2.9330\n",
      "Epoch 23/50\n",
      "819/819 [==============================] - 29s 36ms/step - loss: 14.9943 - mae: 3.0265 - val_loss: 13.7166 - val_mae: 2.9160\n",
      "Epoch 24/50\n",
      "819/819 [==============================] - 30s 36ms/step - loss: 14.9629 - mae: 3.0207 - val_loss: 15.4658 - val_mae: 3.0471\n",
      "Epoch 25/50\n",
      "819/819 [==============================] - 30s 36ms/step - loss: 14.5514 - mae: 2.9848 - val_loss: 14.3513 - val_mae: 2.9805\n",
      "Epoch 26/50\n",
      "819/819 [==============================] - 29s 36ms/step - loss: 14.5043 - mae: 2.9740 - val_loss: 13.4560 - val_mae: 2.8839\n",
      "Epoch 27/50\n",
      "819/819 [==============================] - 30s 36ms/step - loss: 14.6071 - mae: 2.9845 - val_loss: 13.5319 - val_mae: 2.9316\n",
      "Epoch 28/50\n",
      "819/819 [==============================] - 30s 36ms/step - loss: 14.3458 - mae: 2.9599 - val_loss: 13.6497 - val_mae: 2.9013\n",
      "Epoch 29/50\n",
      "819/819 [==============================] - 30s 36ms/step - loss: 14.1704 - mae: 2.9398 - val_loss: 14.4623 - val_mae: 2.9980\n",
      "Epoch 30/50\n",
      "819/819 [==============================] - 30s 36ms/step - loss: 14.2393 - mae: 2.9448 - val_loss: 14.1045 - val_mae: 2.9356\n",
      "Epoch 31/50\n",
      "819/819 [==============================] - 30s 36ms/step - loss: 14.0678 - mae: 2.9284 - val_loss: 15.1336 - val_mae: 3.0486\n",
      "Epoch 32/50\n",
      "819/819 [==============================] - 30s 37ms/step - loss: 14.1341 - mae: 2.9323 - val_loss: 13.7639 - val_mae: 2.9094\n",
      "Epoch 33/50\n",
      "819/819 [==============================] - 30s 37ms/step - loss: 13.8318 - mae: 2.9031 - val_loss: 15.1730 - val_mae: 3.0689\n",
      "Epoch 34/50\n",
      "819/819 [==============================] - 30s 36ms/step - loss: 13.8382 - mae: 2.8995 - val_loss: 14.1308 - val_mae: 2.9374\n",
      "Epoch 35/50\n",
      "819/819 [==============================] - 30s 36ms/step - loss: 13.8014 - mae: 2.8973 - val_loss: 13.4790 - val_mae: 2.8974\n",
      "Epoch 36/50\n",
      "819/819 [==============================] - 30s 36ms/step - loss: 13.6549 - mae: 2.8837 - val_loss: 13.6857 - val_mae: 2.9151\n",
      "Epoch 37/50\n",
      "819/819 [==============================] - 30s 37ms/step - loss: 13.6538 - mae: 2.8815 - val_loss: 14.3676 - val_mae: 2.9642\n",
      "Epoch 38/50\n",
      "819/819 [==============================] - 30s 36ms/step - loss: 13.4830 - mae: 2.8670 - val_loss: 14.0378 - val_mae: 2.9218\n",
      "Epoch 39/50\n",
      "819/819 [==============================] - 30s 36ms/step - loss: 13.4741 - mae: 2.8623 - val_loss: 14.7963 - val_mae: 3.0093\n",
      "Epoch 40/50\n",
      "819/819 [==============================] - 30s 37ms/step - loss: 13.4205 - mae: 2.8559 - val_loss: 13.2601 - val_mae: 2.8636\n",
      "Epoch 41/50\n",
      "819/819 [==============================] - 30s 37ms/step - loss: 13.3886 - mae: 2.8500 - val_loss: 14.7995 - val_mae: 3.0032\n",
      "Epoch 42/50\n",
      "819/819 [==============================] - 30s 37ms/step - loss: 13.5620 - mae: 2.8735 - val_loss: 14.9815 - val_mae: 2.9991\n",
      "Epoch 43/50\n",
      "819/819 [==============================] - 30s 36ms/step - loss: 13.3144 - mae: 2.8463 - val_loss: 13.3973 - val_mae: 2.8603\n",
      "Epoch 44/50\n",
      "819/819 [==============================] - 30s 37ms/step - loss: 13.1059 - mae: 2.8234 - val_loss: 14.1600 - val_mae: 2.9341\n",
      "Epoch 45/50\n",
      "819/819 [==============================] - 30s 37ms/step - loss: 13.1042 - mae: 2.8191 - val_loss: 14.7744 - val_mae: 3.0074\n",
      "Epoch 46/50\n",
      "819/819 [==============================] - 30s 37ms/step - loss: 13.0365 - mae: 2.8140 - val_loss: 13.5013 - val_mae: 2.8933\n",
      "Epoch 47/50\n",
      "819/819 [==============================] - 30s 37ms/step - loss: 12.9789 - mae: 2.8081 - val_loss: 14.4529 - val_mae: 2.9628\n",
      "Epoch 48/50\n",
      "819/819 [==============================] - 30s 37ms/step - loss: 12.8773 - mae: 2.7954 - val_loss: 13.8303 - val_mae: 2.9255\n",
      "Epoch 49/50\n",
      "819/819 [==============================] - 30s 37ms/step - loss: 12.8760 - mae: 2.7960 - val_loss: 14.5320 - val_mae: 2.9722\n",
      "Epoch 50/50\n",
      "819/819 [==============================] - 30s 36ms/step - loss: 12.8379 - mae: 2.7925 - val_loss: 14.1732 - val_mae: 2.9349\n"
     ]
    }
   ],
   "source": [
    "from keras.models import Sequential\n",
    "from keras import layers\n",
    "from keras.optimizers import RMSprop\n",
    "\n",
    "\n",
    "def model_fn(a_layer=None):\n",
    "    model = Sequential(name='GRU_model')\n",
    "    \n",
    "    # 훈련 속도를 놓이기 위해 순환 드롭아웃을 제외합니다.\n",
    "    # x = layers.GRU(32, recurrent_dropout=0.5, return_sequences=True)(inputs)\n",
    "    # x = layers.GRU(32, recurrent_dropout=0.5)(x)\n",
    "    model.add(layers.GRU(32, return_sequences=True, input_shape=(sequence_length, raw_data.shape[-1])))\n",
    "    model.add(layers.GRU(32))\n",
    "    model.add(layers.Dropout(0.5))\n",
    "    \n",
    "    if a_layer:\n",
    "        model.add(a_layer)\n",
    "    \n",
    "    model.add(layers.Dense(1))\n",
    "\n",
    "    return model\n",
    "\n",
    "\n",
    "model = model_fn()\n",
    "model.compile(optimizer=RMSprop(), loss='mse', metrics=['mae'])\n",
    "\n",
    "callbacks = [\n",
    "    keras.callbacks.ModelCheckpoint('jena_lstm_GRU.keras',\n",
    "                                    save_best_only=True)\n",
    "]\n",
    "\n",
    "history_GRU = model.fit(train_dataset,\n",
    "                        epochs=50, \n",
    "                        validation_data=val_dataset,\n",
    "                        callbacks=callbacks)"
   ]
  },
  {
   "cell_type": "code",
   "execution_count": 6,
   "id": "34838f77-0c11-4576-aad3-afeda91654dd",
   "metadata": {},
   "outputs": [
    {
     "data": {
      "image/png": "[encoded data removed]",
      "text/plain": [
       "<Figure size 640x480 with 1 Axes>"
      ]
     },
     "metadata": {},
     "output_type": "display_data"
    }
   ],
   "source": [
    "plot(history_GRU)"
   ]
  },
  {
   "cell_type": "code",
   "execution_count": 1,
   "id": "27d92141-d5cb-4860-a7da-f267869635fd",
   "metadata": {},
   "outputs": [
    {
     "name": "stdout",
     "output_type": "stream",
     "text": [
      "Default GPU Device: /device:GPU:0\n",
      "TensorFlow 버전: 2.10.0\n"
     ]
    }
   ],
   "source": [
    "import tensorflow as tf\n",
    "\n",
    "# GPU를 사용하고 있는지 확인\n",
    "if tf.test.gpu_device_name():\n",
    "    print('Default GPU Device: {}'.format(tf.test.gpu_device_name()))\n",
    "else:\n",
    "    print(\"GPU가 발견되지 않음. CPU를 사용합니다.\")\n",
    "\n",
    "# TensorFlow 버전 확인\n",
    "print(\"TensorFlow 버전: {}\".format(tf.__version__))"
   ]
  }
 ],
 "metadata": {
  "kernelspec": {
   "display_name": "Python 3 (ipykernel)",
   "language": "python",
   "name": "python3"
  },
  "language_info": {
   "codemirror_mode": {
    "name": "ipython",
    "version": 3
   },
   "file_extension": ".py",
   "mimetype": "text/x-python",
   "name": "python",
   "nbconvert_exporter": "python",
   "pygments_lexer": "ipython3",
   "version": "3.10.10"
  }
 },
 "nbformat": 4,
 "nbformat_minor": 5
}
