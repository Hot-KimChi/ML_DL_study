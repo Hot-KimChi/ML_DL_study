{
 "cells": [
  {
   "cell_type": "code",
   "execution_count": 1,
   "id": "09497a97",
   "metadata": {},
   "outputs": [
    {
     "data": {
      "text/plain": [
       "<keras.layers.convolutional.conv2d.Conv2D at 0x188ebe734c8>"
      ]
     },
     "execution_count": 1,
     "metadata": {},
     "output_type": "execute_result"
    }
   ],
   "source": [
    "from tensorflow import keras\n",
    "keras.layers.Conv2D(10, kernel_size=(3, 3), activation='relu')"
   ]
  },
  {
   "cell_type": "markdown",
   "id": "a8fb672c",
   "metadata": {},
   "source": [
    "### Conv2D 클래스\n",
    "### keras.layers.Conv2D(10, kernel_size=(3, 3), activation='relu')\n",
    "- 첫번째 매개변수: 필터(도장)의 개수\n",
    "- kernel_size: 필터에 사용할 커널의 크기 지정\n",
    "- 위에 2개는 반드시 지정해야 하는 매개변수\n",
    "- 마지막 활성화 함수 지정\n"
   ]
  }
 ],
 "metadata": {
  "kernelspec": {
   "display_name": "Python 3 (ipykernel)",
   "language": "python",
   "name": "python3"
  },
  "language_info": {
   "codemirror_mode": {
    "name": "ipython",
    "version": 3
   },
   "file_extension": ".py",
   "mimetype": "text/x-python",
   "name": "python",
   "nbconvert_exporter": "python",
   "pygments_lexer": "ipython3",
   "version": "3.7.9"
  }
 },
 "nbformat": 4,
 "nbformat_minor": 5
}
