{
 "cells": [
  {
   "cell_type": "markdown",
   "id": "bb3c8f10",
   "metadata": {},
   "source": [
    "#### 이 과정을 돌이켜 보면 20번의 에포크 동안 모델을 훈련하여 검증 점수가 상승하는 지점을 확인\n",
    "#### 그 다음 모델을 과대적합되지 않는 에포크만큼 다시 훈련\n",
    "#### 모델을 두 번씩 훈련하지 않고 한번에 끝낼 수는 없을까? ==> keras.callback"
   ]
  },
  {
   "cell_type": "markdown",
   "id": "6a83e815",
   "metadata": {},
   "source": [
    "### 콜백(callback)\n",
    "- 훈련 과정 중간에 어떤 작업을 수행할 수 있게 하는 객체로 keras.callbacks 패키지 아래에 있는 클래스\n",
    "- fit() 메서드의 callbacks 매개변수에 리스트로 전달하여 사용\n",
    "- **ModelCheckpoint** 콜백은 기본적으로 최상의 검증 점수를 만드는 모델을 자동 저장"
   ]
  }
 ],
 "metadata": {
  "kernelspec": {
   "display_name": "Python 3 (ipykernel)",
   "language": "python",
   "name": "python3"
  },
  "language_info": {
   "codemirror_mode": {
    "name": "ipython",
    "version": 3
   },
   "file_extension": ".py",
   "mimetype": "text/x-python",
   "name": "python",
   "nbconvert_exporter": "python",
   "pygments_lexer": "ipython3",
   "version": "3.7.9"
  }
 },
 "nbformat": 4,
 "nbformat_minor": 5
}
