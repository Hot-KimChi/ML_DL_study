{
 "cells": [
  {
   "cell_type": "markdown",
   "id": "bb3c8f10",
   "metadata": {},
   "source": [
    "#### 1. 이 과정을 돌이켜 보면 20번의 에포크 동안 모델을 훈련하여 검증 점수가 상승하는 지점을 확인\n",
    "#### 2. 그 다음 모델을 과대적합되지 않는 에포크만큼 다시 훈련\n",
    "#### ?? 모델을 두 번씩 훈련하지 않고 한번에 끝낼 수는 없을까? ==> keras.callback"
   ]
  },
  {
   "cell_type": "markdown",
   "id": "6a83e815",
   "metadata": {},
   "source": [
    "### 콜백(callback)\n",
    "- 훈련 과정 중간에 어떤 작업을 수행할 수 있게 하는 객체로 keras.callbacks 패키지 아래에 있는 클래스\n",
    "- fit() 메서드의 callbacks 매개변수에 리스트로 전달하여 사용\n",
    "- **ModelCheckpoint** 콜백은 기본적으로 최상의 검증 점수를 만드는 모델을 자동 저장"
   ]
  },
  {
   "cell_type": "markdown",
   "id": "5784ab0c",
   "metadata": {},
   "source": [
    "### 기존 Code"
   ]
  },
  {
   "cell_type": "code",
   "execution_count": 10,
   "id": "a4c42905",
   "metadata": {},
   "outputs": [],
   "source": [
    "import tensorflow as tf\n",
    "from tensorflow import keras\n",
    "\n",
    "from tensorflow import keras\n",
    "(train_input, train_target), (test_input, test_target) =\\\n",
    "    keras.datasets.fashion_mnist.load_data()\n",
    "\n",
    "from sklearn.model_selection import train_test_split\n",
    "train_scaled = train_input/255.0\n",
    "train_scaled, val_scaled, train_target, val_target = train_test_split(train_scaled, train_target, test_size=0.2, random_state=42)\n",
    "\n",
    "\n",
    "def model_fn(a_layer=None):\n",
    "    model = keras.Sequential()\n",
    "    model.add(keras.layers.Flatten(input_shape=(28, 28)))\n",
    "    model.add(keras.layers.Dense(100, activation='relu', name='hidden'))\n",
    "    \n",
    "    if a_layer:\n",
    "        model.add(a_layer)\n",
    "    \n",
    "    model.add(keras.layers.Dense(10, activation='softmax', name='output'))\n",
    "    \n",
    "    return model  "
   ]
  },
  {
   "cell_type": "code",
   "execution_count": 11,
   "id": "f08ca406",
   "metadata": {},
   "outputs": [
    {
     "data": {
      "text/plain": [
       "<keras.callbacks.History at 0x230006e8088>"
      ]
     },
     "execution_count": 11,
     "metadata": {},
     "output_type": "execute_result"
    }
   ],
   "source": [
    "model = model_fn(keras.layers.Dropout(0.3))\n",
    "model.compile(optimizer='adam', loss='sparse_categorical_crossentropy', metrics='accuracy')\n",
    "\n",
    "## [best-model.h5]로 파일 이름을 지정하여 최상의 검증 점수의 모델을 저장.\n",
    "checkpoint_cb = keras.callbacks.ModelCheckpoint('best-model.h5')\n",
    "model.fit(train_scaled, train_target, epochs=20, verbose=0, validation_data=(val_scaled, val_target), callbacks=[checkpoint_cb])"
   ]
  },
  {
   "cell_type": "markdown",
   "id": "320f7709",
   "metadata": {},
   "source": [
    "### 모델이 훈련한 후, [best-model.h5] 에 최상의 검증 점수 저장.\n",
    "### 이 모델을 load_model() 함수로 다시 읽어서 예측 수행."
   ]
  },
  {
   "cell_type": "code",
   "execution_count": 12,
   "id": "47105bbf",
   "metadata": {},
   "outputs": [
    {
     "name": "stdout",
     "output_type": "stream",
     "text": [
      "375/375 [==============================] - 1s 2ms/step - loss: 0.3328 - accuracy: 0.8859\n"
     ]
    },
    {
     "data": {
      "text/plain": [
       "[0.33279338479042053, 0.8859166502952576]"
      ]
     },
     "execution_count": 12,
     "metadata": {},
     "output_type": "execute_result"
    }
   ],
   "source": [
    "model = keras.models.load_model('best-model.h5')\n",
    "model.evaluate(val_scaled, val_target)"
   ]
  },
  {
   "cell_type": "markdown",
   "id": "4399ba6d",
   "metadata": {},
   "source": [
    "### 조기종료(early stopping)\n",
    "- ModelCheckpoint 콜백이 가장 낮은 검증 점수 모델 자동 저장\n",
    "- 하지만 20번의 에포크 동안 훈련 지속. => 검증 점수가 상승하기 시작하면 과대적합이기에 훈련을 할 필요가 없다.\n",
    "- 훈련을 중지하면 컴퓨터 자원과 시간을 아낄 수 있다. => 조기종료\n",
    "- 조기 종료는 훈련 에포크의 횟수를 제한하는 역할이자만 모델이 과대적합되는 것을 막아 주기 때문에, 규제 방법 중 하나."
   ]
  },
  {
   "cell_type": "code",
   "execution_count": 13,
   "id": "1091f2ba",
   "metadata": {},
   "outputs": [],
   "source": [
    "model = model_fn(keras.layers.Dropout(0.3))\n",
    "model.compile(optimizer='adam', loss='sparse_categorical_crossentropy', metrics='accuracy')\n",
    "\n",
    "## [best-model.h5]로 파일 이름을 지정하여 최상의 검증 점수의 모델을 저장.\n",
    "checkpoint_cb = keras.callbacks.ModelCheckpoint('best-model.h5')\n",
    "early_stopping_cb = keras.callbacks.EarlyStopping(patience=2, restore_best_weights=True)\n",
    "\n",
    "history = model.fit(train_scaled, train_target, epochs=20, verbose=0, validation_data=(val_scaled, val_target), \n",
    "          callbacks=[checkpoint_cb, early_stopping_cb])"
   ]
  },
  {
   "cell_type": "markdown",
   "id": "6c6f7c63",
   "metadata": {},
   "source": [
    "- patience 매개변수: 검증 점수가 향상되지 않더라도 참을 에포크 횟수 지정\n",
    "- restore_best_weights = True, => 가장 낮은 검증 손실을 낸 모델 파라미터롤 되돌림.\n",
    "- EarlyStopping 콜백 & ModelCheckpoint 콜백과 함께 사용 시\n",
    "    - 가장 낮은 검증 손실의 모델을 파일에 저장하고 검증 손실이 다시 상승할 때 훈련 중지\n",
    "    - 훈련 중지 후, 현재 모델의 파라미터를 최상의 파라미터로 되돌림."
   ]
  },
  {
   "cell_type": "code",
   "execution_count": 14,
   "id": "114cfe1b",
   "metadata": {},
   "outputs": [
    {
     "name": "stdout",
     "output_type": "stream",
     "text": [
      "7\n"
     ]
    }
   ],
   "source": [
    "print(early_stopping_cb.stopped_epoch)"
   ]
  },
  {
   "cell_type": "markdown",
   "id": "f27144ff",
   "metadata": {},
   "source": [
    "#### 7번째 에포크에서 훈련이 중지 => 5번째가 최상의 모델.(patience = 2로 지정)"
   ]
  },
  {
   "cell_type": "code",
   "execution_count": 15,
   "id": "ecf2fc61",
   "metadata": {},
   "outputs": [
    {
     "data": {
      "image/png": "[encoded data removed]",
      "text/plain": [
       "<Figure size 432x288 with 1 Axes>"
      ]
     },
     "metadata": {
      "needs_background": "light"
     },
     "output_type": "display_data"
    }
   ],
   "source": [
    "import matplotlib.pyplot as plt\n",
    "plt.plot(history.history['loss'])\n",
    "plt.plot(history.history['val_loss'])\n",
    "plt.xlabel('epoch')\n",
    "plt.ylabel('loss')\n",
    "plt.legend(['train', 'val'])\n",
    "plt.show()"
   ]
  },
  {
   "cell_type": "code",
   "execution_count": 17,
   "id": "35d42a8c",
   "metadata": {},
   "outputs": [
    {
     "name": "stdout",
     "output_type": "stream",
     "text": [
      "375/375 [==============================] - 1s 1ms/step - loss: 0.3345 - accuracy: 0.8797\n"
     ]
    },
    {
     "data": {
      "text/plain": [
       "[0.3345144987106323, 0.8796666860580444]"
      ]
     },
     "execution_count": 17,
     "metadata": {},
     "output_type": "execute_result"
    }
   ],
   "source": [
    "model.evaluate(val_scaled, val_target)"
   ]
  }
 ],
 "metadata": {
  "kernelspec": {
   "display_name": "Python 3 (ipykernel)",
   "language": "python",
   "name": "python3"
  },
  "language_info": {
   "codemirror_mode": {
    "name": "ipython",
    "version": 3
   },
   "file_extension": ".py",
   "mimetype": "text/x-python",
   "name": "python",
   "nbconvert_exporter": "python",
   "pygments_lexer": "ipython3",
   "version": "3.7.9"
  }
 },
 "nbformat": 4,
 "nbformat_minor": 5
}
