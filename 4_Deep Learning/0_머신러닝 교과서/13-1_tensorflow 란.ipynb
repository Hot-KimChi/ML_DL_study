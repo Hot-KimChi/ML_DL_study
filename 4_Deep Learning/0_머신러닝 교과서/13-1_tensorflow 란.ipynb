{
 "cells": [
  {
   "cell_type": "markdown",
   "id": "9d22fff7",
   "metadata": {},
   "source": [
    "### 가중치 학습에 필요한 로지스틱 비용함수\n",
    "- 은닉층을 추가하거나 고해상도 이미지를 다룰 경우에는 가중치 파라미터 개수가 급격히 증가\n",
    "- 이런 작업은 금방 단일 프로세스로는 수행하기 어렵다.\n",
    "- 해결책\n",
    "    - 일당백의 능력을 가진 GPU 사용\n",
    "    - 그래픽 카드를 컴퓨터 안에 포함된 작은 컴퓨터의 클러스터로 생각\n",
    "- 최신 CPU 가격 70% 정도 = 290배나 많은 GPU 코어 개수\n",
    "- GPU 초당 부동소수점 연산을 10배나 많이 할수 있다."
   ]
  }
 ],
 "metadata": {
  "kernelspec": {
   "display_name": "Python 3 (ipykernel)",
   "language": "python",
   "name": "python3"
  },
  "language_info": {
   "codemirror_mode": {
    "name": "ipython",
    "version": 3
   },
   "file_extension": ".py",
   "mimetype": "text/x-python",
   "name": "python",
   "nbconvert_exporter": "python",
   "pygments_lexer": "ipython3",
   "version": "3.7.9"
  }
 },
 "nbformat": 4,
 "nbformat_minor": 5
}
