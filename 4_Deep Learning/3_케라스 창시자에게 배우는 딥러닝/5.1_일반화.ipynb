{
 "cells": [
  {
   "cell_type": "code",
   "execution_count": 1,
   "metadata": {},
   "outputs": [
    {
     "name": "stdout",
     "output_type": "stream",
     "text": [
      "Downloading data from https://storage.googleapis.com/tensorflow/tf-keras-datasets/mnist.npz\n",
      "11490434/11490434 [==============================] - 1s 0us/step\n"
     ]
    }
   ],
   "source": [
    "from tensorflow.keras.datasets import mnist\n",
    "import numpy as np"
   ]
  },
  {
   "attachments": {},
   "cell_type": "markdown",
   "metadata": {},
   "source": [
    ">##### MNIST에 백색 잡음 픽셀과 0픽셀 추가하기"
   ]
  },
  {
   "cell_type": "code",
   "execution_count": 6,
   "metadata": {},
   "outputs": [
    {
     "name": "stdout",
     "output_type": "stream",
     "text": [
      "원래 image size: (60000, 784)\n",
      "Noise 추가 image size: (60000, 1568)\n",
      "0픽셀 추가 image size: (60000, 1568)\n"
     ]
    }
   ],
   "source": [
    "(train_images, train_labels), _ = mnist.load_data()                     ## data_load\n",
    "train_images = train_images.reshape(-1, 28*28)                          ## N sample x height x width => N sample x (height*width) 차원 변경.\n",
    "print(\"원래 image size:\", train_images.shape)\n",
    "\n",
    "## Normalization(정규화 진행)\n",
    "train_images = train_images.astype(\"float32\") / 255\n",
    "\n",
    "## 노이즈 추가\n",
    "train_images_with_noise_channels = np.concatenate([train_images, np.random.random((len(train_images), 28*28))], axis=1)\n",
    "print(\"Noise 추가 image size:\", train_images_with_noise_channels.shape)\n",
    "\n",
    "## 0 픽셀 추가하기\n",
    "train_images_with_zeros_channels = np.concatenate([train_images, np.zeros((len(train_images), 28*28))], axis=1)\n",
    "print(\"0픽셀 추가 image size:\", train_images_with_zeros_channels.shape)"
   ]
  },
  {
   "attachments": {},
   "cell_type": "markdown",
   "metadata": {},
   "source": [
    ">##### 백색 잡음과 0을 추가한 MNIST 데이터에서 모델 훈련"
   ]
  },
  {
   "cell_type": "code",
   "execution_count": 7,
   "metadata": {},
   "outputs": [],
   "source": [
    "from tensorflow import keras\n",
    "from tensorflow.keras import layers"
   ]
  },
  {
   "cell_type": "code",
   "execution_count": 8,
   "metadata": {},
   "outputs": [],
   "source": [
    "def get_model():\n",
    "    model = keras.Sequential()\n",
    "    model.add(keras.layers.Dense(512, activation=\"relu\"))\n",
    "    model.add(keras.layers.Dense(10, activation=\"softmax\"))\n",
    "    \n",
    "    model.compile(optimizer=\"rmsprop\",\n",
    "                  loss=\"sparse_categorical_crossentropy\",\n",
    "                  metrics=[\"accuracy\"])\n",
    "    \n",
    "    return model"
   ]
  },
  {
   "cell_type": "code",
   "execution_count": null,
   "metadata": {},
   "outputs": [],
   "source": [
    "model = get_model()\n",
    "history_noise = model.fit(train_images_with_noise_channels, \n",
    "                          train_labels,\n",
    "                          epochs=10,\n",
    "                          batch_size=128,\n",
    "                          validation_split=0.2)\n",
    "\n",
    "model = get_model()\n",
    "history_zeros = model.fit(train_images_with_zeros_channels,\n",
    "                          train_labels,\n",
    "                          epochs=10)"
   ]
  }
 ],
 "metadata": {
  "kernelspec": {
   "display_name": "Python 3",
   "language": "python",
   "name": "python3"
  },
  "language_info": {
   "codemirror_mode": {
    "name": "ipython",
    "version": 3
   },
   "file_extension": ".py",
   "mimetype": "text/x-python",
   "name": "python",
   "nbconvert_exporter": "python",
   "pygments_lexer": "ipython3",
   "version": "3.7.9"
  },
  "orig_nbformat": 4,
  "vscode": {
   "interpreter": {
    "hash": "1f2ac25b4a6d870602abfa5d74e7d6f1ae274ba9e86645830384575c0e5c89f3"
   }
  }
 },
 "nbformat": 4,
 "nbformat_minor": 2
}
