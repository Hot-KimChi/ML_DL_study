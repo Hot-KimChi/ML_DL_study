{
 "cells": [
  {
   "attachments": {},
   "cell_type": "markdown",
   "metadata": {},
   "source": [
    ">### Imports"
   ]
  },
  {
   "cell_type": "code",
   "execution_count": 3,
   "metadata": {},
   "outputs": [
    {
     "name": "stderr",
     "output_type": "stream",
     "text": [
      "c:\\Users\\sel04327\\AppData\\Local\\Programs\\Python\\Python37\\lib\\site-packages\\tqdm\\auto.py:21: TqdmWarning: IProgress not found. Please update jupyter and ipywidgets. See https://ipywidgets.readthedocs.io/en/stable/user_install.html\n",
      "  from .autonotebook import tqdm as notebook_tqdm\n"
     ]
    }
   ],
   "source": [
    "import numpy as np\n",
    "import tensorflow as tf\n",
    "import tensorflow_datasets as tfds\n",
    "import matplotlib.pyplot as plt\n",
    "\n",
    "from tensorflow import keras\n",
    "from tensorflow.keras import layers\n",
    "\n",
    "AUTOTUNE = tf.data.AUTOTUNE"
   ]
  },
  {
   "attachments": {},
   "cell_type": "markdown",
   "metadata": {},
   "source": [
    ">### Download the training dataset\n",
    "- cache() 메서드는 데이터셋을 빠르게 액세스하기 위해 메모리나 디스크에 캐시하는 데 사용.\n",
    "- 데이터셋을 캐시하면 훈련 프로세스의 성능을 크게 향상\n",
    "    - 특히 데이터셋이 메모리에 맞지 않을 경우, 캐시를 사용하는 것이 유용합니다. \n",
    "    - 또한 I/O 대역폭이 제한되거나 데이터셋 전처리 시간이 오래 걸리는 경우에도 유용합니다.\n",
    "- 데이터셋을 캐시함으로써 불필요한 데이터 로딩 및 전처리 작업을 피할 수 있으며, 이는 시간을 절약하고 I/O 작업을 saving\n",
    "    - 이는 특히 대용량 데이터셋이나 다중 에포크를 요구하는 딥러닝 모델을 훈련할 때 유용합니다."
   ]
  },
  {
   "cell_type": "code",
   "execution_count": 8,
   "metadata": {},
   "outputs": [
    {
     "name": "stderr",
     "output_type": "stream",
     "text": [
      "WARNING:absl:DEPRECATED! Do not use a DatasetBuilder class directly, but call `tfds.builder_cls('div2k')`.\n"
     ]
    }
   ],
   "source": [
    "# Download DIV2K from TF Datasets\n",
    "# Using bicubic 4x degradation type\n",
    "div2k_data = tfds.image.Div2k(config='bicubic_x4')\n",
    "div2k_data.download_and_prepare()\n",
    "\n",
    "# Taking train data from div2k_data object\n",
    "train = div2k_data.as_dataset(split='train', as_supervised=True)\n",
    "train_cache = train.cache()\n",
    "# validation data\n",
    "val = div2k_data.as_dataset(split='validation', as_supervised=True)\n",
    "val_cache = val.cache()"
   ]
  },
  {
   "attachments": {},
   "cell_type": "markdown",
   "metadata": {},
   "source": [
    ">### Flip, crop and resize images"
   ]
  },
  {
   "cell_type": "code",
   "execution_count": 12,
   "metadata": {},
   "outputs": [],
   "source": [
    "def func_flip_LR(lowres_img, highres_img):\n",
    "    '''Flips Images to left and right'''\n",
    "    \n",
    "    # outputs random values from a uniform distribution in between 0 to 1\n",
    "    rn = tf.random.uniform(shape=(), maxval=1)\n",
    "    \n",
    "    return tf.cond(rn < 0.5,\n",
    "                   lambda: (lowres_img, highres_img),\n",
    "                   lambda: (tf.image.flip_left_right(lowres_img), tf.image.flip_left_right(highres_img),\n",
    "                            ),\n",
    "                   )\n",
    "    \n",
    "\n",
    "def func_random_crop(lowres_img, highres_img, hr_crop_size=96, scale=4):\n",
    "    \"\"\"Crop images.\n",
    "\n",
    "    low resolution images: 24x24\n",
    "    high resolution images: 96x96\n",
    "    \"\"\"\n",
    "    lowres_crop_size = hr_crop_size // scale  # 96//4=24\n",
    "    lowres_img_shape = tf.shape(lowres_img)[:2]  # (height,width)\n",
    "\n",
    "    lowres_width = tf.random.uniform(\n",
    "        shape=(), maxval=lowres_img_shape[1] - lowres_crop_size + 1, dtype=tf.int32\n",
    "    )\n",
    "    lowres_height = tf.random.uniform(\n",
    "        shape=(), maxval=lowres_img_shape[0] - lowres_crop_size + 1, dtype=tf.int32\n",
    "    )\n",
    "\n",
    "    highres_width = lowres_width * scale\n",
    "    highres_height = lowres_height * scale\n",
    "\n",
    "    lowres_img_cropped = lowres_img[\n",
    "        lowres_height : lowres_height + lowres_crop_size,\n",
    "        lowres_width : lowres_width + lowres_crop_size,\n",
    "    ]  # 24x24\n",
    "    highres_img_cropped = highres_img[\n",
    "        highres_height : highres_height + hr_crop_size,\n",
    "        highres_width : highres_width + hr_crop_size,\n",
    "    ]  # 96x96\n",
    "\n",
    "    return lowres_img_cropped, highres_img_cropped\n",
    "\n",
    "\n",
    "def func_random_rotate(lowres_img, highres_img):\n",
    "    \"\"\"Rotates Images by 90 degrees.\"\"\"\n",
    "\n",
    "    # Outputs random values from uniform distribution in between 0 to 4\n",
    "    rn = tf.random.uniform(shape=(), maxval=4, dtype=tf.int32)\n",
    "    # Here rn signifies number of times the image(s) are rotated by 90 degrees\n",
    "    return tf.image.rot90(lowres_img, rn), tf.image.rot90(highres_img, rn)"
   ]
  },
  {
   "attachments": {
    "image.png": {
     "image/png": "[encoded data removed]"
    }
   },
   "cell_type": "markdown",
   "metadata": {},
   "source": [
    "![image.png](attachment:image.png)"
   ]
  },
  {
   "attachments": {},
   "cell_type": "markdown",
   "metadata": {},
   "source": [
    ">### tf.data.Dataset 준비"
   ]
  },
  {
   "cell_type": "code",
   "execution_count": 5,
   "metadata": {},
   "outputs": [
    {
     "name": "stdout",
     "output_type": "stream",
     "text": [
      "Num GPUs: 1\n"
     ]
    }
   ],
   "source": [
    "physical_devices = tf.config.list_physical_devices('GPU')\n",
    "print(\"Num GPUs:\", len(physical_devices))"
   ]
  },
  {
   "cell_type": "code",
   "execution_count": 13,
   "metadata": {},
   "outputs": [
    {
     "ename": "TypeError",
     "evalue": "The `map_func` argument must return a `Dataset` object. Got <class 'tuple'>.",
     "output_type": "error",
     "traceback": [
      "\u001b[1;31m---------------------------------------------------------------------------\u001b[0m",
      "\u001b[1;31mTypeError\u001b[0m                                 Traceback (most recent call last)",
      "\u001b[1;32m~\\AppData\\Local\\Temp\\ipykernel_28608\\1886917789.py\u001b[0m in \u001b[0;36m<module>\u001b[1;34m\u001b[0m\n\u001b[0;32m     26\u001b[0m     \u001b[1;32mreturn\u001b[0m \u001b[0mds\u001b[0m\u001b[1;33m\u001b[0m\u001b[1;33m\u001b[0m\u001b[0m\n\u001b[0;32m     27\u001b[0m \u001b[1;33m\u001b[0m\u001b[0m\n\u001b[1;32m---> 28\u001b[1;33m \u001b[0mtrain_ds\u001b[0m \u001b[1;33m=\u001b[0m \u001b[0mfunc_dataset_object\u001b[0m\u001b[1;33m(\u001b[0m\u001b[0mtrain_cache\u001b[0m\u001b[1;33m,\u001b[0m \u001b[0mtraining\u001b[0m\u001b[1;33m=\u001b[0m\u001b[1;32mTrue\u001b[0m\u001b[1;33m)\u001b[0m\u001b[1;33m\u001b[0m\u001b[1;33m\u001b[0m\u001b[0m\n\u001b[0m\u001b[0;32m     29\u001b[0m \u001b[0mval_ds\u001b[0m \u001b[1;33m=\u001b[0m \u001b[0mfunc_dataset_object\u001b[0m\u001b[1;33m(\u001b[0m\u001b[0mval_cache\u001b[0m\u001b[1;33m,\u001b[0m \u001b[0mtraining\u001b[0m\u001b[1;33m=\u001b[0m\u001b[1;32mFalse\u001b[0m\u001b[1;33m)\u001b[0m\u001b[1;33m\u001b[0m\u001b[1;33m\u001b[0m\u001b[0m\n",
      "\u001b[1;32m~\\AppData\\Local\\Temp\\ipykernel_28608\\1886917789.py\u001b[0m in \u001b[0;36mfunc_dataset_object\u001b[1;34m(dataset_cache, training)\u001b[0m\n\u001b[0;32m     10\u001b[0m         \u001b[1;32mlambda\u001b[0m \u001b[0mlowres\u001b[0m\u001b[1;33m,\u001b[0m \u001b[0mhighres\u001b[0m\u001b[1;33m:\u001b[0m \u001b[0mfunc_random_crop\u001b[0m\u001b[1;33m(\u001b[0m\u001b[0mlowres\u001b[0m\u001b[1;33m,\u001b[0m \u001b[0mhighres\u001b[0m\u001b[1;33m,\u001b[0m \u001b[0mscale\u001b[0m\u001b[1;33m=\u001b[0m\u001b[1;36m4\u001b[0m\u001b[1;33m)\u001b[0m\u001b[1;33m,\u001b[0m  \u001b[1;31m# random_crop 함수를 interleaving\u001b[0m\u001b[1;33m\u001b[0m\u001b[1;33m\u001b[0m\u001b[0m\n\u001b[0;32m     11\u001b[0m         \u001b[0mcycle_length\u001b[0m\u001b[1;33m=\u001b[0m\u001b[0mnum_parallel_reads\u001b[0m\u001b[1;33m,\u001b[0m\u001b[1;33m\u001b[0m\u001b[1;33m\u001b[0m\u001b[0m\n\u001b[1;32m---> 12\u001b[1;33m         \u001b[0mnum_parallel_calls\u001b[0m\u001b[1;33m=\u001b[0m\u001b[0mnum_parallel_interleave\u001b[0m\u001b[1;33m\u001b[0m\u001b[1;33m\u001b[0m\u001b[0m\n\u001b[0m\u001b[0;32m     13\u001b[0m     )\n\u001b[0;32m     14\u001b[0m \u001b[1;33m\u001b[0m\u001b[0m\n",
      "\u001b[1;32mc:\\Users\\sel04327\\AppData\\Local\\Programs\\Python\\Python37\\lib\\site-packages\\tensorflow\\python\\data\\ops\\dataset_ops.py\u001b[0m in \u001b[0;36minterleave\u001b[1;34m(self, map_func, cycle_length, block_length, num_parallel_calls, deterministic, name)\u001b[0m\n\u001b[0;32m   2373\u001b[0m           \u001b[0mnum_parallel_calls\u001b[0m\u001b[1;33m,\u001b[0m\u001b[1;33m\u001b[0m\u001b[1;33m\u001b[0m\u001b[0m\n\u001b[0;32m   2374\u001b[0m           \u001b[0mdeterministic\u001b[0m\u001b[1;33m=\u001b[0m\u001b[0mdeterministic\u001b[0m\u001b[1;33m,\u001b[0m\u001b[1;33m\u001b[0m\u001b[1;33m\u001b[0m\u001b[0m\n\u001b[1;32m-> 2375\u001b[1;33m           name=name)\n\u001b[0m\u001b[0;32m   2376\u001b[0m \u001b[1;33m\u001b[0m\u001b[0m\n\u001b[0;32m   2377\u001b[0m   \u001b[1;32mdef\u001b[0m \u001b[0mfilter\u001b[0m\u001b[1;33m(\u001b[0m\u001b[0mself\u001b[0m\u001b[1;33m,\u001b[0m \u001b[0mpredicate\u001b[0m\u001b[1;33m,\u001b[0m \u001b[0mname\u001b[0m\u001b[1;33m=\u001b[0m\u001b[1;32mNone\u001b[0m\u001b[1;33m)\u001b[0m\u001b[1;33m:\u001b[0m\u001b[1;33m\u001b[0m\u001b[1;33m\u001b[0m\u001b[0m\n",
      "\u001b[1;32mc:\\Users\\sel04327\\AppData\\Local\\Programs\\Python\\Python37\\lib\\site-packages\\tensorflow\\python\\data\\ops\\dataset_ops.py\u001b[0m in \u001b[0;36m__init__\u001b[1;34m(self, input_dataset, map_func, cycle_length, block_length, num_parallel_calls, buffer_output_elements, prefetch_input_elements, deterministic, name)\u001b[0m\n\u001b[0;32m   5571\u001b[0m     \u001b[1;32mif\u001b[0m \u001b[1;32mnot\u001b[0m \u001b[0misinstance\u001b[0m\u001b[1;33m(\u001b[0m\u001b[0mself\u001b[0m\u001b[1;33m.\u001b[0m\u001b[0m_map_func\u001b[0m\u001b[1;33m.\u001b[0m\u001b[0moutput_structure\u001b[0m\u001b[1;33m,\u001b[0m \u001b[0mDatasetSpec\u001b[0m\u001b[1;33m)\u001b[0m\u001b[1;33m:\u001b[0m\u001b[1;33m\u001b[0m\u001b[1;33m\u001b[0m\u001b[0m\n\u001b[0;32m   5572\u001b[0m       raise TypeError(\n\u001b[1;32m-> 5573\u001b[1;33m           \u001b[1;34m\"The `map_func` argument must return a `Dataset` object. Got \"\u001b[0m\u001b[1;33m\u001b[0m\u001b[1;33m\u001b[0m\u001b[0m\n\u001b[0m\u001b[0;32m   5574\u001b[0m           f\"{_get_type(self._map_func.output_structure)!r}.\")\n\u001b[0;32m   5575\u001b[0m     \u001b[0mself\u001b[0m\u001b[1;33m.\u001b[0m\u001b[0m_structure\u001b[0m \u001b[1;33m=\u001b[0m \u001b[0mself\u001b[0m\u001b[1;33m.\u001b[0m\u001b[0m_map_func\u001b[0m\u001b[1;33m.\u001b[0m\u001b[0moutput_structure\u001b[0m\u001b[1;33m.\u001b[0m\u001b[0m_element_spec\u001b[0m  \u001b[1;31m# pylint: disable=protected-access\u001b[0m\u001b[1;33m\u001b[0m\u001b[1;33m\u001b[0m\u001b[0m\n",
      "\u001b[1;31mTypeError\u001b[0m: The `map_func` argument must return a `Dataset` object. Got <class 'tuple'>."
     ]
    }
   ],
   "source": [
    "def func_dataset_object(dataset_cache, training=True):\n",
    "    \n",
    "    ds = dataset_cache\n",
    "    \n",
    "    # num_parallel_reads와 num_parallel_interleave를 설정하여 데이터셋 처리 성능 최적화\n",
    "    num_parallel_reads = AUTOTUNE\n",
    "    num_parallel_interleave = AUTOTUNE\n",
    "\n",
    "    ds = ds.interleave(\n",
    "        lambda lowres, highres: func_random_crop(lowres, highres, scale=4),  # random_crop 함수를 interleaving\n",
    "        cycle_length=num_parallel_reads,\n",
    "        num_parallel_calls=num_parallel_interleave\n",
    "    )\n",
    "\n",
    "    if training:\n",
    "        ds = ds.map(func_random_rotate, num_parallel_calls=AUTOTUNE)\n",
    "        ds = ds.map(func_flip_LR, num_parallel_calls=AUTOTUNE)\n",
    "\n",
    "    ds = ds.batch(16)  # 배치 처리\n",
    "\n",
    "    if training:\n",
    "        ds = ds.repeat()  # 데이터셋을 반복하여 무한한 데이터셋을 생성\n",
    "\n",
    "    ds = ds.prefetch(buffer_size=AUTOTUNE)  # 데이터를 미리 준비하여 처리 속도 향상\n",
    "\n",
    "    return ds\n",
    "\n",
    "train_ds = func_dataset_object(train_cache, training=True)\n",
    "val_ds = func_dataset_object(val_cache, training=False)"
   ]
  }
 ],
 "metadata": {
  "kernelspec": {
   "display_name": "Python 3",
   "language": "python",
   "name": "python3"
  },
  "language_info": {
   "codemirror_mode": {
    "name": "ipython",
    "version": 3
   },
   "file_extension": ".py",
   "mimetype": "text/x-python",
   "name": "python",
   "nbconvert_exporter": "python",
   "pygments_lexer": "ipython3",
   "version": "3.7.9"
  },
  "orig_nbformat": 4
 },
 "nbformat": 4,
 "nbformat_minor": 2
}
