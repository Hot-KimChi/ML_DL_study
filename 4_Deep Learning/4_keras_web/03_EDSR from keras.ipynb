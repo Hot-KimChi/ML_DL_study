{
 "cells": [
  {
   "attachments": {},
   "cell_type": "markdown",
   "metadata": {},
   "source": [
    ">### Imports"
   ]
  },
  {
   "cell_type": "code",
   "execution_count": 1,
   "metadata": {},
   "outputs": [],
   "source": [
    "import numpy as np\n",
    "import tensorflow as tf\n",
    "import tensorflow_datasets as tfds\n",
    "import matplotlib.pyplot as plt\n",
    "\n",
    "from tensorflow import keras\n",
    "from tensorflow.keras import layers\n",
    "\n",
    "AUTOTUNE = tf.data.AUTOTUNE"
   ]
  },
  {
   "attachments": {},
   "cell_type": "markdown",
   "metadata": {},
   "source": [
    ">### Download the training dataset\n",
    "- cache() 메서드는 데이터셋을 빠르게 액세스하기 위해 메모리나 디스크에 캐시하는 데 사용.\n",
    "- 데이터셋을 캐시하면 훈련 프로세스의 성능을 크게 향상\n",
    "    - 특히 데이터셋이 메모리에 맞지 않을 경우, 캐시를 사용하는 것이 유용합니다. \n",
    "    - 또한 I/O 대역폭이 제한되거나 데이터셋 전처리 시간이 오래 걸리는 경우에도 유용합니다.\n",
    "- 데이터셋을 캐시함으로써 불필요한 데이터 로딩 및 전처리 작업을 피할 수 있으며, 이는 시간을 절약하고 I/O 작업을 saving\n",
    "    - 이는 특히 대용량 데이터셋이나 다중 에포크를 요구하는 딥러닝 모델을 훈련할 때 유용합니다."
   ]
  },
  {
   "cell_type": "code",
<<<<<<< HEAD
   "execution_count": null,
   "metadata": {},
   "outputs": [],
=======
   "execution_count": 2,
   "metadata": {},
   "outputs": [
    {
     "name": "stderr",
     "output_type": "stream",
     "text": [
      "WARNING:absl:DEPRECATED! Do not use a DatasetBuilder class directly, but call `tfds.builder_cls('div2k')`.\n"
     ]
    },
    {
     "name": "stdout",
     "output_type": "stream",
     "text": [
      "\u001b[1mDownloading and preparing dataset Unknown size (download: Unknown size, generated: Unknown size, total: Unknown size) to C:\\Users\\sel04327\\tensorflow_datasets\\div2k\\bicubic_x4\\2.0.0...\u001b[0m\n",
      "EXTRACTING {'train_lr_url': 'https://data.vision.ee.ethz.ch/cvl/DIV2K/DIV2K_train_LR_bicubic_X4.zip', 'valid_lr_url': 'https://data.vision.ee.ethz.ch/cvl/DIV2K/DIV2K_valid_LR_bicubic_X4.zip', 'train_hr_url': 'https://data.vision.ee.ethz.ch/cvl/DIV2K/DIV2K_train_HR.zip', 'valid_hr_url': 'https://data.vision.ee.ethz.ch/cvl/DIV2K/DIV2K_valid_HR.zip'}\n"
     ]
    },
    {
     "data": {
      "application/vnd.jupyter.widget-view+json": {
       "model_id": "eedcd96faca040309f5b186989588381",
       "version_major": 2,
       "version_minor": 0
      },
      "text/plain": [
       "Dl Completed...: 0 url [00:00, ? url/s]"
      ]
     },
     "metadata": {},
     "output_type": "display_data"
    },
    {
     "data": {
      "application/vnd.jupyter.widget-view+json": {
       "model_id": "996077e23e9a4ee0b876ca6e39f80f2e",
       "version_major": 2,
       "version_minor": 0
      },
      "text/plain": [
       "Dl Size...: 0 MiB [00:00, ? MiB/s]"
      ]
     },
     "metadata": {},
     "output_type": "display_data"
    },
    {
     "data": {
      "application/vnd.jupyter.widget-view+json": {
       "model_id": "fbd56829cd4d44c5ab5d0ba4401e0f7d",
       "version_major": 2,
       "version_minor": 0
      },
      "text/plain": [
       "Extraction completed...: 0 file [00:00, ? file/s]"
      ]
     },
     "metadata": {},
     "output_type": "display_data"
    },
    {
     "ename": "KeyboardInterrupt",
     "evalue": "",
     "output_type": "error",
     "traceback": [
      "\u001b[1;31m---------------------------------------------------------------------------\u001b[0m",
      "\u001b[1;31mKeyboardInterrupt\u001b[0m                         Traceback (most recent call last)",
      "\u001b[1;32m~\\AppData\\Local\\Temp\\ipykernel_18572\\2937849111.py\u001b[0m in \u001b[0;36m<module>\u001b[1;34m\u001b[0m\n\u001b[0;32m      2\u001b[0m \u001b[1;31m# Using bicubic 4x degradation type\u001b[0m\u001b[1;33m\u001b[0m\u001b[1;33m\u001b[0m\u001b[1;33m\u001b[0m\u001b[0m\n\u001b[0;32m      3\u001b[0m \u001b[0mdiv2k_data\u001b[0m \u001b[1;33m=\u001b[0m \u001b[0mtfds\u001b[0m\u001b[1;33m.\u001b[0m\u001b[0mimage\u001b[0m\u001b[1;33m.\u001b[0m\u001b[0mDiv2k\u001b[0m\u001b[1;33m(\u001b[0m\u001b[0mconfig\u001b[0m\u001b[1;33m=\u001b[0m\u001b[1;34m'bicubic_x4'\u001b[0m\u001b[1;33m)\u001b[0m\u001b[1;33m\u001b[0m\u001b[1;33m\u001b[0m\u001b[0m\n\u001b[1;32m----> 4\u001b[1;33m \u001b[0mdiv2k_data\u001b[0m\u001b[1;33m.\u001b[0m\u001b[0mdownload_and_prepare\u001b[0m\u001b[1;33m(\u001b[0m\u001b[1;33m)\u001b[0m\u001b[1;33m\u001b[0m\u001b[1;33m\u001b[0m\u001b[0m\n\u001b[0m\u001b[0;32m      5\u001b[0m \u001b[1;33m\u001b[0m\u001b[0m\n\u001b[0;32m      6\u001b[0m \u001b[1;31m# Taking train data from div2k_data object\u001b[0m\u001b[1;33m\u001b[0m\u001b[1;33m\u001b[0m\u001b[1;33m\u001b[0m\u001b[0m\n",
      "\u001b[1;32mc:\\Python\\Python37\\lib\\site-packages\\tensorflow_datasets\\core\\logging\\__init__.py\u001b[0m in \u001b[0;36m__call__\u001b[1;34m(self, function, instance, args, kwargs)\u001b[0m\n\u001b[0;32m    167\u001b[0m     \u001b[0mmetadata\u001b[0m \u001b[1;33m=\u001b[0m \u001b[0mself\u001b[0m\u001b[1;33m.\u001b[0m\u001b[0m_start_call\u001b[0m\u001b[1;33m(\u001b[0m\u001b[1;33m)\u001b[0m\u001b[1;33m\u001b[0m\u001b[1;33m\u001b[0m\u001b[0m\n\u001b[0;32m    168\u001b[0m     \u001b[1;32mtry\u001b[0m\u001b[1;33m:\u001b[0m\u001b[1;33m\u001b[0m\u001b[1;33m\u001b[0m\u001b[0m\n\u001b[1;32m--> 169\u001b[1;33m       \u001b[1;32mreturn\u001b[0m \u001b[0mfunction\u001b[0m\u001b[1;33m(\u001b[0m\u001b[1;33m*\u001b[0m\u001b[0margs\u001b[0m\u001b[1;33m,\u001b[0m \u001b[1;33m**\u001b[0m\u001b[0mkwargs\u001b[0m\u001b[1;33m)\u001b[0m\u001b[1;33m\u001b[0m\u001b[1;33m\u001b[0m\u001b[0m\n\u001b[0m\u001b[0;32m    170\u001b[0m     \u001b[1;32mexcept\u001b[0m \u001b[0mException\u001b[0m\u001b[1;33m:\u001b[0m\u001b[1;33m\u001b[0m\u001b[1;33m\u001b[0m\u001b[0m\n\u001b[0;32m    171\u001b[0m       \u001b[0mmetadata\u001b[0m\u001b[1;33m.\u001b[0m\u001b[0mmark_error\u001b[0m\u001b[1;33m(\u001b[0m\u001b[1;33m)\u001b[0m\u001b[1;33m\u001b[0m\u001b[1;33m\u001b[0m\u001b[0m\n",
      "\u001b[1;32mc:\\Python\\Python37\\lib\\site-packages\\tensorflow_datasets\\core\\dataset_builder.py\u001b[0m in \u001b[0;36mdownload_and_prepare\u001b[1;34m(self, download_dir, download_config, file_format)\u001b[0m\n\u001b[0;32m    628\u001b[0m           self._download_and_prepare(\n\u001b[0;32m    629\u001b[0m               \u001b[0mdl_manager\u001b[0m\u001b[1;33m=\u001b[0m\u001b[0mdl_manager\u001b[0m\u001b[1;33m,\u001b[0m\u001b[1;33m\u001b[0m\u001b[1;33m\u001b[0m\u001b[0m\n\u001b[1;32m--> 630\u001b[1;33m               \u001b[0mdownload_config\u001b[0m\u001b[1;33m=\u001b[0m\u001b[0mdownload_config\u001b[0m\u001b[1;33m,\u001b[0m\u001b[1;33m\u001b[0m\u001b[1;33m\u001b[0m\u001b[0m\n\u001b[0m\u001b[0;32m    631\u001b[0m           )\n\u001b[0;32m    632\u001b[0m \u001b[1;33m\u001b[0m\u001b[0m\n",
      "\u001b[1;32mc:\\Python\\Python37\\lib\\site-packages\\tensorflow_datasets\\core\\dataset_builder.py\u001b[0m in \u001b[0;36m_download_and_prepare\u001b[1;34m(self, dl_manager, download_config)\u001b[0m\n\u001b[0;32m   1435\u001b[0m         \u001b[0moptional_pipeline_kwargs\u001b[0m \u001b[1;33m=\u001b[0m \u001b[1;33m{\u001b[0m\u001b[1;33m}\u001b[0m\u001b[1;33m\u001b[0m\u001b[1;33m\u001b[0m\u001b[0m\n\u001b[0;32m   1436\u001b[0m       split_generators = self._split_generators(  # pylint: disable=unexpected-keyword-arg\n\u001b[1;32m-> 1437\u001b[1;33m           \u001b[0mdl_manager\u001b[0m\u001b[1;33m,\u001b[0m \u001b[1;33m**\u001b[0m\u001b[0moptional_pipeline_kwargs\u001b[0m\u001b[1;33m\u001b[0m\u001b[1;33m\u001b[0m\u001b[0m\n\u001b[0m\u001b[0;32m   1438\u001b[0m       )\n\u001b[0;32m   1439\u001b[0m       \u001b[1;31m# TODO(tfds): Could be removed once all datasets are migrated.\u001b[0m\u001b[1;33m\u001b[0m\u001b[1;33m\u001b[0m\u001b[1;33m\u001b[0m\u001b[0m\n",
      "\u001b[1;32mc:\\Python\\Python37\\lib\\site-packages\\tensorflow_datasets\\datasets\\div2k\\div2k_dataset_builder.py\u001b[0m in \u001b[0;36m_split_generators\u001b[1;34m(self, dl_manager)\u001b[0m\n\u001b[0;32m    113\u001b[0m     \u001b[0mprint\u001b[0m\u001b[1;33m(\u001b[0m\u001b[1;34m\"EXTRACTING\"\u001b[0m\u001b[1;33m,\u001b[0m \u001b[0mself\u001b[0m\u001b[1;33m.\u001b[0m\u001b[0mbuilder_config\u001b[0m\u001b[1;33m.\u001b[0m\u001b[0mdownload_urls\u001b[0m\u001b[1;33m)\u001b[0m\u001b[1;33m\u001b[0m\u001b[1;33m\u001b[0m\u001b[0m\n\u001b[0;32m    114\u001b[0m     extracted_paths = dl_manager.download_and_extract(\n\u001b[1;32m--> 115\u001b[1;33m         \u001b[0mself\u001b[0m\u001b[1;33m.\u001b[0m\u001b[0mbuilder_config\u001b[0m\u001b[1;33m.\u001b[0m\u001b[0mdownload_urls\u001b[0m\u001b[1;33m\u001b[0m\u001b[1;33m\u001b[0m\u001b[0m\n\u001b[0m\u001b[0;32m    116\u001b[0m     )\n\u001b[0;32m    117\u001b[0m \u001b[1;33m\u001b[0m\u001b[0m\n",
      "\u001b[1;32mc:\\Python\\Python37\\lib\\site-packages\\tensorflow_datasets\\core\\download\\download_manager.py\u001b[0m in \u001b[0;36mdownload_and_extract\u001b[1;34m(self, url_or_urls)\u001b[0m\n\u001b[0;32m    684\u001b[0m     \u001b[1;32mwith\u001b[0m \u001b[0mself\u001b[0m\u001b[1;33m.\u001b[0m\u001b[0m_downloader\u001b[0m\u001b[1;33m.\u001b[0m\u001b[0mtqdm\u001b[0m\u001b[1;33m(\u001b[0m\u001b[1;33m)\u001b[0m\u001b[1;33m:\u001b[0m\u001b[1;33m\u001b[0m\u001b[1;33m\u001b[0m\u001b[0m\n\u001b[0;32m    685\u001b[0m       \u001b[1;32mwith\u001b[0m \u001b[0mself\u001b[0m\u001b[1;33m.\u001b[0m\u001b[0m_extractor\u001b[0m\u001b[1;33m.\u001b[0m\u001b[0mtqdm\u001b[0m\u001b[1;33m(\u001b[0m\u001b[1;33m)\u001b[0m\u001b[1;33m:\u001b[0m\u001b[1;33m\u001b[0m\u001b[1;33m\u001b[0m\u001b[0m\n\u001b[1;32m--> 686\u001b[1;33m         \u001b[1;32mreturn\u001b[0m \u001b[0m_map_promise\u001b[0m\u001b[1;33m(\u001b[0m\u001b[0mself\u001b[0m\u001b[1;33m.\u001b[0m\u001b[0m_download_extract\u001b[0m\u001b[1;33m,\u001b[0m \u001b[0murl_or_urls\u001b[0m\u001b[1;33m)\u001b[0m\u001b[1;33m\u001b[0m\u001b[1;33m\u001b[0m\u001b[0m\n\u001b[0m\u001b[0;32m    687\u001b[0m \u001b[1;33m\u001b[0m\u001b[0m\n\u001b[0;32m    688\u001b[0m   \u001b[1;33m@\u001b[0m\u001b[0mproperty\u001b[0m\u001b[1;33m\u001b[0m\u001b[1;33m\u001b[0m\u001b[0m\n",
      "\u001b[1;32mc:\\Python\\Python37\\lib\\site-packages\\tensorflow_datasets\\core\\download\\download_manager.py\u001b[0m in \u001b[0;36m_map_promise\u001b[1;34m(map_fn, all_inputs)\u001b[0m\n\u001b[0;32m    828\u001b[0m   )  # Apply the function\n\u001b[0;32m    829\u001b[0m   res = tree_utils.map_structure(\n\u001b[1;32m--> 830\u001b[1;33m       \u001b[1;32mlambda\u001b[0m \u001b[0mp\u001b[0m\u001b[1;33m:\u001b[0m \u001b[0mp\u001b[0m\u001b[1;33m.\u001b[0m\u001b[0mget\u001b[0m\u001b[1;33m(\u001b[0m\u001b[1;33m)\u001b[0m\u001b[1;33m,\u001b[0m \u001b[0mall_promises\u001b[0m\u001b[1;33m\u001b[0m\u001b[1;33m\u001b[0m\u001b[0m\n\u001b[0m\u001b[0;32m    831\u001b[0m   )  # Wait promises\n\u001b[0;32m    832\u001b[0m   \u001b[1;32mreturn\u001b[0m \u001b[0mres\u001b[0m\u001b[1;33m\u001b[0m\u001b[1;33m\u001b[0m\u001b[0m\n",
      "\u001b[1;32mc:\\Python\\Python37\\lib\\site-packages\\tree\\__init__.py\u001b[0m in \u001b[0;36mmap_structure\u001b[1;34m(func, *structures, **kwargs)\u001b[0m\n\u001b[0;32m    433\u001b[0m     \u001b[0massert_same_structure\u001b[0m\u001b[1;33m(\u001b[0m\u001b[0mstructures\u001b[0m\u001b[1;33m[\u001b[0m\u001b[1;36m0\u001b[0m\u001b[1;33m]\u001b[0m\u001b[1;33m,\u001b[0m \u001b[0mother\u001b[0m\u001b[1;33m,\u001b[0m \u001b[0mcheck_types\u001b[0m\u001b[1;33m=\u001b[0m\u001b[0mcheck_types\u001b[0m\u001b[1;33m)\u001b[0m\u001b[1;33m\u001b[0m\u001b[1;33m\u001b[0m\u001b[0m\n\u001b[0;32m    434\u001b[0m   return unflatten_as(structures[0],\n\u001b[1;32m--> 435\u001b[1;33m                       [func(*args) for args in zip(*map(flatten, structures))])\n\u001b[0m\u001b[0;32m    436\u001b[0m \u001b[1;33m\u001b[0m\u001b[0m\n\u001b[0;32m    437\u001b[0m \u001b[1;33m\u001b[0m\u001b[0m\n",
      "\u001b[1;32mc:\\Python\\Python37\\lib\\site-packages\\tree\\__init__.py\u001b[0m in \u001b[0;36m<listcomp>\u001b[1;34m(.0)\u001b[0m\n\u001b[0;32m    433\u001b[0m     \u001b[0massert_same_structure\u001b[0m\u001b[1;33m(\u001b[0m\u001b[0mstructures\u001b[0m\u001b[1;33m[\u001b[0m\u001b[1;36m0\u001b[0m\u001b[1;33m]\u001b[0m\u001b[1;33m,\u001b[0m \u001b[0mother\u001b[0m\u001b[1;33m,\u001b[0m \u001b[0mcheck_types\u001b[0m\u001b[1;33m=\u001b[0m\u001b[0mcheck_types\u001b[0m\u001b[1;33m)\u001b[0m\u001b[1;33m\u001b[0m\u001b[1;33m\u001b[0m\u001b[0m\n\u001b[0;32m    434\u001b[0m   return unflatten_as(structures[0],\n\u001b[1;32m--> 435\u001b[1;33m                       [func(*args) for args in zip(*map(flatten, structures))])\n\u001b[0m\u001b[0;32m    436\u001b[0m \u001b[1;33m\u001b[0m\u001b[0m\n\u001b[0;32m    437\u001b[0m \u001b[1;33m\u001b[0m\u001b[0m\n",
      "\u001b[1;32mc:\\Python\\Python37\\lib\\site-packages\\tensorflow_datasets\\core\\download\\download_manager.py\u001b[0m in \u001b[0;36m<lambda>\u001b[1;34m(p)\u001b[0m\n\u001b[0;32m    828\u001b[0m   )  # Apply the function\n\u001b[0;32m    829\u001b[0m   res = tree_utils.map_structure(\n\u001b[1;32m--> 830\u001b[1;33m       \u001b[1;32mlambda\u001b[0m \u001b[0mp\u001b[0m\u001b[1;33m:\u001b[0m \u001b[0mp\u001b[0m\u001b[1;33m.\u001b[0m\u001b[0mget\u001b[0m\u001b[1;33m(\u001b[0m\u001b[1;33m)\u001b[0m\u001b[1;33m,\u001b[0m \u001b[0mall_promises\u001b[0m\u001b[1;33m\u001b[0m\u001b[1;33m\u001b[0m\u001b[0m\n\u001b[0m\u001b[0;32m    831\u001b[0m   )  # Wait promises\n\u001b[0;32m    832\u001b[0m   \u001b[1;32mreturn\u001b[0m \u001b[0mres\u001b[0m\u001b[1;33m\u001b[0m\u001b[1;33m\u001b[0m\u001b[0m\n",
      "\u001b[1;32mc:\\Python\\Python37\\lib\\site-packages\\promise\\promise.py\u001b[0m in \u001b[0;36mget\u001b[1;34m(self, timeout)\u001b[0m\n\u001b[0;32m    509\u001b[0m         \u001b[1;31m# type: (Optional[float]) -> T\u001b[0m\u001b[1;33m\u001b[0m\u001b[1;33m\u001b[0m\u001b[1;33m\u001b[0m\u001b[0m\n\u001b[0;32m    510\u001b[0m         \u001b[0mtarget\u001b[0m \u001b[1;33m=\u001b[0m \u001b[0mself\u001b[0m\u001b[1;33m.\u001b[0m\u001b[0m_target\u001b[0m\u001b[1;33m(\u001b[0m\u001b[1;33m)\u001b[0m\u001b[1;33m\u001b[0m\u001b[1;33m\u001b[0m\u001b[0m\n\u001b[1;32m--> 511\u001b[1;33m         \u001b[0mself\u001b[0m\u001b[1;33m.\u001b[0m\u001b[0m_wait\u001b[0m\u001b[1;33m(\u001b[0m\u001b[0mtimeout\u001b[0m \u001b[1;32mor\u001b[0m \u001b[0mDEFAULT_TIMEOUT\u001b[0m\u001b[1;33m)\u001b[0m\u001b[1;33m\u001b[0m\u001b[1;33m\u001b[0m\u001b[0m\n\u001b[0m\u001b[0;32m    512\u001b[0m         \u001b[1;32mreturn\u001b[0m \u001b[0mself\u001b[0m\u001b[1;33m.\u001b[0m\u001b[0m_target_settled_value\u001b[0m\u001b[1;33m(\u001b[0m\u001b[0m_raise\u001b[0m\u001b[1;33m=\u001b[0m\u001b[1;32mTrue\u001b[0m\u001b[1;33m)\u001b[0m\u001b[1;33m\u001b[0m\u001b[1;33m\u001b[0m\u001b[0m\n\u001b[0;32m    513\u001b[0m \u001b[1;33m\u001b[0m\u001b[0m\n",
      "\u001b[1;32mc:\\Python\\Python37\\lib\\site-packages\\promise\\promise.py\u001b[0m in \u001b[0;36m_wait\u001b[1;34m(self, timeout)\u001b[0m\n\u001b[0;32m    504\u001b[0m     \u001b[1;32mdef\u001b[0m \u001b[0m_wait\u001b[0m\u001b[1;33m(\u001b[0m\u001b[0mself\u001b[0m\u001b[1;33m,\u001b[0m \u001b[0mtimeout\u001b[0m\u001b[1;33m=\u001b[0m\u001b[1;32mNone\u001b[0m\u001b[1;33m)\u001b[0m\u001b[1;33m:\u001b[0m\u001b[1;33m\u001b[0m\u001b[1;33m\u001b[0m\u001b[0m\n\u001b[0;32m    505\u001b[0m         \u001b[1;31m# type: (Optional[float]) -> None\u001b[0m\u001b[1;33m\u001b[0m\u001b[1;33m\u001b[0m\u001b[1;33m\u001b[0m\u001b[0m\n\u001b[1;32m--> 506\u001b[1;33m         \u001b[0mself\u001b[0m\u001b[1;33m.\u001b[0m\u001b[0mwait\u001b[0m\u001b[1;33m(\u001b[0m\u001b[0mself\u001b[0m\u001b[1;33m,\u001b[0m \u001b[0mtimeout\u001b[0m\u001b[1;33m)\u001b[0m\u001b[1;33m\u001b[0m\u001b[1;33m\u001b[0m\u001b[0m\n\u001b[0m\u001b[0;32m    507\u001b[0m \u001b[1;33m\u001b[0m\u001b[0m\n\u001b[0;32m    508\u001b[0m     \u001b[1;32mdef\u001b[0m \u001b[0mget\u001b[0m\u001b[1;33m(\u001b[0m\u001b[0mself\u001b[0m\u001b[1;33m,\u001b[0m \u001b[0mtimeout\u001b[0m\u001b[1;33m=\u001b[0m\u001b[1;32mNone\u001b[0m\u001b[1;33m)\u001b[0m\u001b[1;33m:\u001b[0m\u001b[1;33m\u001b[0m\u001b[1;33m\u001b[0m\u001b[0m\n",
      "\u001b[1;32mc:\\Python\\Python37\\lib\\site-packages\\promise\\promise.py\u001b[0m in \u001b[0;36mwait\u001b[1;34m(cls, promise, timeout)\u001b[0m\n\u001b[0;32m    500\u001b[0m     \u001b[1;32mdef\u001b[0m \u001b[0mwait\u001b[0m\u001b[1;33m(\u001b[0m\u001b[0mcls\u001b[0m\u001b[1;33m,\u001b[0m \u001b[0mpromise\u001b[0m\u001b[1;33m,\u001b[0m \u001b[0mtimeout\u001b[0m\u001b[1;33m=\u001b[0m\u001b[1;32mNone\u001b[0m\u001b[1;33m)\u001b[0m\u001b[1;33m:\u001b[0m\u001b[1;33m\u001b[0m\u001b[1;33m\u001b[0m\u001b[0m\n\u001b[0;32m    501\u001b[0m         \u001b[1;31m# type: (Promise, Optional[float]) -> None\u001b[0m\u001b[1;33m\u001b[0m\u001b[1;33m\u001b[0m\u001b[1;33m\u001b[0m\u001b[0m\n\u001b[1;32m--> 502\u001b[1;33m         \u001b[0masync_instance\u001b[0m\u001b[1;33m.\u001b[0m\u001b[0mwait\u001b[0m\u001b[1;33m(\u001b[0m\u001b[0mpromise\u001b[0m\u001b[1;33m,\u001b[0m \u001b[0mtimeout\u001b[0m\u001b[1;33m)\u001b[0m\u001b[1;33m\u001b[0m\u001b[1;33m\u001b[0m\u001b[0m\n\u001b[0m\u001b[0;32m    503\u001b[0m \u001b[1;33m\u001b[0m\u001b[0m\n\u001b[0;32m    504\u001b[0m     \u001b[1;32mdef\u001b[0m \u001b[0m_wait\u001b[0m\u001b[1;33m(\u001b[0m\u001b[0mself\u001b[0m\u001b[1;33m,\u001b[0m \u001b[0mtimeout\u001b[0m\u001b[1;33m=\u001b[0m\u001b[1;32mNone\u001b[0m\u001b[1;33m)\u001b[0m\u001b[1;33m:\u001b[0m\u001b[1;33m\u001b[0m\u001b[1;33m\u001b[0m\u001b[0m\n",
      "\u001b[1;32mc:\\Python\\Python37\\lib\\site-packages\\promise\\async_.py\u001b[0m in \u001b[0;36mwait\u001b[1;34m(self, promise, timeout)\u001b[0m\n\u001b[0;32m    115\u001b[0m                 \u001b[1;31m# fulfilled or rejected\u001b[0m\u001b[1;33m\u001b[0m\u001b[1;33m\u001b[0m\u001b[1;33m\u001b[0m\u001b[0m\n\u001b[0;32m    116\u001b[0m                 \u001b[1;32mreturn\u001b[0m\u001b[1;33m\u001b[0m\u001b[1;33m\u001b[0m\u001b[0m\n\u001b[1;32m--> 117\u001b[1;33m         \u001b[0mtarget\u001b[0m\u001b[1;33m.\u001b[0m\u001b[0mscheduler\u001b[0m\u001b[1;33m.\u001b[0m\u001b[0mwait\u001b[0m\u001b[1;33m(\u001b[0m\u001b[0mtarget\u001b[0m\u001b[1;33m,\u001b[0m \u001b[0mtimeout\u001b[0m\u001b[1;33m)\u001b[0m\u001b[1;33m\u001b[0m\u001b[1;33m\u001b[0m\u001b[0m\n\u001b[0m\u001b[0;32m    118\u001b[0m \u001b[1;33m\u001b[0m\u001b[0m\n\u001b[0;32m    119\u001b[0m     \u001b[1;32mdef\u001b[0m \u001b[0mdrain_queues\u001b[0m\u001b[1;33m(\u001b[0m\u001b[0mself\u001b[0m\u001b[1;33m)\u001b[0m\u001b[1;33m:\u001b[0m\u001b[1;33m\u001b[0m\u001b[1;33m\u001b[0m\u001b[0m\n",
      "\u001b[1;32mc:\\Python\\Python37\\lib\\site-packages\\promise\\schedulers\\immediate.py\u001b[0m in \u001b[0;36mwait\u001b[1;34m(self, promise, timeout)\u001b[0m\n\u001b[0;32m     23\u001b[0m \u001b[1;33m\u001b[0m\u001b[0m\n\u001b[0;32m     24\u001b[0m         \u001b[0mpromise\u001b[0m\u001b[1;33m.\u001b[0m\u001b[0m_then\u001b[0m\u001b[1;33m(\u001b[0m\u001b[0mon_resolve_or_reject\u001b[0m\u001b[1;33m,\u001b[0m \u001b[0mon_resolve_or_reject\u001b[0m\u001b[1;33m)\u001b[0m\u001b[1;33m\u001b[0m\u001b[1;33m\u001b[0m\u001b[0m\n\u001b[1;32m---> 25\u001b[1;33m         \u001b[0mwaited\u001b[0m \u001b[1;33m=\u001b[0m \u001b[0me\u001b[0m\u001b[1;33m.\u001b[0m\u001b[0mwait\u001b[0m\u001b[1;33m(\u001b[0m\u001b[0mtimeout\u001b[0m\u001b[1;33m)\u001b[0m\u001b[1;33m\u001b[0m\u001b[1;33m\u001b[0m\u001b[0m\n\u001b[0m\u001b[0;32m     26\u001b[0m         \u001b[1;32mif\u001b[0m \u001b[1;32mnot\u001b[0m \u001b[0mwaited\u001b[0m\u001b[1;33m:\u001b[0m\u001b[1;33m\u001b[0m\u001b[1;33m\u001b[0m\u001b[0m\n\u001b[0;32m     27\u001b[0m             \u001b[1;32mraise\u001b[0m \u001b[0mException\u001b[0m\u001b[1;33m(\u001b[0m\u001b[1;34m\"Timeout\"\u001b[0m\u001b[1;33m)\u001b[0m\u001b[1;33m\u001b[0m\u001b[1;33m\u001b[0m\u001b[0m\n",
      "\u001b[1;32mc:\\Python\\Python37\\lib\\threading.py\u001b[0m in \u001b[0;36mwait\u001b[1;34m(self, timeout)\u001b[0m\n\u001b[0;32m    550\u001b[0m             \u001b[0msignaled\u001b[0m \u001b[1;33m=\u001b[0m \u001b[0mself\u001b[0m\u001b[1;33m.\u001b[0m\u001b[0m_flag\u001b[0m\u001b[1;33m\u001b[0m\u001b[1;33m\u001b[0m\u001b[0m\n\u001b[0;32m    551\u001b[0m             \u001b[1;32mif\u001b[0m \u001b[1;32mnot\u001b[0m \u001b[0msignaled\u001b[0m\u001b[1;33m:\u001b[0m\u001b[1;33m\u001b[0m\u001b[1;33m\u001b[0m\u001b[0m\n\u001b[1;32m--> 552\u001b[1;33m                 \u001b[0msignaled\u001b[0m \u001b[1;33m=\u001b[0m \u001b[0mself\u001b[0m\u001b[1;33m.\u001b[0m\u001b[0m_cond\u001b[0m\u001b[1;33m.\u001b[0m\u001b[0mwait\u001b[0m\u001b[1;33m(\u001b[0m\u001b[0mtimeout\u001b[0m\u001b[1;33m)\u001b[0m\u001b[1;33m\u001b[0m\u001b[1;33m\u001b[0m\u001b[0m\n\u001b[0m\u001b[0;32m    553\u001b[0m             \u001b[1;32mreturn\u001b[0m \u001b[0msignaled\u001b[0m\u001b[1;33m\u001b[0m\u001b[1;33m\u001b[0m\u001b[0m\n\u001b[0;32m    554\u001b[0m \u001b[1;33m\u001b[0m\u001b[0m\n",
      "\u001b[1;32mc:\\Python\\Python37\\lib\\threading.py\u001b[0m in \u001b[0;36mwait\u001b[1;34m(self, timeout)\u001b[0m\n\u001b[0;32m    294\u001b[0m         \u001b[1;32mtry\u001b[0m\u001b[1;33m:\u001b[0m    \u001b[1;31m# restore state no matter what (e.g., KeyboardInterrupt)\u001b[0m\u001b[1;33m\u001b[0m\u001b[1;33m\u001b[0m\u001b[0m\n\u001b[0;32m    295\u001b[0m             \u001b[1;32mif\u001b[0m \u001b[0mtimeout\u001b[0m \u001b[1;32mis\u001b[0m \u001b[1;32mNone\u001b[0m\u001b[1;33m:\u001b[0m\u001b[1;33m\u001b[0m\u001b[1;33m\u001b[0m\u001b[0m\n\u001b[1;32m--> 296\u001b[1;33m                 \u001b[0mwaiter\u001b[0m\u001b[1;33m.\u001b[0m\u001b[0macquire\u001b[0m\u001b[1;33m(\u001b[0m\u001b[1;33m)\u001b[0m\u001b[1;33m\u001b[0m\u001b[1;33m\u001b[0m\u001b[0m\n\u001b[0m\u001b[0;32m    297\u001b[0m                 \u001b[0mgotit\u001b[0m \u001b[1;33m=\u001b[0m \u001b[1;32mTrue\u001b[0m\u001b[1;33m\u001b[0m\u001b[1;33m\u001b[0m\u001b[0m\n\u001b[0;32m    298\u001b[0m             \u001b[1;32melse\u001b[0m\u001b[1;33m:\u001b[0m\u001b[1;33m\u001b[0m\u001b[1;33m\u001b[0m\u001b[0m\n",
      "\u001b[1;31mKeyboardInterrupt\u001b[0m: "
     ]
    }
   ],
>>>>>>> 0598b64e52bae372b30c620e294ac819bcf0da76
   "source": [
    "# Download DIV2K from TF Datasets\n",
    "# Using bicubic 4x degradation type\n",
    "div2k_data = tfds.image.Div2k(config='bicubic_x4')\n",
    "div2k_data.download_and_prepare()\n",
    "\n",
    "# Taking train data from div2k_data object\n",
    "train = div2k_data.as_dataset(split='train', as_supervised=True)\n",
    "train_cache = train.cache()\n",
    "# validation data\n",
    "val = div2k_data.as_dataset(split='validation', as_supervised=True)\n",
    "val_cache = val.cache()"
   ]
  },
  {
   "attachments": {},
   "cell_type": "markdown",
   "metadata": {},
   "source": [
    ">### Flip, crop and resize images"
   ]
  },
  {
   "cell_type": "code",
   "execution_count": null,
   "metadata": {},
   "outputs": [],
   "source": [
    "def func_flip_LR(lowres_img, highres_img):\n",
    "    '''Flips Images to left and right'''\n",
    "    \n",
    "    # outputs random values from a uniform distribution in between 0 to 1\n",
    "    rn = tf.random.uniform(shape=(), maxval=1)\n",
    "    \n",
    "    return tf.cond(rn < 0.5,\n",
    "                   lambda: (lowres_img, highres_img),\n",
    "                   lambda: (tf.image.flip_left_right(lowres_img), tf.image.flip_left_right(highres_img),\n",
    "                            ),\n",
    "                   )\n",
    "    \n",
    "\n",
    "def func_random_crop(lowres_img, highres_img, hr_crop_size=96, scale=4):\n",
    "    \"\"\"Crop images.\n",
    "\n",
    "    low resolution images: 24x24\n",
    "    high resolution images: 96x96\n",
    "    \"\"\"\n",
    "    lowres_crop_size = hr_crop_size // scale  # 96//4=24\n",
    "    lowres_img_shape = tf.shape(lowres_img)[:2]  # (height,width)\n",
    "\n",
    "    lowres_width = tf.random.uniform(\n",
    "        shape=(), maxval=lowres_img_shape[1] - lowres_crop_size + 1, dtype=tf.int32\n",
    "    )\n",
    "    lowres_height = tf.random.uniform(\n",
    "        shape=(), maxval=lowres_img_shape[0] - lowres_crop_size + 1, dtype=tf.int32\n",
    "    )\n",
    "\n",
    "    highres_width = lowres_width * scale\n",
    "    highres_height = lowres_height * scale\n",
    "\n",
    "    lowres_img_cropped = lowres_img[\n",
    "        lowres_height : lowres_height + lowres_crop_size,\n",
    "        lowres_width : lowres_width + lowres_crop_size,\n",
    "    ]  # 24x24\n",
    "    highres_img_cropped = highres_img[\n",
    "        highres_height : highres_height + hr_crop_size,\n",
    "        highres_width : highres_width + hr_crop_size,\n",
    "    ]  # 96x96\n",
    "\n",
    "    return lowres_img_cropped, highres_img_cropped\n",
    "\n",
    "\n",
    "def func_random_rotate(lowres_img, highres_img):\n",
    "    \"\"\"Rotates Images by 90 degrees.\"\"\"\n",
    "\n",
    "    # Outputs random values from uniform distribution in between 0 to 4\n",
    "    rn = tf.random.uniform(shape=(), maxval=4, dtype=tf.int32)\n",
    "    # Here rn signifies number of times the image(s) are rotated by 90 degrees\n",
    "    return tf.image.rot90(lowres_img, rn), tf.image.rot90(highres_img, rn)"
   ]
  },
  {
   "attachments": {
    "image.png": {
     "image/png": "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"
    }
   },
   "cell_type": "markdown",
   "metadata": {},
   "source": [
    "![image.png](attachment:image.png)"
   ]
  },
  {
   "attachments": {},
   "cell_type": "markdown",
   "metadata": {},
   "source": [
    ">### tf.data.Dataset 준비"
   ]
  },
  {
   "cell_type": "code",
   "execution_count": null,
   "metadata": {},
   "outputs": [],
   "source": [
    "physical_devices = tf.config.list_physical_devices('GPU')\n",
    "print(\"Num GPUs:\", len(physical_devices))"
   ]
  },
  {
   "cell_type": "code",
   "execution_count": null,
   "metadata": {},
   "outputs": [],
   "source": [
    "def func_dataset_object(dataset_cache, training=True):\n",
    "\n",
    "    ds = dataset_cache\n",
    "    \n",
    "    '''첫 번째 map() 함수에서는 lambda 함수를 사용하여 func_random_crop() 함수를 \n",
    "    lowres와 highres 두 개의 입력 인자로 호출합니다. \n",
    "    이 함수는 lowres와 highres 이미지를 임의의 크기로 자르고, \n",
    "    scale 인자에 지정된 배율로 크기를 조정하는 변환을 수행합니다.\n",
    "    '''\n",
    "\n",
    "    # 데이터셋 변환 함수 적용\n",
    "    if training:\n",
    "        ds = ds.map(\n",
    "            lambda lowres, highres: func_random_crop(lowres, highres),\n",
    "            num_parallel_calls=AUTOTUNE,\n",
    "        ).map(\n",
    "            lambda lowres, highres: func_random_rotate(lowres, highres),\n",
    "            num_parallel_calls=AUTOTUNE,\n",
    "        ).map(\n",
    "            lambda lowres, highres: func_flip_LR(lowres, highres),\n",
    "            num_parallel_calls=AUTOTUNE,\n",
    "        )\n",
    "    else:\n",
    "        ds = ds.map(\n",
    "            lambda lowres, highres: func_random_crop(lowres, highres),\n",
    "            num_parallel_calls=AUTOTUNE,\n",
    "        )\n",
    "    \n",
    "    '''\n",
    "    이후에는 batch() 함수를 사용하여 데이터를 배치로 묶고, \n",
    "    repeat() 함수를 사용하여 데이터셋을 반복합니다. \n",
    "    \n",
    "    prefetch() 함수를 사용하여 데이터를 미리 로딩하여 \n",
    "    현재 데이터 처리 중에 다음 데이터를 준비하는 기능을 활성화합니다.\n",
    "    '''\n",
    "    # Batching Data\n",
    "    ds = ds.batch(16)\n",
    "\n",
    "    if training:\n",
    "        # Repeating Data, so that cardinality if dataset becomes infinte\n",
    "        ds = ds.repeat()\n",
    "    # prefetching allows later images to be prepared while the current image is being processed\n",
    "    ds = ds.prefetch(buffer_size=AUTOTUNE)\n",
    "    return ds\n",
    "\n",
    "\n",
    "train_ds = func_dataset_object(train_cache, training=True)\n",
    "val_ds = func_dataset_object(val_cache, training=False)"
   ]
  },
  {
   "attachments": {},
   "cell_type": "markdown",
   "metadata": {},
   "source": [
    ">### Visualize the data"
   ]
  },
  {
   "cell_type": "code",
   "execution_count": null,
   "metadata": {},
   "outputs": [],
   "source": [
    "lowres, highres = next(iter(train_ds))\n",
    "\n",
    "# High Resolution Images\n",
    "plt.figure(figsize=(10, 10))\n",
    "for i in range(9):\n",
    "    ax = plt.subplot(3, 3, i + 1)\n",
    "    plt.imshow(highres[i].numpy().astype(\"uint8\"))\n",
    "    plt.title(highres[i].shape)\n",
    "    plt.axis(\"off\")\n",
    "\n",
    "# Low Resolution Images\n",
    "plt.figure(figsize=(10, 10))\n",
    "for i in range(9):\n",
    "    ax = plt.subplot(3, 3, i + 1)\n",
    "    plt.imshow(lowres[i].numpy().astype(\"uint8\"))\n",
    "    plt.title(lowres[i].shape)\n",
    "    plt.axis(\"off\")\n",
    "\n",
    "\n",
    "def PSNR(super_resolution, high_resolution):\n",
    "    \"\"\"Compute the peak signal-to-noise ratio, measures quality of image.\"\"\"\n",
    "    # Max value of pixel is 255\n",
    "    psnr_value = tf.image.psnr(high_resolution, super_resolution, max_val=255)[0]\n",
    "    return psnr_value"
   ]
  },
  {
   "attachments": {
    "image.png": {
     "image/png": "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"
    }
   },
   "cell_type": "markdown",
   "metadata": {},
   "source": [
    ">### Build the model\n",
    "![image.png](attachment:image.png)\n",
    "\n",
    "- 세 개의 잔차 블록을 가진 모델과의 비교\n",
    "    - EDSR에서는 ResNet과 달리 배치 정규화(batch normalization) 계층이 제거되었으며, 마지막으로 활성화 함수인 ReLU도 제거됩니다.\n",
    "    - 논문의 저자들은 이러한 선택을 하게 된 이유에 대해, \n",
    "        - 배치 정규화 계층은 기능을 정규화하기 때문에 출력 값 범위의 유연성을 저해한다고 말합니다. 즉, 이 계층을 제거함으로써 모델의 출력 범위를 보다 유연하게 조정할 수 있게 되며, 모델의 정확도를 향상시킬 수 있다는 것입니다. \n",
    "        - 또한 배치 정규화 계층은 이전 합성곱 계층과 동일한 메모리를 소비하므로, 이를 제거함으로써 모델이 필요로하는 GPU 메모리 양도 줄일 수 있습니다.\n",
    "\n",
    "따라서, EDSR 모델에서는 ResNet 모델의 잔여 블록 구조와는 다른 구조가 적용됩니다. 이 구조를 사용하여 더 나은 성능을 얻을 수 있습니다."
   ]
  },
  {
   "cell_type": "code",
   "execution_count": null,
   "metadata": {},
   "outputs": [],
   "source": [
    "class EDSRModel(tf.keras.Model):\n",
    "    def func_train_step(self, data):\n",
    "        \n",
    "        # unpack the data.\n",
    "        x, y = data\n",
    "        \n",
    "        # 그레디언트를 계산하는 tape를 생성 -> 모델의 가중치를 업데이트\n",
    "        with tf.GradientTape() as tape:\n",
    "            y_pred = self(x, training=True)             # forward pass\n",
    "        \n",
    "            # Compute the loss value\n",
    "            # (the loss function is configured in `compile()`)\n",
    "            loss = self.compiled_loss(y, y_pred, regularization_losses=self.losses)\n",
    "            \n",
    "        # Compute gradients\n",
    "        # 그래디언트 계산: tape.gradient(loss, trainable_vars)를 통해 손실에 대한 모델의 가중치(trainable variables)에 대한 \n",
    "        # 그래디언트(gradient)를 계산합니다. 이를 통해 역전파(backpropagation)를 수행하기 위한 그래디언트를 얻을 수 있습니다.\n",
    "        trainable_vars = self.trainable_variables\n",
    "        gradients = tape.gradient(loss, trainable_vars)\n",
    "        \n",
    "        # update weights\n",
    "        # 모델의 가중치가 손실을 줄이는 방향으로 업데이트 한다.\n",
    "        self.optimizer.apply_gradients(zip(gradients, trainable_vars))\n",
    "        \n",
    "        # update metrics\n",
    "        self.compiled_metrics.update_state(y, y_pred)\n",
    "        \n",
    "        return {m.name: m.result() for m in self.metrics}\n",
    "\n",
    "\n",
    "    def func_predict_step(self, x):\n",
    "        \n",
    "        # Adding dummy dimension using tf.expand_dims and converting to float32 using tf.cast\n",
    "        # 데이터를 배치 형태로 변환한다는 것은, 일반적으로 딥러닝 모델의 입력 데이터로는 여러 개의 샘플을 한 번에 처리하는 것이 효율적\n",
    "        # 데이터를 일괄(batch)로 처리하는 것을 말합니다. 이를 위해 데이터를 배치 형태로 변환하는 작업이 필요합니다.\n",
    "        # 예를 들어, 이미지 분류 모델을 예로 들면, 일반적으로 이미지 데이터는 (이미지 개수, 이미지 높이, 이미지 너비, 채널 수)의 형태\n",
    "        # 하지만 모델에 한 번에 하나의 이미지를 입력으로 넣는 대신, 여러 개의 이미지를 한 번에 입력으로 처리하면 더 효율적으로 모델학습하고 추론\n",
    "        x = tf.cast(tf.expand_dims(x, axis=0), tf.float32)\n",
    "        \n",
    "        # Passing low resolution image to model\n",
    "        super_resolution_img = self(x, training=False)\n",
    "        \n",
    "        # Clips the tensor from min(0) to max(255)\n",
    "        # 이미지의 픽셀 값이 0 미만이거나 255를 초과하는 경우를 방지하여 이미지를 유효한 픽셀 값 범위로 제한하는 역할\n",
    "        super_resolution_img = tf.clip_by_value(super_resolution_img, 0, 255)\n",
    "\n",
    "        # Rounds the values of a tensor to the nearest integer\n",
    "        # 이미지의 픽셀 값을 정수로 만들어 이미지를 자연스럽게 표현하는 역할\n",
    "        super_resolution_img = tf.round(super_resolution_img)\n",
    "\n",
    "        # 크기가 1인 차원을 제거하고, 그 결과를 tf.uint8 데이터 타입으로 변환하여 반환하는 작업을 수행합니다.\n",
    "        # 예측된 상위 해상도 이미지 super_resolution_img는 tf.expand_dims를 통해 배치 차원이 추가된 형태이기에\n",
    "\n",
    "        # 따라서 tf.squeeze 함수를 사용하여 차원 중 크기가 1인 차원을 제거함으로써 최종 예측 이미지를 3차원 이미지로 변환\n",
    "        # 또한, tf.cast(super_resolution_img, tf.uint8)를 통해 예측된 상위 해상도 이미지를 tf.uint8 데이터 타입으로 변환\n",
    "        # 이는 이미지의 픽셀 값이 0에서 255 사이의 부호 없는 정수로 표현되도록 합니다. \n",
    "        # 예측된 이미지를 부호 없는 정수 형태로 변환하여 반환하는 이유는, 일반적으로 이미지는 부호 없는 정수로 픽셀 값을 표현하는 것이 일반적\n",
    "        super_resolution_img = tf.squeeze(\n",
    "            tf.cast(super_resolution_img, tf.uint8), axis=0\n",
    "        )\n",
    "        return super_resolution_img"
   ]
  },
  {
   "attachments": {},
   "cell_type": "markdown",
   "metadata": {},
   "source": [
    ">### Residual and Upsampling"
   ]
  },
  {
   "cell_type": "code",
   "execution_count": null,
   "metadata": {},
   "outputs": [],
   "source": [
    "# Residual Block\n",
    "def func_resblock(inputs):\n",
    "    residual = inputs\n",
    "\n",
    "    x = layers.Conv2D(64, 3, padding='same', activation='relu')(inputs)\n",
    "    x = layers.Conv2D(64, 3, padding='same')(x)\n",
    "    x = layers.Add()([x, residual])\n",
    "    return x\n",
    "\n",
    "# Upsampling Block\n",
    "def func_upsampling(inputs, factor=2, **kwargs):\n",
    "    x = layers.Conv2D(64 * (factor ** 2), 3, padding='same', **kwargs)(inputs)\n",
    "    \n",
    "    # 이 함수는 텐서를 depth-to-space 업샘플링하는 역할을 수행합니다. \n",
    "    # block_size 매개변수에는 factor 값을 사용합니다. 이를 통해 x의 크기가 factor 배 만큼 증가\n",
    "    x = tf.nn.depth_to_space(x, block_size=factor)\n",
    "    \n",
    "    # 추가적인 특성 추출 수행.\n",
    "    x = layers.Conv2D(64 * (factor ** 2), 3, padding='same', **kwargs)(x)\n",
    "    x = tf.nn.depth_to_space(x, block_size=factor)\n",
    "    return x"
   ]
  },
  {
   "cell_type": "code",
   "execution_count": null,
   "metadata": {},
   "outputs": [],
   "source": [
    "# make model\n",
    "def func_make_model(num_filters, num_of_residual_blocks):\n",
    "    # Flexible Inputs to input_layer\n",
    "    input_layer = layers.Input(shape=(None, None, 3))\n",
    "    # Scaling Pixel Values\n",
    "    x = layers.Rescaling(scale=1.0 / 255)(input_layer)\n",
    "    x = x_new = layers.Conv2D(num_filters, 3, padding=\"same\")(x)\n",
    "\n",
    "    # 16 residual blocks\n",
    "    for _ in range(num_of_residual_blocks):\n",
    "        x_new = func_resblock(x_new)\n",
    "\n",
    "    x_new = layers.Conv2D(num_filters, 3, padding=\"same\")(x_new)\n",
    "    x = layers.Add()([x, x_new])\n",
    "\n",
    "    x = func_upsampling(x)\n",
    "    x = layers.Conv2D(3, 3, padding=\"same\")(x)\n",
    "\n",
    "    output_layer = layers.Rescaling(scale=255)(x)\n",
    "    return EDSRModel(input_layer, output_layer)"
   ]
  },
  {
   "cell_type": "code",
   "execution_count": null,
   "metadata": {},
   "outputs": [],
   "source": [
    "model = func_make_model(num_filters=64, num_of_residual_blocks=16)"
   ]
  },
  {
   "cell_type": "code",
   "execution_count": 26,
   "metadata": {},
   "outputs": [
    {
     "name": "stdout",
     "output_type": "stream",
     "text": [
      "Epoch 1/100\n"
     ]
    },
    {
     "ename": "",
     "evalue": "",
     "output_type": "error",
     "traceback": [
      "\u001b[1;31mCanceled future for execute_request message before replies were done"
     ]
    },
    {
     "ename": "",
     "evalue": "",
     "output_type": "error",
     "traceback": [
      "\u001b[1;31m현재 셀 또는 이전 셀에서 코드를 실행하는 동안 Kernel이 충돌했습니다. 셀의 코드를 검토하여 오류의 가능한 원인을 식별하세요. 자세한 내용을 보려면 <a href='https://aka.ms/vscodeJupyterKernelCrash'> 여기 </a> 를 클릭하세요. 자세한 내용은 Jupyter <a href='command:jupyter.viewOutput'>로그</a>를 참조하세요."
     ]
    }
   ],
   "source": [
    "# Using adam optimizer with initial learning rate as 1e-4, changing learning rate after 5000 steps to 5e-5\n",
    "optim_edsr = keras.optimizers.Adam(\n",
    "    learning_rate=keras.optimizers.schedules.PiecewiseConstantDecay(\n",
    "        boundaries=[5000], values=[1e-4, 5e-5]\n",
    "    )\n",
    ")\n",
    "# Compiling model with loss as mean absolute error(L1 Loss) and metric as psnr\n",
    "model.compile(optimizer=optim_edsr, loss=\"mae\", metrics=[PSNR])\n",
    "# Training for more epochs will improve results\n",
    "model.fit(train_ds, epochs=100, steps_per_epoch=200, validation_data=val_ds)"
   ]
  },
  {
   "cell_type": "code",
   "execution_count": null,
   "metadata": {},
   "outputs": [],
   "source": []
  }
 ],
 "metadata": {
  "kernelspec": {
   "display_name": "Python 3",
   "language": "python",
   "name": "python3"
  },
  "language_info": {
   "codemirror_mode": {
    "name": "ipython",
    "version": 3
   },
   "file_extension": ".py",
   "mimetype": "text/x-python",
   "name": "python",
   "nbconvert_exporter": "python",
   "pygments_lexer": "ipython3",
   "version": "3.7.9"
  },
  "orig_nbformat": 4
 },
 "nbformat": 4,
 "nbformat_minor": 2
}
