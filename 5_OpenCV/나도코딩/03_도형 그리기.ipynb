{
 "cells": [
  {
   "attachments": {},
   "cell_type": "markdown",
   "metadata": {},
   "source": [
    "##### 도형그리기\n",
    "- 각 사물의 위치 정보 위에 도형을 그린다."
   ]
  },
  {
   "cell_type": "code",
   "execution_count": 5,
   "metadata": {},
   "outputs": [],
   "source": [
    "## 빈 스케치북 만들기\n",
    "import cv2\n",
    "import numpy as np\n",
    "\n",
    "## 세로 480 x 가로 640, channel(RGB) 에 해당하는 스케치북 만들기\n",
    "img = np.zeros((480, 640, 3), dtype=np.uint8)       ## 전체 공간을 검은색으로 채우기\n",
    "# img[:] = (255, 255, 255)                            ## 전체 공간을 흰색으로 채우기  \n",
    "# print(img)\n",
    "\n",
    "cv2.imshow('img', img)\n",
    "cv2.waitKey(0)\n",
    "cv2.destroyAllWindows()"
   ]
  },
  {
   "attachments": {},
   "cell_type": "markdown",
   "metadata": {},
   "source": [
    "##### 일부 영역 색칠"
   ]
  },
  {
   "cell_type": "code",
   "execution_count": 6,
   "metadata": {},
   "outputs": [],
   "source": [
    "import cv2\n",
    "import numpy as np\n",
    "\n",
    "## 세로 480 x 가로 640, channel(RGB) 에 해당하는 스케치북 만들기\n",
    "img = np.zeros((480, 640, 3), dtype=np.uint8)       ## 전체 공간을 검은색으로 채우기\n",
    "img[100:200, 200:300] =(255, 255, 255)              ## 100:200 세로영역 / 200:300 가로영역 / (255, 255, 255) 어떤 색깔을 그릴지\n",
    "\n",
    "\n",
    "cv2.imshow('img', img)\n",
    "cv2.waitKey(0)\n",
    "cv2.destroyAllWindows()"
   ]
  },
  {
   "attachments": {},
   "cell_type": "markdown",
   "metadata": {},
   "source": [
    "##### 직선그리기\n",
    "- 직선의 종류(line type)\n",
    "\n",
    "1. cv2.LINE_4: 상하좌우 4 방향으로 연결된 선\n",
    "2. cv2.LINE_8: 대각선을 포함한 8방향으로 연결된 선(기본값)\n",
    "3. cv2.LINE_AA: 부드러운 선(anti-aliasing)"
   ]
  },
  {
   "cell_type": "code",
   "execution_count": 7,
   "metadata": {},
   "outputs": [],
   "source": [
    "import cv2\n",
    "import numpy as np\n",
    "img = np.zeros((480, 640, 3), dtype=np.uint8)\n",
    "\n",
    "COLOR = (0, 255, 255)                               ## BGR: Yellow, 색깔\n",
    "THICKNESS = 3                                       ## 두께\n",
    "\n",
    "## 파일 위치,  시작점,     끝점,   , color,  두께,     선종류\n",
    "cv2.line(img, (50, 100), (400, 50), COLOR, THICKNESS, cv2.LINE_8)\n",
    "cv2.line(img, (50, 200), (400, 150), COLOR, THICKNESS, cv2.LINE_4)\n",
    "cv2.line(img, (50, 300), (400, 250), COLOR, THICKNESS, cv2.LINE_AA)\n",
    "\n",
    "cv2.imshow('img', img)\n",
    "cv2.waitKey(0)\n",
    "cv2.destroyAllWindows()\n"
   ]
  },
  {
   "attachments": {},
   "cell_type": "markdown",
   "metadata": {},
   "source": [
    "##### 원 그리기"
   ]
  },
  {
   "cell_type": "code",
   "execution_count": 10,
   "metadata": {},
   "outputs": [],
   "source": [
    "import cv2\n",
    "import numpy as np\n",
    "img = np.zeros((480, 640, 3), dtype=np.uint8)\n",
    "\n",
    "COLOR = (255, 255, 0)                               ## BGR: Yellow, 색깔\n",
    "RADIUS = 50                                         ## 반지름\n",
    "THICKNESS = 10                                      ## 두께\n",
    "\n",
    "## 파일위치,     원의 중심,  반지름크기, 색깔, 두께,   선종류\n",
    "cv2.circle(img, (200, 100), RADIUS, COLOR, THICKNESS, cv2.LINE_AA)\n",
    "cv2.circle(img, (400, 100), RADIUS, COLOR, cv2.FILLED, cv2.LINE_AA)\n",
    "\n",
    "cv2.imshow('img', img)\n",
    "cv2.waitKey(0)\n",
    "cv2.destroyAllWindows()\n"
   ]
  },
  {
   "attachments": {},
   "cell_type": "markdown",
   "metadata": {},
   "source": [
    "##### 사각형"
   ]
  },
  {
   "cell_type": "code",
   "execution_count": 13,
   "metadata": {},
   "outputs": [],
   "source": [
    "import cv2\n",
    "import numpy as np\n",
    "img = np.zeros((480, 640, 3), dtype=np.uint8)\n",
    "\n",
    "COLOR = (0, 255, 0)                               ## BGR: Yellow, 색깔\n",
    "THICKNESS = 3                                     ## 두께\n",
    "\n",
    "## 파일위치, 왼쪽 위 좌표,  오른쪽 아래 좌표, 색깔, 두께\n",
    "cv2.rectangle(img, (100, 100), (200, 200), COLOR, THICKNESS)\n",
    "cv2.rectangle(img, (300, 100), (400, 300), COLOR, cv2.FILLED)\n",
    "\n",
    "cv2.imshow('img', img)\n",
    "cv2.waitKey(0)\n",
    "cv2.destroyAllWindows()\n"
   ]
  },
  {
   "attachments": {},
   "cell_type": "markdown",
   "metadata": {},
   "source": [
    "##### 다각형"
   ]
  },
  {
   "cell_type": "code",
   "execution_count": 24,
   "metadata": {},
   "outputs": [],
   "source": [
    "import cv2\n",
    "import numpy as np\n",
    "img = np.zeros((480, 640, 3), dtype=np.uint8)\n",
    "\n",
    "COLOR = (0, 0, 255)                               ## BGR: Yellow, 색깔\n",
    "THICKNESS = 3                                     ## 두께\n",
    "\n",
    "pts1 = np.array([[100, 100], [200, 100], [100, 200]])\n",
    "pts2 = np.array([[200, 100], [300, 100], [300, 200]])\n",
    "\n",
    "pts3 = np.array([[100, 300], [200, 300], [100, 400]])\n",
    "pts4 = np.array([[200, 300], [300, 300], [300, 400]])\n",
    "\n",
    "## 1) 삼각형을 각각 그리기\n",
    "## 파일위치, 점의 좌표, 닫힌 여부, 색깔, 두께\n",
    "cv2.polylines(img, [pts1], True, COLOR, THICKNESS, cv2.LINE_AA)\n",
    "cv2.polylines(img, [pts2], True, COLOR, THICKNESS, cv2.LINE_AA)\n",
    "\n",
    "## 2) list 형태로 한번에 감싸기\n",
    "## pts가 list 형태이기에 아래와 같이 list안에 들어갈 수 있음.\n",
    "cv2.polylines(img, [pts3, pts4], True, COLOR, THICKNESS, cv2.LINE_AA)\n",
    "\n",
    "## 3) 한번에 np.array안에 포함시키기 & 삼각형 채우기\n",
    "pts5 = np.array([[[100, 400], [200, 400], [100, 500]], [[200, 400], [300, 400], [300, 500]]])\n",
    "cv2.fillPoly(img, pts5, COLOR, cv2.LINE_AA) \n",
    "\n",
    "cv2.imshow('img', img)\n",
    "cv2.waitKey(0)\n",
    "cv2.destroyAllWindows()"
   ]
  }
 ],
 "metadata": {
  "kernelspec": {
   "display_name": "Python 3",
   "language": "python",
   "name": "python3"
  },
  "language_info": {
   "codemirror_mode": {
    "name": "ipython",
    "version": 3
   },
   "file_extension": ".py",
   "mimetype": "text/x-python",
   "name": "python",
   "nbconvert_exporter": "python",
   "pygments_lexer": "ipython3",
   "version": "3.7.9"
  },
  "orig_nbformat": 4,
  "vscode": {
   "interpreter": {
    "hash": "1f2ac25b4a6d870602abfa5d74e7d6f1ae274ba9e86645830384575c0e5c89f3"
   }
  }
 },
 "nbformat": 4,
 "nbformat_minor": 2
}
