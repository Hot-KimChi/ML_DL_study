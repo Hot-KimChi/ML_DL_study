{
 "cells": [
  {
   "cell_type": "markdown",
   "id": "fbfa413c",
   "metadata": {
    "pycharm": {
     "name": "#%% md\n"
    }
   },
   "source": [
    "# Train set와 Test set를 분리하는 이유\n",
    "\n",
    ">1) 일반적으로 머신러닝 모델에서는 Train 데이터를 100% 학습시킨 후 Test 데이터에 모델을 적용했을 때 성능을 확인\n",
    "\n",
    ">2) 위와 같은 sequence로 진행했을 경우, Train 데이터의 성능이 Test 데이터의 성능보다 높게 나온다.(99.9%) ==> overfitting."
   ]
  },
  {
   "cell_type": "markdown",
   "id": "47787924",
   "metadata": {
    "pycharm": {
     "name": "#%% md\n"
    }
   },
   "source": [
    "# Goal\n",
    ">* 머신러닝 알고리즘이 훈련 데이터셋에 잘 작동하고 새로운 데이터에서도 잘 일반화되는지 확인\n",
    "\n",
    ">1) 데이터셋을 랜덤하게 훈련 데이터셋과 테스트 데이터셋으로 나눈다.\n",
    "\n",
    ">2) 훈련 데이터셋에서 머신 러닝 모델을 훈련하고 최적화\n",
    "\n",
    ">3) 테스트 데이터셋은 별도로 보관하고 최종 모델 평가는 맨 마지막에 수행."
   ]
  },
  {
   "attachments": {
    "image.png": {
     "image/png": "[encoded data removed]"
    }
   },
   "cell_type": "markdown",
   "id": "b5dfe04f",
   "metadata": {
    "pycharm": {
     "name": "#%% md\n"
    }
   },
   "source": [
    "* sklearn.model_selection에서 train_test_split 함수 사용\n",
    "\n",
    "![image.png](attachment:image.png)\n",
    "\n",
    ">1) test_size: 테스트 셋 구성의 비율을 표현. 0.3는 전체 데이터 셋의 30%를 test 셋으로 지정하겠다는 의미. \n",
    "    >* default 값은 0.25\n",
    "    >* train_size의 옵션과 반대.\n",
    "\n",
    ">2) shuffle: default=True 입니다. split을 해주기 이전에 섞을건지 여부입니다. 보통은 default 값으로 설정.\n",
    "\n",
    ">3) stratify: default=None 입니다. \n",
    "    >* classification을 다룰 때 매우 중요한 옵션값 \n",
    "    >* stratify 값을 target으로 지정해주면 각각의 class 비율(ratio)을 train / test에 유지해 줍니다.(한 쪽에 쏠려서 분배되는 것을 방지) \n",
    "    >* 만약 이 옵션을 지정해 주지 않고 classification 문제를 다룬다면, 성능의 차이가 많이 발생.\n",
    "\n",
    ">4) random_state: 세트를 섞을 때 해당 int 값을 보고 섞는다.\n",
    "    >* 하이퍼 파라미터를 튜닝시 이 값을 고정해두고 튜닝해야 매번 데이터셋이 변경되는 것을 방지."
   ]
  }
 ],
 "metadata": {
  "kernelspec": {
   "display_name": "Python 3 (ipykernel)",
   "language": "python",
   "name": "python3"
  },
  "language_info": {
   "codemirror_mode": {
    "name": "ipython",
    "version": 3
   },
   "file_extension": ".py",
   "mimetype": "text/x-python",
   "name": "python",
   "nbconvert_exporter": "python",
   "pygments_lexer": "ipython3",
   "version": "3.7.9"
  }
 },
 "nbformat": 4,
 "nbformat_minor": 5
}
