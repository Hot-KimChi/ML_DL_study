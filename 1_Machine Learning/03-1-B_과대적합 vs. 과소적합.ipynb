{
 "cells": [
  {
   "cell_type": "markdown",
   "id": "e18d1019",
   "metadata": {},
   "source": [
    "## 훈련세트로 훈련하면, 보통 훈련세트의 R^2값이 더 높게 나온다.\n",
    "## 훈련세트 R^2 >> 테스트세트 R^2\n",
    "- 과대적합 overfitting: 실전 투입 시, 새로운 샘플에 대한 예측값이 잘 맞지 않는다.\n",
    "- 해결책: k 개수를 올려서, 여러 데이터를 반영.\n",
    "\n",
    "## 훈련세트 R^2 << 테스트세트 R^2 또는 둘다 낮은 경우\n",
    "- 과소적합 underfitting: 모델이 너무 단순해서 훈련세트에 적절히 훈련되지 않은 경우\n",
    "- 해결책\n",
    "    - k 개수를 내려서 모델을 복잡하게 혹은 국지적인 패턴에 민감하게 변경\n",
    "- 훈련세트와 데이터의 세트의 크기가 작기 때문에 발생."
   ]
  }
 ],
 "metadata": {
  "kernelspec": {
   "display_name": "Python 3 (ipykernel)",
   "language": "python",
   "name": "python3"
  },
  "language_info": {
   "codemirror_mode": {
    "name": "ipython",
    "version": 3
   },
   "file_extension": ".py",
   "mimetype": "text/x-python",
   "name": "python",
   "nbconvert_exporter": "python",
   "pygments_lexer": "ipython3",
   "version": "3.7.9"
  }
 },
 "nbformat": 4,
 "nbformat_minor": 5
}
