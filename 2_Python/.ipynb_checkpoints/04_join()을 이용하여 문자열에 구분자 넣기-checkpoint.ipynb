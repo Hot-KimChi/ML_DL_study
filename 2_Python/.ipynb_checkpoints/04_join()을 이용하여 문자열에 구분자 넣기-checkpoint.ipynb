{
 "cells": [
  {
   "cell_type": "markdown",
   "id": "55db458f",
   "metadata": {},
   "source": [
    "## 문자열에 문자 추가 & 구분자 넣기\n",
    "- '+' 연산자 사용\n",
    "- .join() method 사용"
   ]
  },
  {
   "cell_type": "markdown",
   "id": "f3ab6b0c",
   "metadata": {},
   "source": [
    "## + 연산자\n",
    "### 1) 두 문자열을 연결 또는 여러 문자열을 간단하게 연결할 때 사용."
   ]
  },
  {
   "cell_type": "code",
   "execution_count": 9,
   "id": "4654af36",
   "metadata": {},
   "outputs": [
    {
     "name": "stdout",
     "output_type": "stream",
     "text": [
      "python 재미있다.\n"
     ]
    }
   ],
   "source": [
    "print('python' + ' 재미있다.')"
   ]
  },
  {
   "cell_type": "markdown",
   "id": "eb3c731c",
   "metadata": {},
   "source": [
    "-------------"
   ]
  },
  {
   "cell_type": "markdown",
   "id": "9b5326d9",
   "metadata": {},
   "source": [
    "## .join() method with for문\n",
    "### 1) 숫자열 혹은 모든 반복 가능한 객체 요소를 연결하여 문자를 문자열에 추가"
   ]
  },
  {
   "cell_type": "code",
   "execution_count": 5,
   "id": "db89eb0d",
   "metadata": {},
   "outputs": [
    {
     "name": "stdout",
     "output_type": "stream",
     "text": [
      "246810\n"
     ]
    }
   ],
   "source": [
    "## 숫자로 이루어진 숫자열 생성.\n",
    "array_a = [2, 4, 6, 8, 10]\n",
    "str_a = ''.join(str(a) for a in array_a)\n",
    "\n",
    "print(str_a)"
   ]
  },
  {
   "cell_type": "markdown",
   "id": "a822756c",
   "metadata": {},
   "source": [
    "### 2) 중간에 구분자를 포함하고 싶을 경우"
   ]
  },
  {
   "cell_type": "code",
   "execution_count": 7,
   "id": "14e928c3",
   "metadata": {},
   "outputs": [
    {
     "name": "stdout",
     "output_type": "stream",
     "text": [
      "2, 4, 6, 8, 10\n"
     ]
    }
   ],
   "source": [
    "str_a2 = ', '.join(str(a) for a in array_a)\n",
    "print(str_a2)"
   ]
  },
  {
   "cell_type": "markdown",
   "id": "3dca12e1",
   "metadata": {},
   "source": [
    "## 전체 앞뒤에 '(' + ')'을 넣고 싶을 경우."
   ]
  },
  {
   "cell_type": "code",
   "execution_count": 8,
   "id": "8a0f9b76",
   "metadata": {},
   "outputs": [
    {
     "name": "stdout",
     "output_type": "stream",
     "text": [
      "(2, 4, 6, 8, 10)\n"
     ]
    }
   ],
   "source": [
    "str_a3 = '(' + ', '.join(str(a) for a in array_a) + ')'\n",
    "print(str_a3)"
   ]
  }
 ],
 "metadata": {
  "kernelspec": {
   "display_name": "Python 3 (ipykernel)",
   "language": "python",
   "name": "python3"
  },
  "language_info": {
   "codemirror_mode": {
    "name": "ipython",
    "version": 3
   },
   "file_extension": ".py",
   "mimetype": "text/x-python",
   "name": "python",
   "nbconvert_exporter": "python",
   "pygments_lexer": "ipython3",
   "version": "3.7.9"
  }
 },
 "nbformat": 4,
 "nbformat_minor": 5
}
